{
  "nbformat": 4,
  "nbformat_minor": 0,
  "metadata": {
    "kernelspec": {
      "display_name": "Python 3",
      "language": "python",
      "name": "python3"
    },
    "language_info": {
      "codemirror_mode": {
        "name": "ipython",
        "version": 3
      },
      "file_extension": ".py",
      "mimetype": "text/x-python",
      "name": "python",
      "nbconvert_exporter": "python",
      "pygments_lexer": "ipython3",
      "version": "3.7.4"
    },
    "colab": {
      "name": "linear_algebra-1.ipynb",
      "provenance": []
    }
  },
  "cells": [
    {
      "cell_type": "code",
      "metadata": {
        "id": "XqGeyT1KdqYm",
        "colab_type": "code",
        "colab": {}
      },
      "source": [
        "%load_ext autoreload\n",
        "%autoreload 2\n",
        "\n",
        "%matplotlib inline"
      ],
      "execution_count": 0,
      "outputs": []
    },
    {
      "cell_type": "markdown",
      "metadata": {
        "id": "8P1OZeMfdqYs",
        "colab_type": "text"
      },
      "source": [
        "## Basic setup"
      ]
    },
    {
      "cell_type": "markdown",
      "metadata": {
        "id": "NtmIpQupdqYu",
        "colab_type": "text"
      },
      "source": [
        "Create anaconda environnement\n",
        "<br>\n",
        "```bash\n",
        "conda create -n ml python=3.7.4 jupyter\n",
        "```\n",
        "Install fastai library\n",
        "<br>\n",
        "```bash\n",
        "conda install -c pytorch -c fastai fastai\n",
        "```"
      ]
    },
    {
      "cell_type": "markdown",
      "metadata": {
        "id": "PFtJtCzpdqYv",
        "colab_type": "text"
      },
      "source": [
        "# Set theory basics"
      ]
    },
    {
      "cell_type": "markdown",
      "metadata": {
        "id": "DPH0UcbqdqYw",
        "colab_type": "text"
      },
      "source": [
        "Set (small) collection of mathematical (unique) elements $\\{x, y, z, ...\\}$, for instance set of integers $\\{1, 2, 3, ...\\}$, set of real numbers $\\mathbb{R}$ numbers. We can describe set with it's property, e.g. set of real numbers between $1$ and $5$ will be $\\{x | x \\in \\mathbb{R}, 1\\leq x \\leq 5 \\}$."
      ]
    },
    {
      "cell_type": "code",
      "metadata": {
        "id": "HCvYENwWdqYx",
        "colab_type": "code",
        "colab": {
          "base_uri": "https://localhost:8080/",
          "height": 34
        },
        "outputId": "5ec72061-716d-49b8-8400-7b15c85a01ca"
      },
      "source": [
        "S = set([2, 4])\n",
        "A = {1, 2, 3, 4, 4}\n",
        "B = {2, 4}\n",
        "C = {1, 2, 18, 28}\n",
        "type(S), type(A), type(B), A"
      ],
      "execution_count": 2,
      "outputs": [
        {
          "output_type": "execute_result",
          "data": {
            "text/plain": [
              "(set, set, set, {1, 2, 3, 4})"
            ]
          },
          "metadata": {
            "tags": []
          },
          "execution_count": 2
        }
      ]
    },
    {
      "cell_type": "markdown",
      "metadata": {
        "id": "kuherr39dqY1",
        "colab_type": "text"
      },
      "source": [
        "We sey that element $a \\in A$ if element $a$ belongs to set $A$ and $a \\notin A$ in other case"
      ]
    },
    {
      "cell_type": "code",
      "metadata": {
        "id": "69MkVVQZdqY2",
        "colab_type": "code",
        "colab": {
          "base_uri": "https://localhost:8080/",
          "height": 34
        },
        "outputId": "24c66c5c-4569-4ff4-fc02-80c691590683"
      },
      "source": [
        "1 in A, 2 in B, 3 in C"
      ],
      "execution_count": 3,
      "outputs": [
        {
          "output_type": "execute_result",
          "data": {
            "text/plain": [
              "(True, True, False)"
            ]
          },
          "metadata": {
            "tags": []
          },
          "execution_count": 3
        }
      ]
    },
    {
      "cell_type": "markdown",
      "metadata": {
        "id": "ii93DDw4dqY6",
        "colab_type": "text"
      },
      "source": [
        "Note: sometimes we write $a, b \\in A$ (or $a, b, c \\in A$, $a,b,c,d \\in A$, $a_1, a_2, ..., a_n \\in A$) instead of $a \\in A$ and $b \\in A$ (or $a \\in A$ and $b \\in A$ and $c \\in A$, $a \\in A$ and $b \\in A$ and $c \\in A$ and $d \\in A$, $a_1 \\in A$ and $a_2 \\in A$ and ... $a_n \\in A$)"
      ]
    },
    {
      "cell_type": "markdown",
      "metadata": {
        "id": "oAJ4i5q8dqY7",
        "colab_type": "text"
      },
      "source": [
        "Set (category) of all \"small\" sets $Set$"
      ]
    },
    {
      "cell_type": "markdown",
      "metadata": {
        "id": "9Ln_paB5dqY8",
        "colab_type": "text"
      },
      "source": [
        "Subset $B \\subseteq A$ if for every $x$ element of $B$, $x \\in A$ "
      ]
    },
    {
      "cell_type": "code",
      "metadata": {
        "id": "9k44A76tdqY9",
        "colab_type": "code",
        "colab": {
          "base_uri": "https://localhost:8080/",
          "height": 34
        },
        "outputId": "141f5fc9-3918-463a-b605-a320b4f55aaf"
      },
      "source": [
        "B.issubset(A), A.issubset(B)"
      ],
      "execution_count": 4,
      "outputs": [
        {
          "output_type": "execute_result",
          "data": {
            "text/plain": [
              "(True, False)"
            ]
          },
          "metadata": {
            "tags": []
          },
          "execution_count": 4
        }
      ]
    },
    {
      "cell_type": "markdown",
      "metadata": {
        "id": "vAKqsgwRdqZB",
        "colab_type": "text"
      },
      "source": [
        "Prove that $A \\subseteq A$\n",
        "# Proof: \n",
        "$\\forall x \\in A$, $x$ also belongs to $A$, so by definition $A\\subseteq A$.  "
      ]
    },
    {
      "cell_type": "markdown",
      "metadata": {
        "id": "cP82iSgDdqZC",
        "colab_type": "text"
      },
      "source": [
        "Proper subset $B \\subset A$ if for every element $b \\in B$: $A \\in A$ and there exists $a \\in a$ such that: $a \\notin B$, or in other words $B \\subseteq A$ and $B \\neq A$"
      ]
    },
    {
      "cell_type": "markdown",
      "metadata": {
        "id": "7ZNIGvOLdqZD",
        "colab_type": "text"
      },
      "source": [
        "If $A \\subseteq B$ and $B \\subseteq A$ $\\to$ $A = B$"
      ]
    },
    {
      "cell_type": "markdown",
      "metadata": {
        "id": "VUHR7hWZdqZE",
        "colab_type": "text"
      },
      "source": [
        "Empty set a $\\emptyset$ is a set without elements at all and which is contained in any set $\\emptyset \\subseteq A$ for any $A \\in Set$ so $\\emptyset$ is the \"smallest\" set (Proof it)\n",
        "#Proof\n",
        "Lets say there $\\exists B \\in Set$, which is \"smaller\" than $\\emptyset$. In other words: $B \\subseteq \\emptyset$. \\\n",
        "1) Consider set $B$ is not empty and it contains some element $x$. So by assumtion $B \\subseteq \\emptyset$, then $x \\in$ $\\emptyset$. This contradicts with definition of $\\emptyset$ - it contains no elements. \\\n",
        "2) Consider now set $B \\in Set$ contains no elements and $B \\subseteq \\emptyset$. However, by definition of empty set $\\emptyset$, it is contained in any set $A \\in Set$, and this is also true for set $B$, i.e. $\\emptyset \\subseteq B$. So finally we come to $B = \\emptyset$ and this means that $\\emptyset$ is the \"smallest\" set."
      ]
    },
    {
      "cell_type": "code",
      "metadata": {
        "id": "wNVSX3_bdqZF",
        "colab_type": "code",
        "colab": {}
      },
      "source": [
        "#O = set() \n",
        "O = {}\n",
        "type(O)"
      ],
      "execution_count": 0,
      "outputs": []
    },
    {
      "cell_type": "markdown",
      "metadata": {
        "id": "bee-YqHWdqZI",
        "colab_type": "text"
      },
      "source": [
        "Intersection of two sets $A$ and $B$ $A \\cap B$ is a \"biggest\" subset of $A$ and $B$, that means for every set $C$ such that, $C \\subseteq A$ and $C \\subseteq B$ $\\to$ (implies) $C \\subseteq A\\cap B$"
      ]
    },
    {
      "cell_type": "code",
      "metadata": {
        "id": "WWF5kqqLdqZJ",
        "colab_type": "code",
        "colab": {
          "base_uri": "https://localhost:8080/",
          "height": 34
        },
        "outputId": "6cae3776-1870-46cb-b308-c60f8028dceb"
      },
      "source": [
        "A.intersection(B), A.intersection(C)"
      ],
      "execution_count": 5,
      "outputs": [
        {
          "output_type": "execute_result",
          "data": {
            "text/plain": [
              "({2, 4}, {1, 2})"
            ]
          },
          "metadata": {
            "tags": []
          },
          "execution_count": 5
        }
      ]
    },
    {
      "cell_type": "markdown",
      "metadata": {
        "id": "4Sj3mOI8dqZN",
        "colab_type": "text"
      },
      "source": [
        "Give an exmaples of two sets $A$ and $B$ for which $A \\cap B = \\emptyset$\n",
        "\n",
        "A={2,3}, B = {4,5}"
      ]
    },
    {
      "cell_type": "markdown",
      "metadata": {
        "id": "nnZY1bMvdqZO",
        "colab_type": "text"
      },
      "source": [
        "Prove that if $B \\subset A$ then $A \\cap B = B$\n",
        "#Proof\n",
        "1) we are given $B \\subset A$ and this means $\\forall x \\in B: x \\in A$, i.e. $x \\in A\\cap B$. $\\Longrightarrow$ $B \\subseteq A\\cap B$\\\n",
        "2) on the other hand, $\\forall x \\in A \\cap B: x \\in B$. i.e. $A \\cap B \\subseteq B$. \\\n",
        "From 1) and 2) we get: $A \\cap B = B$"
      ]
    },
    {
      "cell_type": "markdown",
      "metadata": {
        "id": "AJFcUcTldqZP",
        "colab_type": "text"
      },
      "source": [
        "Prove that $A \\cap B = B \\cap A$\n",
        "#Proof\n",
        "By definition $x \\in A \\cap  B = \\{x: x \\in A$ and $x \\in B \\} = \\{x: x \\in B$ and $x \\in A \\} = x \\in B \\cap  A$ "
      ]
    },
    {
      "cell_type": "markdown",
      "metadata": {
        "id": "g5WKDU7hdqZQ",
        "colab_type": "text"
      },
      "source": [
        "Union of two sets $A$ and $B$ $A \\cup B$ is a \"smallest\" set that contains both - $A$ and $B$, that means:\n",
        "for every set $D$ such that $A \\subseteq D$ and $B \\subseteq D$ $\\to$ (implies) $A \\cup B \\subseteq D$"
      ]
    },
    {
      "cell_type": "code",
      "metadata": {
        "id": "E5RSy0indqZR",
        "colab_type": "code",
        "colab": {
          "base_uri": "https://localhost:8080/",
          "height": 34
        },
        "outputId": "5c3a1de1-086c-47b3-c350-e55c584e5439"
      },
      "source": [
        "A, C, A.union(C), A.union(B) "
      ],
      "execution_count": 7,
      "outputs": [
        {
          "output_type": "execute_result",
          "data": {
            "text/plain": [
              "({1, 2, 3, 4}, {1, 2, 18, 28}, {1, 2, 3, 4, 18, 28}, {1, 2, 3, 4})"
            ]
          },
          "metadata": {
            "tags": []
          },
          "execution_count": 7
        }
      ]
    },
    {
      "cell_type": "markdown",
      "metadata": {
        "id": "wtj3B_1ddqZV",
        "colab_type": "text"
      },
      "source": [
        "Prove that if $B \\subset A$ then $A \\cup B = A$"
      ]
    },
    {
      "cell_type": "markdown",
      "metadata": {
        "id": "hZx_vsFFdqZW",
        "colab_type": "text"
      },
      "source": [
        "Prove that $A \\cap B = B \\cap A$ that $A \\cup B = B \\cup A$"
      ]
    },
    {
      "cell_type": "markdown",
      "metadata": {
        "id": "2ynvAy7vdqZX",
        "colab_type": "text"
      },
      "source": [
        "Difference between two sets $A$ snd $B$ is the set $A - B$ or $A \\ B$ for which $a \\in A - B$ if $a \\in A$ and $a \\notin B$"
      ]
    },
    {
      "cell_type": "code",
      "metadata": {
        "id": "CydWYbHcdqZY",
        "colab_type": "code",
        "colab": {
          "base_uri": "https://localhost:8080/",
          "height": 34
        },
        "outputId": "aaa2cf58-57d8-4584-aa60-04c569fcb6ec"
      },
      "source": [
        "A - B, A - C, C - A, A, B, C"
      ],
      "execution_count": 8,
      "outputs": [
        {
          "output_type": "execute_result",
          "data": {
            "text/plain": [
              "({1, 3}, {3, 4}, {18, 28}, {1, 2, 3, 4}, {2, 4}, {1, 2, 18, 28})"
            ]
          },
          "metadata": {
            "tags": []
          },
          "execution_count": 8
        }
      ]
    },
    {
      "cell_type": "markdown",
      "metadata": {
        "id": "Ax41uUKNdqZc",
        "colab_type": "text"
      },
      "source": [
        "For set $A$ and subset $B$ we denote $A - B$ with $\\overline{B}$ or $B^{C}$"
      ]
    },
    {
      "cell_type": "markdown",
      "metadata": {
        "id": "3N0bqPE5dqZe",
        "colab_type": "text"
      },
      "source": [
        "Set of subsets (powerset) of the set $X$ will be $2^X = \\{A | A \\subseteq X\\}$"
      ]
    },
    {
      "cell_type": "code",
      "metadata": {
        "id": "HC8VUY_qA7SO",
        "colab_type": "code",
        "colab": {}
      },
      "source": [
        "chain?"
      ],
      "execution_count": 0,
      "outputs": []
    },
    {
      "cell_type": "code",
      "metadata": {
        "id": "iELXDWucdqZf",
        "colab_type": "code",
        "colab": {
          "base_uri": "https://localhost:8080/",
          "height": 374
        },
        "outputId": "120474a5-4938-44a0-e858-95c527e638f7"
      },
      "source": [
        "from itertools import combinations, chain\n",
        "pset = chain.from_iterable(combinations(A, r) for r in range(len(A)+1))\n",
        "P_A = set(pset)\n",
        "A, P_A, len(A), len(P_A), 2**(len(A)), len(P_A) == 2**(len(A))"
      ],
      "execution_count": 9,
      "outputs": [
        {
          "output_type": "execute_result",
          "data": {
            "text/plain": [
              "({1, 2, 3, 4},\n",
              " {(),\n",
              "  (1,),\n",
              "  (1, 2),\n",
              "  (1, 2, 3),\n",
              "  (1, 2, 3, 4),\n",
              "  (1, 2, 4),\n",
              "  (1, 3),\n",
              "  (1, 3, 4),\n",
              "  (1, 4),\n",
              "  (2,),\n",
              "  (2, 3),\n",
              "  (2, 3, 4),\n",
              "  (2, 4),\n",
              "  (3,),\n",
              "  (3, 4),\n",
              "  (4,)},\n",
              " 4,\n",
              " 16,\n",
              " 16,\n",
              " True)"
            ]
          },
          "metadata": {
            "tags": []
          },
          "execution_count": 9
        }
      ]
    },
    {
      "cell_type": "markdown",
      "metadata": {
        "id": "BDFGO038dqZi",
        "colab_type": "text"
      },
      "source": [
        "Cartesian product of sets $A$ and $B$ in set of ordered pairs := $A\\times B = \\{(a, b) | a \\in A \\textrm{ and } b\\in B\\}$"
      ]
    },
    {
      "cell_type": "code",
      "metadata": {
        "id": "ldiOmGGtdqZl",
        "colab_type": "code",
        "colab": {}
      },
      "source": [
        "AxB = {(a, b) for a in A for b in B}\n",
        "AxB, len(A), len(B), len(AxB)"
      ],
      "execution_count": 0,
      "outputs": []
    },
    {
      "cell_type": "code",
      "metadata": {
        "id": "YkOscND1dqZo",
        "colab_type": "code",
        "colab": {}
      },
      "source": [
        "#AxBxC = ?"
      ],
      "execution_count": 0,
      "outputs": []
    },
    {
      "cell_type": "markdown",
      "metadata": {
        "id": "4L80IlLCdqZs",
        "colab_type": "text"
      },
      "source": [
        "Exclusively for mathematicians $(a, b) = \\{a, \\{a, b\\}\\}$ and $A \\times B = \\{\\{a, \\{a, b\\}\\} | a \\in A \\textrm{ and } b\\in B\\}$"
      ]
    },
    {
      "cell_type": "markdown",
      "metadata": {
        "id": "oS4SLY2GdqZt",
        "colab_type": "text"
      },
      "source": [
        "Every subset $R$ of $AxB$ is called relation. We write $aRb$ iff $(a, b) \\in R$"
      ]
    },
    {
      "cell_type": "markdown",
      "metadata": {
        "id": "M7oOzZzidqZu",
        "colab_type": "text"
      },
      "source": [
        "Special cases of relations:"
      ]
    },
    {
      "cell_type": "markdown",
      "metadata": {
        "id": "hIqnx7BudqZv",
        "colab_type": "text"
      },
      "source": [
        "For every set $A$ the diagonal $\\Delta \\subseteq A \\times A$ is $\\{(a, a) | a \\in A\\}$"
      ]
    },
    {
      "cell_type": "code",
      "metadata": {
        "id": "5sk9HGo2dqZw",
        "colab_type": "code",
        "colab": {}
      },
      "source": [
        "#Delta = ? # Use list comprehension"
      ],
      "execution_count": 0,
      "outputs": []
    },
    {
      "cell_type": "markdown",
      "metadata": {
        "id": "8e7wsX2adqZ1",
        "colab_type": "text"
      },
      "source": [
        "Equivalence relation on the set $A$: $E \\subset A \\times A$ with properties:\n",
        "- For each $a \\in A$ $aEa$, which means that diagonal $\\Delta \\subseteq E$ (reflexive property)\n",
        "- For each $a, b \\in A$ iff $aEb$ then $bEa$ (symmetric property)\n",
        "- For each $a, b, c \\in A$ if $aEb$ and $bEc$ then $aEc$\n"
      ]
    },
    {
      "cell_type": "markdown",
      "metadata": {
        "id": "zhHhZ5AIdqZ3",
        "colab_type": "text"
      },
      "source": [
        "Partial order relation $\\leq$\n",
        "- For each $a \\in A$ $a \\leq a$, which means that diagonal $\\Delta \\subseteq E$ (reflexive property)\n",
        "- For each $a, b \\in A$ if $a \\leq b$ and $b\\leq a$ then $a = b$ (anti-symmetric property)\n",
        "- For each $a, b, c \\in A$ if $a \\leq b$ and $b \\leq c$ then $a \\leq c$"
      ]
    },
    {
      "cell_type": "markdown",
      "metadata": {
        "id": "MnYNEYY7dqZ4",
        "colab_type": "text"
      },
      "source": [
        "Function, map $f$ between two sets $A$ and $B$ is the special relation such thet for every $a\\in A$ and every $b^{'}, b^{''} \\in B$ if $af{b^{'}}$ and $af{b^{''}}$ $\\to$ $b^{'}={b^{''}}$.\n"
      ]
    },
    {
      "cell_type": "markdown",
      "metadata": {
        "id": "keyP5wdGdqZ7",
        "colab_type": "text"
      },
      "source": [
        "We write : $f:A \\to B$ or $A \\xrightarrow{f} B$ instead of $f \\subseteq A \\times B $ and $f(a)=b$ or $f:a \\mapsto b$ instead of $afb$"
      ]
    },
    {
      "cell_type": "markdown",
      "metadata": {
        "id": "xCCrwuNGdqZ9",
        "colab_type": "text"
      },
      "source": [
        "We write $f, g :A \\to B$ or $f_1, f_2, ..., f_n : A \\to B$ instead of $f: A\\to B$ and $g:A \\to B$ or  $f_1: A \\to B$ and $f_2 : A \\to B$ ... $f_n : A \\to B$"
      ]
    },
    {
      "cell_type": "code",
      "metadata": {
        "id": "s1xd86m1dqZ-",
        "colab_type": "code",
        "colab": {}
      },
      "source": [
        "f = lambda x: x**2\n",
        "A, set(map(f, A))"
      ],
      "execution_count": 0,
      "outputs": []
    },
    {
      "cell_type": "markdown",
      "metadata": {
        "id": "Ii0InfY_dqaC",
        "colab_type": "text"
      },
      "source": [
        "Composition of $f:A \\to B$ and $g:B \\to C$ is $g \\circ f : A \\to C$ where $a \\mapsto g(f(a))$ for each $a \\in A$"
      ]
    },
    {
      "cell_type": "markdown",
      "metadata": {
        "id": "evkq9xghdqaC",
        "colab_type": "text"
      },
      "source": [
        "or $A \\xrightarrow{f} B \\xrightarrow{g} C$ than $g \\circ f:A \\to C$"
      ]
    },
    {
      "cell_type": "markdown",
      "metadata": {
        "id": "Vlj5ZmO3dqaD",
        "colab_type": "text"
      },
      "source": [
        "Identity map $1_A:A \\to A$ is defined as $1_A(a) = a$ for each $a \\ int A$\n",
        "<br>\n",
        "If set is given we sometimes write $1:A \\to A$ for simplicity"
      ]
    },
    {
      "cell_type": "code",
      "metadata": {
        "id": "0EpBdRG5dqaE",
        "colab_type": "code",
        "colab": {}
      },
      "source": [
        "g = lambda y: y + 12\n",
        "gf = lambda x : g(f(x))\n",
        "A, set(map(g, set(map(f, A)))), set(map(gf, A))"
      ],
      "execution_count": 0,
      "outputs": []
    },
    {
      "cell_type": "markdown",
      "metadata": {
        "id": "Nq8ZWn6rdqaH",
        "colab_type": "text"
      },
      "source": [
        "Injection (monomorphism): $m:A \\to B$ is called injection if for eqch pair of elements $a^{'}, a^{''} \\in A$ if $f(a^{'}) = f(a^{''})$ $\\to$ $a^{'} = a^{''}$."
      ]
    },
    {
      "cell_type": "markdown",
      "metadata": {
        "id": "1msWfSlLdqaI",
        "colab_type": "text"
      },
      "source": [
        "Surjection (epimorphism): $p:A \\to B$ is called injection if for eqch pair of elements $a^{'}, a^{''} \\in A$ if $f(a^{'}) = f(a^{''})$ $\\to$ $a^{'} = a^{''}$."
      ]
    },
    {
      "cell_type": "markdown",
      "metadata": {
        "id": "8PyK5CRkdqaJ",
        "colab_type": "text"
      },
      "source": [
        "Prove that:\n",
        "- for every injection $m:A \\to B$ and pair of functions $f, g :C \\to A$: if $m \\circ f = m \\circ g$ then $f = g$ and vice-versa\n",
        "- for every surjection $e:A \\to B$ and every pair of functions $f, g :B \\to C$: if $f \\circ p = g \\circ p$ then $f = g$ and vice-versa"
      ]
    },
    {
      "cell_type": "markdown",
      "metadata": {
        "id": "U58VKCgWdqaK",
        "colab_type": "text"
      },
      "source": [
        "Bijection: $f: A \\to B$ is called bijection if $f$ is injection and surjection simultaneously"
      ]
    },
    {
      "cell_type": "markdown",
      "metadata": {
        "id": "J0PpuqAedqaL",
        "colab_type": "text"
      },
      "source": [
        "Prooof that \n",
        "- composition of injections is injection itself\n",
        "- composition of surjections is surjection itself\n",
        "- composition of bijections is bijection itself\n",
        "<br>\n",
        "or give a counterexamples"
      ]
    },
    {
      "cell_type": "markdown",
      "metadata": {
        "id": "mpioizgWdqaM",
        "colab_type": "text"
      },
      "source": [
        "If there exists a biujection between two sets $A$ and $B$, we call this two sets equivalent sets and write $A \\equiv B$ or $A \\cong B$"
      ]
    },
    {
      "cell_type": "markdown",
      "metadata": {
        "id": "mVtl4H3bdqaN",
        "colab_type": "text"
      },
      "source": [
        "Proove that for each set $A$:\n",
        "- $A \\cong A$\n",
        "- iff $B \\cong A$ then $B \\cong A$ for every pair of sets $A$ and $B$\n",
        "- if $A \\cong B$ and $B \\cong C$ then $A \\cong C$ for every triplet $A$, $B$ and $C$"
      ]
    },
    {
      "cell_type": "markdown",
      "metadata": {
        "id": "yqHhOEnidqaO",
        "colab_type": "text"
      },
      "source": [
        "Prooof that there exists bijection between set of natural and even numbers"
      ]
    },
    {
      "cell_type": "markdown",
      "metadata": {
        "id": "lzNMHg4YdqaP",
        "colab_type": "text"
      },
      "source": [
        "Proof thet if we have the bijection between two finity sets than they have an equal number of elements"
      ]
    },
    {
      "cell_type": "markdown",
      "metadata": {
        "id": "taAjAOS_dqaQ",
        "colab_type": "text"
      },
      "source": [
        "Prove that $A \\times B \\cong B \\times A$"
      ]
    },
    {
      "cell_type": "markdown",
      "metadata": {
        "id": "XmH3bMvedqaR",
        "colab_type": "text"
      },
      "source": [
        "Suppose we have a set $I$ and $A$ and bijection $i:I \\to 2^A$ than $I$ is called index set."
      ]
    },
    {
      "cell_type": "markdown",
      "metadata": {
        "id": "V-F8Ph_xdqaR",
        "colab_type": "text"
      },
      "source": [
        "Let $I = \\mathbb{N}$ the we have a sequence of sets $(A_1, A_2, ...)$, or if $I$ is finit then we have a finity sequence of sets"
      ]
    },
    {
      "cell_type": "markdown",
      "metadata": {
        "id": "4wKm3sOSdqaS",
        "colab_type": "text"
      },
      "source": [
        "We can generalize intersections and unions for as many sets as we want"
      ]
    },
    {
      "cell_type": "markdown",
      "metadata": {
        "id": "B9ZPTX0PdqaU",
        "colab_type": "text"
      },
      "source": [
        "$\\cap_{i\\in I}A_i$ and $\\cup_{i\\in I}A_i$"
      ]
    },
    {
      "cell_type": "code",
      "metadata": {
        "id": "qnbzXXbmdqaV",
        "colab_type": "code",
        "colab": {}
      },
      "source": [
        "# Inplement in python"
      ],
      "execution_count": 0,
      "outputs": []
    },
    {
      "cell_type": "markdown",
      "metadata": {
        "id": "xkApru2LdqaZ",
        "colab_type": "text"
      },
      "source": [
        "We can also define cartesian product of any \"number\" of sets $\\prod_{i \\in I}{A_i}$"
      ]
    },
    {
      "cell_type": "code",
      "metadata": {
        "id": "wmWLkI0hdqab",
        "colab_type": "code",
        "colab": {}
      },
      "source": [
        "# Inplement in python"
      ],
      "execution_count": 0,
      "outputs": []
    },
    {
      "cell_type": "markdown",
      "metadata": {
        "id": "FQSlBGOJdqaf",
        "colab_type": "text"
      },
      "source": [
        "- $\\overline{\\cap_{i\\in I}A_i} = \\cup_{i\\in I}\\overline{A_i}$\n",
        "- $\\overline{\\cup_{i\\in I}A_i} = \\cap_{i\\in I}\\overline{A_i}$\n",
        "<br>\n",
        "or\n",
        "<br>\n",
        "- $\\overline{A \\cap B} = \\overline{A} \\cup \\overline{B}$\n",
        "- $\\overline{A \\cup B} = \\overline{A} \\cap \\overline{B}$"
      ]
    },
    {
      "cell_type": "markdown",
      "metadata": {
        "id": "dYL2ciY6dqah",
        "colab_type": "text"
      },
      "source": [
        "Prove that:\n",
        "$$A \\cap (B \\cup C)=(A \\cap B) \\cup (A\\cap C)$$\n",
        "$$A \\cup (B \\cap C)=(A \\cup B) \\cap (A\\cup C)$$"
      ]
    },
    {
      "cell_type": "markdown",
      "metadata": {
        "id": "y8dG8dKhdqai",
        "colab_type": "text"
      },
      "source": [
        "# Linear Algebra"
      ]
    },
    {
      "cell_type": "markdown",
      "metadata": {
        "id": "Rq532mWYdqai",
        "colab_type": "text"
      },
      "source": [
        "Branch of mathematics widle used in many feilds. We'll introduce you to the essentials used in ML and DL.\n",
        "Many notions are simplified (sorry for mathematicians) for better ubderstanding and implementation.\n",
        "We'll implement some basics of LA in NumPy library and have a glance of it's use in CS fields."
      ]
    },
    {
      "cell_type": "markdown",
      "metadata": {
        "id": "skDbpJQpdqaj",
        "colab_type": "text"
      },
      "source": [
        "## Scalars"
      ]
    },
    {
      "cell_type": "markdown",
      "metadata": {
        "id": "Cp-erJD-dqak",
        "colab_type": "text"
      },
      "source": [
        "Real set of numbers $\\mathbb{R}$. Scalars as elements of the set of real numbers $x \\in \\mathbb{R}$ with sum, multiplication, etc.\n",
        "We define subset of numbers: natural numbers $\\mathbb{N}$, integers $\\mathbb{Z}$, rational numbers $\\mathbb{Q}$ and irrational numbers $\\mathbb{R}\\setminus\\mathbb{Q}$"
      ]
    },
    {
      "cell_type": "code",
      "metadata": {
        "id": "26CqcG3Tdqam",
        "colab_type": "code",
        "colab": {}
      },
      "source": [
        "m = 100. \n",
        "n = 5.0\n",
        "type(m), type(n), type(m + n), m + n"
      ],
      "execution_count": 0,
      "outputs": []
    },
    {
      "cell_type": "markdown",
      "metadata": {
        "id": "dr7ko5-Xdqao",
        "colab_type": "text"
      },
      "source": [
        "Take $a \\in \\mathbb{R}$ then for each $b \\in \\mathbb{R}$ there exists $\\alpha \\in \\mathbb{R}$ such that $b = \\alpha a$"
      ]
    },
    {
      "cell_type": "markdown",
      "metadata": {
        "id": "laRpnOU2dqap",
        "colab_type": "text"
      },
      "source": [
        "## Vectors"
      ]
    },
    {
      "cell_type": "markdown",
      "metadata": {
        "id": "yli-czjxdqas",
        "colab_type": "text"
      },
      "source": [
        "vectors can be considered as subset of cartesian product of $\\mathbb{R}$ ($\\mathbb{N}$, $\\mathbb{Z}$, $\\mathbb{Q}$, etc)\n",
        "<br>\n",
        "For instance vector $x = (x_1, x_2, \\dots, x_n)$ we can write $x \\in \\mathbb{R}^{n}$\n",
        "<br>"
      ]
    },
    {
      "cell_type": "code",
      "metadata": {
        "id": "F33uqz8Wdqat",
        "colab_type": "code",
        "colab": {}
      },
      "source": [
        "import numpy as np"
      ],
      "execution_count": 0,
      "outputs": []
    },
    {
      "cell_type": "code",
      "metadata": {
        "id": "tmfGzBlidqaw",
        "colab_type": "code",
        "colab": {}
      },
      "source": [
        "la = [1, 2, 3, 4]\n",
        "na = np.array([1,2,3,4,5])\n",
        "la, na"
      ],
      "execution_count": 0,
      "outputs": []
    },
    {
      "cell_type": "markdown",
      "metadata": {
        "id": "NHOZEFlTdqa0",
        "colab_type": "text"
      },
      "source": [
        "In many cases we'll work with collumn vectors like $\\begin{align}\n",
        "    x &= \\begin{bmatrix}\n",
        "           x_{1} \\\\\n",
        "           x_{2} \\\\\n",
        "           \\vdots \\\\\n",
        "           x_{m}\n",
        "         \\end{bmatrix}\n",
        "  \\end{align}$"
      ]
    },
    {
      "cell_type": "markdown",
      "metadata": {
        "id": "x9xrUtyVdqa1",
        "colab_type": "text"
      },
      "source": [
        "What is the difference between set $\\{a_1, a_2, \\dots, a_n\\}$ and vector $(a_1, a_2, \\dots, a_n)$?"
      ]
    },
    {
      "cell_type": "markdown",
      "metadata": {
        "id": "knpg3DYgdqa1",
        "colab_type": "text"
      },
      "source": [
        "Indexing the vectors"
      ]
    },
    {
      "cell_type": "code",
      "metadata": {
        "id": "S4IRbYJudqa2",
        "colab_type": "code",
        "colab": {}
      },
      "source": [
        "la[-1], la[2], la[2:], la[:-1], la[2:4]"
      ],
      "execution_count": 0,
      "outputs": []
    },
    {
      "cell_type": "code",
      "metadata": {
        "id": "ibw484B_dqa5",
        "colab_type": "code",
        "colab": {}
      },
      "source": [
        "na[-1], na[2], na[2:], na[:-1], na[2:4]"
      ],
      "execution_count": 0,
      "outputs": []
    },
    {
      "cell_type": "code",
      "metadata": {
        "id": "jvE5zgEFdqa8",
        "colab_type": "code",
        "colab": {}
      },
      "source": [
        "lid = [1, 2]\n",
        "na[lid]"
      ],
      "execution_count": 0,
      "outputs": []
    },
    {
      "cell_type": "code",
      "metadata": {
        "id": "Llj8wV5ydqbA",
        "colab_type": "code",
        "colab": {}
      },
      "source": [
        "nid = np.array(lid)"
      ],
      "execution_count": 0,
      "outputs": []
    },
    {
      "cell_type": "code",
      "metadata": {
        "id": "Ni9rysdFdqbG",
        "colab_type": "code",
        "colab": {}
      },
      "source": [
        "na[lid]"
      ],
      "execution_count": 0,
      "outputs": []
    },
    {
      "cell_type": "markdown",
      "metadata": {
        "id": "jUHSu-UkdqbK",
        "colab_type": "text"
      },
      "source": [
        "## Matrices"
      ]
    },
    {
      "cell_type": "markdown",
      "metadata": {
        "id": "87IiMUS8dqbM",
        "colab_type": "text"
      },
      "source": [
        "Matrix $X$ can be considered as mulitidimensional array \n",
        "$\\begin{align}\n",
        "    X &= \\begin{matrix}\n",
        "        x_{11} & x_{12} & \\dots x_{1m} \\\\\n",
        "        x_{21} & x_{22} & \\dots x_{2m} \\\\\n",
        "        \\vdots & \\vdots & \\vdots \\\\\n",
        "        x_{n1} & x_{n2} & \\dots x_{nm} \\\\\n",
        "    \\end{matrix}\n",
        "\\end{align}$\n",
        "or \n",
        "$\\begin{align}\n",
        "    X &= \\begin{pmatrix}\n",
        "        x_{11} & x_{12} & \\dots x_{1m} \\\\\n",
        "        x_{21} & x_{22} & \\dots x_{2m} \\\\\n",
        "        \\vdots & \\vdots & \\vdots \\\\\n",
        "        x_{n1} & x_{n2} & \\dots x_{nm} \\\\\n",
        "    \\end{pmatrix}\n",
        "\\end{align}$\n",
        "or\n",
        "$\\begin{align}\n",
        "    X &= \\begin{bmatrix}\n",
        "        x_{11} & x_{12} & \\dots x_{1m} \\\\\n",
        "        x_{21} & x_{22} & \\dots x_{2m} \\\\\n",
        "        \\vdots & \\vdots & \\vdots \\\\\n",
        "        x_{n1} & x_{n2} & \\dots x_{nm} \\\\\n",
        "    \\end{bmatrix}\n",
        "\\end{align}$\n",
        "<br>\n",
        "Matrix also can be defined by indices $A_{i, j}$ if we don't need concrete demensions"
      ]
    },
    {
      "cell_type": "markdown",
      "metadata": {
        "id": "8KmtBQEQdqbN",
        "colab_type": "text"
      },
      "source": [
        "We say that $X$ has $n \\times m$ dimension\n",
        "<br>\n",
        "or $X \\in \\mathbb{R}^{n \\times m}$"
      ]
    },
    {
      "cell_type": "markdown",
      "metadata": {
        "id": "ZGkECVqkdqbP",
        "colab_type": "text"
      },
      "source": [
        "e.g. $\\begin{align}\n",
        "    X &= \\begin{pmatrix}\n",
        "        1 & 2 & 3 \\\\\n",
        "        4 & 5 & 6 \\\\\n",
        "        7 & 8 & 9 \\\\\n",
        "    \\end{pmatrix}\n",
        "\\end{align}$\n",
        "<br>\n",
        "Then $X_{23} = 6$"
      ]
    },
    {
      "cell_type": "markdown",
      "metadata": {
        "id": "wS5EP0t-dqbQ",
        "colab_type": "text"
      },
      "source": [
        "Main diagonal of matrix $X$ are elements $x_{i,j}$ where $i = j$\n",
        "<br>\n",
        "$\\begin{align}\n",
        "    X &= \\begin{pmatrix}\n",
        "        x_{11} &  & \\dots \\\\\n",
        "         & x_{22} & \\dots \\\\\n",
        "        \\vdots & \\vdots & \\vdots \\\\\n",
        "         &  & \\dots x_{nm} \\\\\n",
        "    \\end{pmatrix}\n",
        "\\end{align}$\n"
      ]
    },
    {
      "cell_type": "code",
      "metadata": {
        "id": "G9381hqPdqbR",
        "colab_type": "code",
        "colab": {}
      },
      "source": [
        "lm = [[1, 2, 3], [4, 5, 6], [7, 8, 9]]\n",
        "nm = np.array(lm) # np.array([[1, 2, 3], [4, 5, 6]])\n",
        "print(lm)\n",
        "print(nm)"
      ],
      "execution_count": 0,
      "outputs": []
    },
    {
      "cell_type": "code",
      "metadata": {
        "id": "scnSaab3dqbU",
        "colab_type": "code",
        "colab": {}
      },
      "source": [
        "lm[1][2], nm[1][2]"
      ],
      "execution_count": 0,
      "outputs": []
    },
    {
      "cell_type": "code",
      "metadata": {
        "id": "qgdgU1XWdqbW",
        "colab_type": "code",
        "colab": {}
      },
      "source": [
        "lm[1:], nm[1:]"
      ],
      "execution_count": 0,
      "outputs": []
    },
    {
      "cell_type": "code",
      "metadata": {
        "id": "pEGdkNFndqba",
        "colab_type": "code",
        "colab": {}
      },
      "source": [
        "print(lm[1:2]) \n",
        "print(nm[1:, :]) \n",
        "nc_1 = nm[0, :]\n",
        "print(nc_1)\n",
        "nc_1[0] = 12\n",
        "nm, nc_1"
      ],
      "execution_count": 0,
      "outputs": []
    },
    {
      "cell_type": "code",
      "metadata": {
        "id": "THSBWyO0dqbc",
        "colab_type": "code",
        "colab": {}
      },
      "source": [
        "np.diag(nm, k=0)"
      ],
      "execution_count": 0,
      "outputs": []
    },
    {
      "cell_type": "markdown",
      "metadata": {
        "id": "7hPbfigAdqbe",
        "colab_type": "text"
      },
      "source": [
        "## Tensors"
      ]
    },
    {
      "cell_type": "markdown",
      "metadata": {
        "id": "6bsQ2czSdqbg",
        "colab_type": "text"
      },
      "source": [
        "Let's go to the higher dimesions and define tensor $X$ as part of $R^{n \\times m \\times k}$\n",
        "<br>\n",
        "then we have a three indices instead of two, and $x_{i, j, k}$ is the element of tensor $X$ across the $i, j$ and $k$ indices"
      ]
    },
    {
      "cell_type": "markdown",
      "metadata": {
        "id": "XSKzdgOFdqbh",
        "colab_type": "text"
      },
      "source": [
        "In similar manner we can define more than three dimensional tensors $X \\in \\mathbb{R}^{n_1 \\times n_2 \\times \\dots \\times n_p}$"
      ]
    },
    {
      "cell_type": "code",
      "metadata": {
        "id": "0T0VjoG1dqbl",
        "colab_type": "code",
        "colab": {}
      },
      "source": [
        "lt = [[[1, 2, 3], [4, 5, 6], [7, 8, 9]], [[10, 11, 12], [13, 14, 15], [16, 17, 18]]]\n",
        "mt = np.array(lt) # or np.array([[[1, 2, 3], [4, 5, 6], [7, 8, 9]], [[10, 11, 12], [13, 14, 15], [16, 17, 18]]])\n",
        "print(mt)\n",
        "print(lt)"
      ],
      "execution_count": 0,
      "outputs": []
    },
    {
      "cell_type": "code",
      "metadata": {
        "id": "GiwSKvkQdqbo",
        "colab_type": "code",
        "colab": {}
      },
      "source": [
        "mt = np.random.randint(0,100, size=(3, 3, 3))"
      ],
      "execution_count": 0,
      "outputs": []
    },
    {
      "cell_type": "code",
      "metadata": {
        "id": "D7EMkRGfdqbq",
        "colab_type": "code",
        "colab": {}
      },
      "source": [
        "mt"
      ],
      "execution_count": 0,
      "outputs": []
    },
    {
      "cell_type": "code",
      "metadata": {
        "id": "kEb1LLLCdqbs",
        "colab_type": "code",
        "colab": {}
      },
      "source": [
        "md = np.random.randint(0,100, size=(2, 3, 4))"
      ],
      "execution_count": 0,
      "outputs": []
    },
    {
      "cell_type": "code",
      "metadata": {
        "scrolled": false,
        "id": "rCkCFLKmdqbu",
        "colab_type": "code",
        "colab": {}
      },
      "source": [
        "md"
      ],
      "execution_count": 0,
      "outputs": []
    },
    {
      "cell_type": "code",
      "metadata": {
        "id": "P_uZfcx0dqbw",
        "colab_type": "code",
        "colab": {}
      },
      "source": [
        "mmd = np.random.randint(0,100, size=(2, 3, 4, 5, 6))"
      ],
      "execution_count": 0,
      "outputs": []
    },
    {
      "cell_type": "code",
      "metadata": {
        "scrolled": false,
        "id": "xnbHmQL-dqby",
        "colab_type": "code",
        "colab": {}
      },
      "source": [
        "mmd"
      ],
      "execution_count": 0,
      "outputs": []
    },
    {
      "cell_type": "markdown",
      "metadata": {
        "id": "m_9hdkLSdqb0",
        "colab_type": "text"
      },
      "source": [
        "Transpose of matrix $X$ denoted by $X^T$ defined by elements $(X^{T})_{i, j} = X_{j, i}$ or $X \\in \\mathbb{R}^{n \\times m}$ then $T^{T} \\in \\mathbb{R}^{m \\times n}$\n",
        "<br>\n",
        "e.g.\n",
        "<br>\n",
        "$\\begin{align}\n",
        "    X &= \\begin{pmatrix}\n",
        "        x_{11} & x_{12} & \\dots x_{1m} \\\\\n",
        "        x_{21} & x_{22} & \\dots x_{2m} \\\\\n",
        "        \\vdots & \\vdots & \\vdots \\\\\n",
        "        x_{n1} & x_{n2} & \\dots x_{nm} \\\\\n",
        "    \\end{pmatrix}\n",
        "\\end{align}$ then $\\begin{align}\n",
        "    X^{T} &= \\begin{pmatrix}\n",
        "        x_{11} & x_{21} & \\dots x_{m1} \\\\\n",
        "        x_{12} & x_{22} & \\dots x_{m2} \\\\\n",
        "        \\vdots & \\vdots & \\vdots \\\\\n",
        "        x_{1n} & x_{2n} & \\dots x_{mn} \\\\\n",
        "    \\end{pmatrix}\n",
        "\\end{align}$"
      ]
    },
    {
      "cell_type": "markdown",
      "metadata": {
        "id": "OrN8KY_Xdqb1",
        "colab_type": "text"
      },
      "source": [
        "Transpose can be thought as mirror along with the main diagonal"
      ]
    },
    {
      "cell_type": "markdown",
      "metadata": {
        "id": "LHwDAelpdqb2",
        "colab_type": "text"
      },
      "source": [
        "Visualisation of transpose matrix $X \\in \\mathbb{R}^{4 \\times 4}$"
      ]
    },
    {
      "cell_type": "markdown",
      "metadata": {
        "id": "E5sy8N88dqb2",
        "colab_type": "text"
      },
      "source": [
        "![SegmentLocal](images/la1/transpose1.gif \"segment\")"
      ]
    },
    {
      "cell_type": "markdown",
      "metadata": {
        "id": "SsDlwNFtdqb3",
        "colab_type": "text"
      },
      "source": [
        "Transpose matrix $X \\in \\mathbb{R}^{2 \\times 3}$"
      ]
    },
    {
      "cell_type": "markdown",
      "metadata": {
        "id": "ajFATLHEdqb3",
        "colab_type": "text"
      },
      "source": [
        "![SegmentLocal](images/la1/transpose2.gif \"segment\")"
      ]
    },
    {
      "cell_type": "markdown",
      "metadata": {
        "id": "M4gJIC55dqb4",
        "colab_type": "text"
      },
      "source": [
        "We can consider scalar as one dimensional vector and vector as $v = (v_1, v_2, \\dots, v_n)$ as matrix with $1 \\times n$ dimensions and \n",
        "$\\begin{align}\n",
        "    u &= \\begin{bmatrix}\n",
        "           u_{1} \\\\\n",
        "           u_{2} \\\\\n",
        "           \\vdots \\\\\n",
        "           u_{m}\n",
        "         \\end{bmatrix}\n",
        " \\end{align}$ as matrix with $m \\times 1$ dimensions\n",
        "<br>\n",
        "then \n",
        "$\\begin{align}\n",
        "    v^{T} &= \\begin{bmatrix}\n",
        "           v_{1} \\\\\n",
        "           v_{2} \\\\\n",
        "           \\vdots \\\\\n",
        "           v_{n}\n",
        "         \\end{bmatrix}\n",
        " \\end{align}$ and $u^{T} = (u_1, u_2, \\dots, u_m)$"
      ]
    },
    {
      "cell_type": "code",
      "metadata": {
        "id": "_h60NnjBdqb5",
        "colab_type": "code",
        "colab": {}
      },
      "source": [
        "print(nm)"
      ],
      "execution_count": 0,
      "outputs": []
    },
    {
      "cell_type": "code",
      "metadata": {
        "id": "EXzdiRdvdqb7",
        "colab_type": "code",
        "colab": {}
      },
      "source": [
        "print(nm.T)"
      ],
      "execution_count": 0,
      "outputs": []
    },
    {
      "cell_type": "markdown",
      "metadata": {
        "id": "nq_OmYfkdqb9",
        "colab_type": "text"
      },
      "source": [
        "For scalar $a \\in \\mathbb{R}$ we have $a^{T} = a$"
      ]
    },
    {
      "cell_type": "markdown",
      "metadata": {
        "id": "LhgVeagTdqb9",
        "colab_type": "text"
      },
      "source": [
        "# Operations on Matrices"
      ]
    },
    {
      "cell_type": "markdown",
      "metadata": {
        "id": "8F2Sg9aadqcA",
        "colab_type": "text"
      },
      "source": [
        "We can add two $A, B \\in \\mathbb{R}^{n \\times m}$ matrices $C = A + B$ as \n",
        "$\\begin{align}\n",
        "    C &= \\begin{pmatrix}\n",
        "        {a_{11} + b_{11}} & {a_{12} + b_{12}} & \\dots {a_{1m} + b_{1m}} \\\\\n",
        "        {a_{21} + b_{21}} & {a_{22} + b_{22}} & \\dots {a_{2m} + b_{2m}} \\\\\n",
        "        \\vdots & \\vdots & \\vdots \\\\\n",
        "        {a_{n1} + b_{n1}} & {a_{n2} + b_{n2}} & \\dots {a_{nm} + b_{nm}} \\\\\n",
        "    \\end{pmatrix}\n",
        "\\end{align}$ or we could write $c_{i, j} = a_{i, j} + b_{i, j}$"
      ]
    },
    {
      "cell_type": "code",
      "metadata": {
        "id": "iqAJWDYrdqcA",
        "colab_type": "code",
        "colab": {}
      },
      "source": [
        "m1 = np.array([[2, 4, 6], [12, 14, 16], [22, 24, 26]])\n",
        "m2 = np.array([[1, 3, 4], [11, 13, 14], [42, 44, 44]])\n",
        "print(m1)\n",
        "print(m2)\n",
        "print(m1 + m2)"
      ],
      "execution_count": 0,
      "outputs": []
    },
    {
      "cell_type": "markdown",
      "metadata": {
        "id": "brv-dYSodqcC",
        "colab_type": "text"
      },
      "source": [
        "Add scalar $a \\in \\mathbb{R}$ and matrix $X \\in \\mathbb{R}^{n \\times m}$ as \n",
        "$\\begin{align}\n",
        "    X + a &= \\begin{pmatrix}\n",
        "        {x_{11} + a} & {x_{12} + a} & \\dots {x_{1m} + a} \\\\\n",
        "        {x_{21} + a} & {x_{22} + a} & \\dots {x_{2m} + a} \\\\\n",
        "        \\vdots & \\vdots & \\vdots \\\\\n",
        "        {x_{n1} + a} & {x_{n2} + a} & \\dots {x_{nm} + a} \\\\\n",
        "    \\end{pmatrix}\n",
        "\\end{align}$ or we could write ${(X + a)}_{i, j} = x_{i, j} + a$\n",
        "<br>\n",
        "In the same way we can define ${(a + X)}_{i, j} = a + x_{i, j}$\n",
        "<br>\n",
        "Multiplication of scalar and matrix\n",
        "$\\begin{align}\n",
        "    Xa &= \\begin{pmatrix}\n",
        "        {x_{11}a} & {x_{12}a} & \\dots {x_{1m}a} \\\\\n",
        "        {x_{21}a} & {x_{22}a} & \\dots {x_{2m}a} \\\\\n",
        "        \\vdots & \\vdots & \\vdots \\\\\n",
        "        {x_{n1}a} & {x_{n2}a} & \\dots {x_{nm}a} \\\\\n",
        "    \\end{pmatrix}\n",
        "\\end{align}$ or we could write ${(X + a)}_{i, j} = x_{i, j} + a$\n",
        "<br>\n",
        "In the same way we can define ${(aX)}_{i, j} = ax_{i, j}$\n",
        "<br>\n",
        "so we have $C = aX + b$ for $a \\in \\mathbb{R}$ and matrix $X \\in \\mathbb{R}^{n \\times m}$\n"
      ]
    },
    {
      "cell_type": "markdown",
      "metadata": {
        "id": "41pW7FhsdqcD",
        "colab_type": "text"
      },
      "source": [
        "Prove that $a + X = X + a$ and $aX = Xa$ for every scalar $a \\in \\mathbb{R}$ and matrix $X \\in \\mathbb{R}^{n \\times m}$"
      ]
    },
    {
      "cell_type": "code",
      "metadata": {
        "id": "PNhSOkLydqcE",
        "colab_type": "code",
        "colab": {}
      },
      "source": [
        "m1, m1*5 + 2"
      ],
      "execution_count": 0,
      "outputs": []
    },
    {
      "cell_type": "markdown",
      "metadata": {
        "id": "o2QZ6HKsdqcF",
        "colab_type": "text"
      },
      "source": [
        "Add matrix and vector $A + b$ where $A \\in \\mathbb{R}^{n \\times m}$ $b \\in \\mathbb{R}^{1 \\times m}$ can be done by broadcasting\n",
        "<br>\n",
        "$C_{i, j} = A_{i, j} + b_{j}$"
      ]
    },
    {
      "cell_type": "code",
      "metadata": {
        "id": "jtcwvrfidqcI",
        "colab_type": "code",
        "colab": {}
      },
      "source": [
        "v1 = np.array([[2], [4], [6]])\n"
      ],
      "execution_count": 0,
      "outputs": []
    },
    {
      "cell_type": "code",
      "metadata": {
        "id": "xWoK2qv7dqcK",
        "colab_type": "code",
        "colab": {}
      },
      "source": [
        "print(m1)\n",
        "print(v1)\n",
        "print(v1.T)\n",
        "print(m1 + v1)\n",
        "print(m1 + v1.T)"
      ],
      "execution_count": 0,
      "outputs": []
    },
    {
      "cell_type": "markdown",
      "metadata": {
        "id": "5-mj8_yEdqcO",
        "colab_type": "text"
      },
      "source": [
        "For matrix $A \\in \\mathbb{R}^{n \\times m}$ and $B \\in \\mathbb{R}^{m \\times l}$ let's define $C = AB$ as $C_{i, j} = \\sum_{k = 1}^{n}{A_{i, k}B_{k, j}}$ it is clear that $C \\in \\mathbb{R}^{n \\times l}$"
      ]
    },
    {
      "cell_type": "markdown",
      "metadata": {
        "id": "kwNslcoedqcQ",
        "colab_type": "text"
      },
      "source": [
        "Lets visualize"
      ]
    },
    {
      "cell_type": "markdown",
      "metadata": {
        "id": "g-OkecHudqcR",
        "colab_type": "text"
      },
      "source": [
        "![SegmentLocal](images/la1/mult1.gif \"segment\")"
      ]
    },
    {
      "cell_type": "code",
      "metadata": {
        "id": "ah2Q8dUndqcS",
        "colab_type": "code",
        "colab": {}
      },
      "source": [
        "m1 = np.array([[1, 2, 1], [0, 1, 0], [2, 3, 4]])\n",
        "m2 = np.array([[2, 5], [6, 7], [1, 8]])"
      ],
      "execution_count": 0,
      "outputs": []
    },
    {
      "cell_type": "code",
      "metadata": {
        "id": "MhpZyMl-dqcW",
        "colab_type": "code",
        "colab": {}
      },
      "source": [
        "print(m1)\n",
        "print(m2)"
      ],
      "execution_count": 0,
      "outputs": []
    },
    {
      "cell_type": "code",
      "metadata": {
        "id": "gdLnGXuJdqca",
        "colab_type": "code",
        "colab": {}
      },
      "source": [
        "m3 = m1 @ m2"
      ],
      "execution_count": 0,
      "outputs": []
    },
    {
      "cell_type": "code",
      "metadata": {
        "id": "Yxyr336Wdqcd",
        "colab_type": "code",
        "colab": {}
      },
      "source": [
        "print(m3)"
      ],
      "execution_count": 0,
      "outputs": []
    },
    {
      "cell_type": "markdown",
      "metadata": {
        "id": "BADLEZWodqcf",
        "colab_type": "text"
      },
      "source": [
        "Or slower version"
      ]
    },
    {
      "cell_type": "markdown",
      "metadata": {
        "id": "QixHwYZqdqcg",
        "colab_type": "text"
      },
      "source": [
        "![SegmentLocal](images/la1/mult2.gif \"segment\")"
      ]
    },
    {
      "cell_type": "code",
      "metadata": {
        "id": "fwzno77fdqcg",
        "colab_type": "code",
        "colab": {}
      },
      "source": [
        "n1 = np.array([[8, 1, 2], [-5, 6, 7]])\n",
        "n2 = np.array([[-5, 1], [0, 2], [-11, 7]])"
      ],
      "execution_count": 0,
      "outputs": []
    },
    {
      "cell_type": "code",
      "metadata": {
        "id": "je6jNGY9dqcj",
        "colab_type": "code",
        "colab": {}
      },
      "source": [
        "print(n1)\n",
        "print(n2)"
      ],
      "execution_count": 0,
      "outputs": []
    },
    {
      "cell_type": "code",
      "metadata": {
        "id": "RzZQt1asdqcm",
        "colab_type": "code",
        "colab": {}
      },
      "source": [
        "n3 = np.dot(n1, n2)"
      ],
      "execution_count": 0,
      "outputs": []
    },
    {
      "cell_type": "code",
      "metadata": {
        "id": "JzcvkiM2dqco",
        "colab_type": "code",
        "colab": {}
      },
      "source": [
        "print(n3) #, n3"
      ],
      "execution_count": 0,
      "outputs": []
    },
    {
      "cell_type": "markdown",
      "metadata": {
        "id": "oYcXrMrDdqcs",
        "colab_type": "text"
      },
      "source": [
        "Hadamard product of $A \\in \\mathbb{R^{n \\times m}}$ and $B \\in \\mathbb{R^{n \\times m}}$ define $C = A \\odot B$ if $C_{i, j} = A_{i, j}B_{i, j}$ (elementwise product)"
      ]
    },
    {
      "cell_type": "code",
      "metadata": {
        "id": "swQw2cXIdqct",
        "colab_type": "code",
        "colab": {}
      },
      "source": [
        "a1 = np.random.random(size=(2, 3))\n",
        "a2 = np.random.random(size=(2, 3))"
      ],
      "execution_count": 0,
      "outputs": []
    },
    {
      "cell_type": "code",
      "metadata": {
        "id": "KAt4-5Iqdqcu",
        "colab_type": "code",
        "colab": {}
      },
      "source": [
        "print(a1)\n",
        "\n",
        "print(a2)\n",
        "\n",
        "print(a1 * a2)"
      ],
      "execution_count": 0,
      "outputs": []
    },
    {
      "cell_type": "code",
      "metadata": {
        "id": "gQDtlex0dqcy",
        "colab_type": "code",
        "colab": {}
      },
      "source": [
        "a1 = np.array([[1, 2], [4, 8], [3., 4.]])\n",
        "a2 = np.array([[2, 4.], [4., 4], [3., 2.]])"
      ],
      "execution_count": 0,
      "outputs": []
    },
    {
      "cell_type": "code",
      "metadata": {
        "id": "-t_oXnzadqc0",
        "colab_type": "code",
        "colab": {}
      },
      "source": [
        "a1"
      ],
      "execution_count": 0,
      "outputs": []
    },
    {
      "cell_type": "code",
      "metadata": {
        "id": "_neNRerKdqc3",
        "colab_type": "code",
        "colab": {}
      },
      "source": [
        "a2"
      ],
      "execution_count": 0,
      "outputs": []
    },
    {
      "cell_type": "code",
      "metadata": {
        "id": "Go28ldGxdqc5",
        "colab_type": "code",
        "colab": {}
      },
      "source": [
        "a1 * a2"
      ],
      "execution_count": 0,
      "outputs": []
    },
    {
      "cell_type": "code",
      "metadata": {
        "id": "kxlIomm0dqc-",
        "colab_type": "code",
        "colab": {}
      },
      "source": [
        "np.sum(a1 * a2)"
      ],
      "execution_count": 0,
      "outputs": []
    },
    {
      "cell_type": "code",
      "metadata": {
        "id": "YsrLwpFQdqdB",
        "colab_type": "code",
        "colab": {}
      },
      "source": [
        "np.multiply(a1, a2)"
      ],
      "execution_count": 0,
      "outputs": []
    },
    {
      "cell_type": "code",
      "metadata": {
        "id": "KtaSVkqMdqdE",
        "colab_type": "code",
        "colab": {}
      },
      "source": [
        "np.sum(np.multiply(a1, a2))"
      ],
      "execution_count": 0,
      "outputs": []
    },
    {
      "cell_type": "code",
      "metadata": {
        "id": "p9iSH2l1dqdG",
        "colab_type": "code",
        "colab": {}
      },
      "source": [
        "a1 = np.arange(3*2).reshape((3, 2))\n",
        "a1 = np.arange(3*2).reshape((2, 3))"
      ],
      "execution_count": 0,
      "outputs": []
    },
    {
      "cell_type": "code",
      "metadata": {
        "id": "q962tye1dqdI",
        "colab_type": "code",
        "colab": {}
      },
      "source": [
        "a1"
      ],
      "execution_count": 0,
      "outputs": []
    },
    {
      "cell_type": "code",
      "metadata": {
        "id": "XiXLToJ1dqdJ",
        "colab_type": "code",
        "colab": {}
      },
      "source": [
        "a2"
      ],
      "execution_count": 0,
      "outputs": []
    },
    {
      "cell_type": "code",
      "metadata": {
        "id": "qDrarjeWdqdO",
        "colab_type": "code",
        "colab": {}
      },
      "source": [
        "a1 @ a2"
      ],
      "execution_count": 0,
      "outputs": []
    },
    {
      "cell_type": "markdown",
      "metadata": {
        "id": "ZnYMznsjdqdQ",
        "colab_type": "text"
      },
      "source": [
        "Dot product of vectors $v, u \\in \\mathbb{R}^{n}$ define as $v^{T}u$"
      ]
    },
    {
      "cell_type": "markdown",
      "metadata": {
        "id": "2Ms8NHhQdqdR",
        "colab_type": "text"
      },
      "source": [
        "Prove that $v^{T}u = vu^{T}$ for each $v, u \\in \\mathbb{R}^{n}$"
      ]
    },
    {
      "cell_type": "markdown",
      "metadata": {
        "id": "u8Acr3judqdT",
        "colab_type": "text"
      },
      "source": [
        "For each pair of matrices $A, B \\in \\mathbb{R}^{n \\times m}$ holds:\n",
        "- $A + B = B + A$\n",
        "- $A(B + C) = AB + AC$\n",
        "- $A(BC) = (AB)C$"
      ]
    },
    {
      "cell_type": "markdown",
      "metadata": {
        "id": "9ykluix2dqdT",
        "colab_type": "text"
      },
      "source": [
        "Prove that $(AB)^{T} = B^{T}A^{T}$ for each pair of matrices $A, B \\in \\mathbb{R}^{n \\times m}$"
      ]
    },
    {
      "cell_type": "markdown",
      "metadata": {
        "id": "Dbr5LAkydqdU",
        "colab_type": "text"
      },
      "source": [
        "For instance $Ax=b$"
      ]
    },
    {
      "cell_type": "markdown",
      "metadata": {
        "id": "l8QykHQ3dqdU",
        "colab_type": "text"
      },
      "source": [
        "Vectorization vs loops"
      ]
    },
    {
      "cell_type": "code",
      "metadata": {
        "id": "vfg8J06DdqdV",
        "colab_type": "code",
        "colab": {}
      },
      "source": [
        "l1 = np.random.randn(3, 4)\n",
        "l2 = np.random.randn(4, 6)\n",
        "l1, l2"
      ],
      "execution_count": 0,
      "outputs": []
    },
    {
      "cell_type": "code",
      "metadata": {
        "id": "IkuimrqPdqdY",
        "colab_type": "code",
        "colab": {}
      },
      "source": [
        "def dot_prod(mx1, mx2, verbose = False):\n",
        "    mx3 = np.zeros((mx1.shape[0], mx2.shape[1]))\n",
        "    if verbose: print(f'mx3.shape = {mx3.shape}')\n",
        "    for i in range(mx1.shape[0]):\n",
        "        if verbose: print(f'i = {i}')\n",
        "        for k in range(mx2.shape[1]):\n",
        "            if verbose: print(f'\\tk = {k}')\n",
        "            for j in range(mx1.shape[1]):\n",
        "                if verbose: print(f'\\t\\tj = {j}')\n",
        "                s = mx1[i, j] + mx2[j, k]\n",
        "            mx3[i, k] = s\n",
        "    \n",
        "    return mx3\n",
        "            "
      ],
      "execution_count": 0,
      "outputs": []
    },
    {
      "cell_type": "code",
      "metadata": {
        "scrolled": true,
        "id": "TqdyPIQpdqdd",
        "colab_type": "code",
        "colab": {}
      },
      "source": [
        "%time l3_loop = dot_prod(l1, l2)"
      ],
      "execution_count": 0,
      "outputs": []
    },
    {
      "cell_type": "code",
      "metadata": {
        "id": "yFwlgscmdqdg",
        "colab_type": "code",
        "colab": {}
      },
      "source": [
        "l3_loop"
      ],
      "execution_count": 0,
      "outputs": []
    },
    {
      "cell_type": "code",
      "metadata": {
        "id": "NSAO1w5Rdqdl",
        "colab_type": "code",
        "colab": {}
      },
      "source": [
        "l1 @ l2"
      ],
      "execution_count": 0,
      "outputs": []
    },
    {
      "cell_type": "code",
      "metadata": {
        "scrolled": true,
        "id": "P92XvLn6dqdo",
        "colab_type": "code",
        "colab": {}
      },
      "source": [
        "b1 = np.random.randn(500, 10000)\n",
        "b2 = np.random.randn(10000, 800)\n",
        "b1, b2"
      ],
      "execution_count": 0,
      "outputs": []
    },
    {
      "cell_type": "code",
      "metadata": {
        "scrolled": false,
        "id": "4RI2BjiCdqdt",
        "colab_type": "code",
        "colab": {}
      },
      "source": [
        "%time b3_loop = dot_prod(b1, b2)"
      ],
      "execution_count": 0,
      "outputs": []
    },
    {
      "cell_type": "code",
      "metadata": {
        "id": "-DrmrXEFdqdu",
        "colab_type": "code",
        "colab": {}
      },
      "source": [
        "def dot_prod_2(mx1, mx2, verbose = False):\n",
        "    mx3 = np.zeros((mx1.shape[0], mx2.shape[1]))\n",
        "    if verbose: print(f'mx3.shape = {mx3.shape}')\n",
        "    for i in range(mx1.shape[0]):\n",
        "        if verbose: print(f'i = {i}')\n",
        "        for k in range(mx2.shape[1]):\n",
        "            mx3[i, k] = np.dot(mx1[i, :], mx2[:, k])\n",
        "            if verbose: \n",
        "                print(f'\\tk = {mx1[i:]}') \n",
        "                print(f'\\tk = {mx2[:, k]}')\n",
        "            \n",
        "            #mx3[i, k] = s\n",
        "    \n",
        "    return mx3"
      ],
      "execution_count": 0,
      "outputs": []
    },
    {
      "cell_type": "code",
      "metadata": {
        "scrolled": true,
        "id": "-lWVZ5vXdqdw",
        "colab_type": "code",
        "colab": {}
      },
      "source": [
        "%time l3_loop = dot_prod_2(l1, l2)"
      ],
      "execution_count": 0,
      "outputs": []
    },
    {
      "cell_type": "code",
      "metadata": {
        "id": "C3HJmDZedqd1",
        "colab_type": "code",
        "colab": {}
      },
      "source": [
        "l3_loop"
      ],
      "execution_count": 0,
      "outputs": []
    },
    {
      "cell_type": "code",
      "metadata": {
        "scrolled": true,
        "id": "GXHnOyX_dqd3",
        "colab_type": "code",
        "colab": {}
      },
      "source": [
        "%time b3_loop = dot_prod_2(b1, b2)"
      ],
      "execution_count": 0,
      "outputs": []
    },
    {
      "cell_type": "markdown",
      "metadata": {
        "id": "qVfj0kapdqd5",
        "colab_type": "text"
      },
      "source": [
        "Matrix vector multiplication"
      ]
    },
    {
      "cell_type": "code",
      "metadata": {
        "id": "dBbyOR26dqd6",
        "colab_type": "code",
        "colab": {}
      },
      "source": [
        "def dot_prod_3(mx1, mx2, verbose = False):\n",
        "    mx3 = np.zeros((mx1.shape[0], mx2.shape[1]))\n",
        "    if verbose: print(f'mx3.shape = {mx3.shape}')\n",
        "    for i in range(mx1.shape[0]):\n",
        "        if verbose: print(f'i = {i}')\n",
        "        mx3[i, :] = np.dot(mx1[i, :], mx2)\n",
        "        if verbose: \n",
        "            print(f'\\tk = {mx2[:, k]}')\n",
        "            \n",
        "            #mx3[i, k] = s\n",
        "    \n",
        "    return mx3"
      ],
      "execution_count": 0,
      "outputs": []
    },
    {
      "cell_type": "code",
      "metadata": {
        "id": "Ir-8N06Mdqd8",
        "colab_type": "code",
        "colab": {}
      },
      "source": [
        "%time l3_loop = dot_prod_3(l1, l2)"
      ],
      "execution_count": 0,
      "outputs": []
    },
    {
      "cell_type": "code",
      "metadata": {
        "id": "XqzvJWfOdqd-",
        "colab_type": "code",
        "colab": {}
      },
      "source": [
        "l3_loop"
      ],
      "execution_count": 0,
      "outputs": []
    },
    {
      "cell_type": "code",
      "metadata": {
        "id": "T2rNRDp9dqd_",
        "colab_type": "code",
        "colab": {}
      },
      "source": [
        "%time b3_loop = dot_prod_3(b1, b2)"
      ],
      "execution_count": 0,
      "outputs": []
    },
    {
      "cell_type": "markdown",
      "metadata": {
        "id": "dkmeK7F_dqeA",
        "colab_type": "text"
      },
      "source": [
        "## Vectorize version"
      ]
    },
    {
      "cell_type": "code",
      "metadata": {
        "id": "k_3sB-BZdqeB",
        "colab_type": "code",
        "colab": {}
      },
      "source": [
        "%time l3_vec = np.dot(l1, l2)"
      ],
      "execution_count": 0,
      "outputs": []
    },
    {
      "cell_type": "code",
      "metadata": {
        "id": "PDqy3IBodqeC",
        "colab_type": "code",
        "colab": {}
      },
      "source": [
        "l3_vec"
      ],
      "execution_count": 0,
      "outputs": []
    },
    {
      "cell_type": "code",
      "metadata": {
        "id": "9sa5lTHDdqeE",
        "colab_type": "code",
        "colab": {}
      },
      "source": [
        "%time b3_vec = b1 @ b2"
      ],
      "execution_count": 0,
      "outputs": []
    },
    {
      "cell_type": "code",
      "metadata": {
        "scrolled": true,
        "id": "Frp14Tv8dqeF",
        "colab_type": "code",
        "colab": {}
      },
      "source": [
        "b3_vec"
      ],
      "execution_count": 0,
      "outputs": []
    },
    {
      "cell_type": "code",
      "metadata": {
        "id": "-m0SlTfMdqeH",
        "colab_type": "code",
        "colab": {}
      },
      "source": [
        "%time l3 = np.dot(l1, l2)"
      ],
      "execution_count": 0,
      "outputs": []
    },
    {
      "cell_type": "code",
      "metadata": {
        "id": "0svRxgO_dqeJ",
        "colab_type": "code",
        "colab": {}
      },
      "source": [
        "%time b3 = np.dot(b1, b2)"
      ],
      "execution_count": 0,
      "outputs": []
    },
    {
      "cell_type": "code",
      "metadata": {
        "id": "3CE2fx5fdqeL",
        "colab_type": "code",
        "colab": {}
      },
      "source": [
        "%time b3_vec = np.dot(b1, b2)"
      ],
      "execution_count": 0,
      "outputs": []
    },
    {
      "cell_type": "markdown",
      "metadata": {
        "id": "77UDTBzudqeN",
        "colab_type": "text"
      },
      "source": [
        "## Functions on tensors"
      ]
    },
    {
      "cell_type": "markdown",
      "metadata": {
        "id": "CdXKM8T4dqeO",
        "colab_type": "text"
      },
      "source": [
        "We can define function $f:A \\to B$ where $A, B \\in \\mathbb{R}^{n1 \\times n2 \\dots \\times n_{k}}$ where function is defined elementwise $B_{i, j} = f(A_{i, j})$"
      ]
    },
    {
      "cell_type": "markdown",
      "metadata": {
        "id": "0NXqe0i5dqeO",
        "colab_type": "text"
      },
      "source": [
        "For instance function $f(x) = x + 5$ on matrix $A \\in \\mathbb{R}^{n \\times m}$ will give us $A + 5$"
      ]
    },
    {
      "cell_type": "code",
      "metadata": {
        "id": "UqZg0cwndqeO",
        "colab_type": "code",
        "colab": {}
      },
      "source": [
        "mt = np.array([[1, 2], [-1, -2], [0., 4.]])\n",
        "f = lambda x: x + 5\n",
        "print(mt) \n",
        "print(f(mt))\n",
        "print(mt + 5)"
      ],
      "execution_count": 0,
      "outputs": []
    },
    {
      "cell_type": "code",
      "metadata": {
        "id": "qvbuQxEbdqeP",
        "colab_type": "code",
        "colab": {}
      },
      "source": [
        "import math"
      ],
      "execution_count": 0,
      "outputs": []
    },
    {
      "cell_type": "code",
      "metadata": {
        "id": "PFcReHX3dqeR",
        "colab_type": "code",
        "colab": {}
      },
      "source": [
        "f = lambda x: x**2"
      ],
      "execution_count": 0,
      "outputs": []
    },
    {
      "cell_type": "code",
      "metadata": {
        "id": "_rBAvtXKdqeS",
        "colab_type": "code",
        "colab": {}
      },
      "source": [
        "f(-1)"
      ],
      "execution_count": 0,
      "outputs": []
    },
    {
      "cell_type": "code",
      "metadata": {
        "id": "1YXcY2lidqeT",
        "colab_type": "code",
        "colab": {}
      },
      "source": [
        "x = np.linspace(-5, 5, 1000)"
      ],
      "execution_count": 0,
      "outputs": []
    },
    {
      "cell_type": "code",
      "metadata": {
        "id": "EgRWmTF0dqeU",
        "colab_type": "code",
        "colab": {}
      },
      "source": [
        "x"
      ],
      "execution_count": 0,
      "outputs": []
    },
    {
      "cell_type": "code",
      "metadata": {
        "id": "vdaMs31jdqeV",
        "colab_type": "code",
        "colab": {}
      },
      "source": [
        "fv = f #np.vectorize(f)"
      ],
      "execution_count": 0,
      "outputs": []
    },
    {
      "cell_type": "code",
      "metadata": {
        "id": "jnLfK_RedqeW",
        "colab_type": "code",
        "colab": {}
      },
      "source": [
        "fx = fv(x)"
      ],
      "execution_count": 0,
      "outputs": []
    },
    {
      "cell_type": "code",
      "metadata": {
        "id": "CqylKj0zdqeX",
        "colab_type": "code",
        "colab": {}
      },
      "source": [
        "x.shape, fx.shape"
      ],
      "execution_count": 0,
      "outputs": []
    },
    {
      "cell_type": "code",
      "metadata": {
        "id": "xhyFFpo6dqeY",
        "colab_type": "code",
        "colab": {}
      },
      "source": [
        "import matplotlib.pyplot as plt"
      ],
      "execution_count": 0,
      "outputs": []
    },
    {
      "cell_type": "code",
      "metadata": {
        "id": "fV7l07Tzdqea",
        "colab_type": "code",
        "colab": {}
      },
      "source": [
        "plt.plot(x, fx)"
      ],
      "execution_count": 0,
      "outputs": []
    },
    {
      "cell_type": "code",
      "metadata": {
        "id": "tuUokgfIdqeb",
        "colab_type": "code",
        "colab": {}
      },
      "source": [
        "sig = np.vectorize(lambda x: 1 / (1 + math.exp(-x)))"
      ],
      "execution_count": 0,
      "outputs": []
    },
    {
      "cell_type": "code",
      "metadata": {
        "id": "w5pWbkafdqec",
        "colab_type": "code",
        "colab": {}
      },
      "source": [
        "plt.plot(x, sig(x))"
      ],
      "execution_count": 0,
      "outputs": []
    },
    {
      "cell_type": "code",
      "metadata": {
        "id": "RxL4Utk2dqed",
        "colab_type": "code",
        "colab": {}
      },
      "source": [
        "plt.plot(x, sig(x))\n",
        "plt.grid()"
      ],
      "execution_count": 0,
      "outputs": []
    },
    {
      "cell_type": "markdown",
      "metadata": {
        "id": "loem_hradqee",
        "colab_type": "text"
      },
      "source": [
        "## Images as tensors and matrices"
      ]
    },
    {
      "cell_type": "code",
      "metadata": {
        "id": "hAOu-Rbrdqee",
        "colab_type": "code",
        "colab": {}
      },
      "source": [
        "import cv2"
      ],
      "execution_count": 0,
      "outputs": []
    },
    {
      "cell_type": "code",
      "metadata": {
        "id": "XM46z0YUdqef",
        "colab_type": "code",
        "colab": {}
      },
      "source": [
        "! pip install opencv-python"
      ],
      "execution_count": 0,
      "outputs": []
    },
    {
      "cell_type": "code",
      "metadata": {
        "id": "-LLcEZs3dqei",
        "colab_type": "code",
        "colab": {}
      },
      "source": [
        "from pathlib import Path"
      ],
      "execution_count": 0,
      "outputs": []
    },
    {
      "cell_type": "code",
      "metadata": {
        "id": "QLJKuvvtdqej",
        "colab_type": "code",
        "colab": {}
      },
      "source": [
        "path = Path('images')"
      ],
      "execution_count": 0,
      "outputs": []
    },
    {
      "cell_type": "code",
      "metadata": {
        "id": "bOaG0CW6dqek",
        "colab_type": "code",
        "colab": {}
      },
      "source": [
        "ls = ! ls {path}\n",
        "la1 = path / ls[0]"
      ],
      "execution_count": 0,
      "outputs": []
    },
    {
      "cell_type": "code",
      "metadata": {
        "id": "RQLuxyGbdqel",
        "colab_type": "code",
        "colab": {}
      },
      "source": [
        "ls"
      ],
      "execution_count": 0,
      "outputs": []
    },
    {
      "cell_type": "code",
      "metadata": {
        "id": "wHkeTPSmdqen",
        "colab_type": "code",
        "colab": {}
      },
      "source": [
        "img_brg = cv2.imread(str(la1 / 'tbilisi1.jpg'), cv2.IMREAD_ANYCOLOR)"
      ],
      "execution_count": 0,
      "outputs": []
    },
    {
      "cell_type": "code",
      "metadata": {
        "id": "Wmp-x5OGdqeo",
        "colab_type": "code",
        "colab": {}
      },
      "source": [
        "type(img_brg), img_brg.shape"
      ],
      "execution_count": 0,
      "outputs": []
    },
    {
      "cell_type": "code",
      "metadata": {
        "scrolled": true,
        "id": "hRSGQIC7dqep",
        "colab_type": "code",
        "colab": {}
      },
      "source": [
        "plt.figure(figsize=(50, 50))\n",
        "plt.imshow(img_brg, cmap=None)\n",
        "plt.show()"
      ],
      "execution_count": 0,
      "outputs": []
    },
    {
      "cell_type": "code",
      "metadata": {
        "id": "1hslM3lcdqep",
        "colab_type": "code",
        "colab": {}
      },
      "source": [
        "img = cv2.cvtColor(img_brg, cv2.COLOR_RGB2BGR)"
      ],
      "execution_count": 0,
      "outputs": []
    },
    {
      "cell_type": "code",
      "metadata": {
        "id": "TwowqOxrdqeq",
        "colab_type": "code",
        "colab": {}
      },
      "source": [
        "import matplotlib.pyplot as plt"
      ],
      "execution_count": 0,
      "outputs": []
    },
    {
      "cell_type": "code",
      "metadata": {
        "id": "bHQr0FOfdqer",
        "colab_type": "code",
        "colab": {}
      },
      "source": [
        "def show_img(im, figsize=(50, 50), cmap=None):\n",
        "    plt.figure(figsize=figsize)\n",
        "    plt.imshow(im, cmap=cmap)\n",
        "    plt.show()"
      ],
      "execution_count": 0,
      "outputs": []
    },
    {
      "cell_type": "code",
      "metadata": {
        "id": "zM95m_8ndqeu",
        "colab_type": "code",
        "colab": {}
      },
      "source": [
        "show_img(img)"
      ],
      "execution_count": 0,
      "outputs": []
    },
    {
      "cell_type": "code",
      "metadata": {
        "id": "P3PnosB1dqev",
        "colab_type": "code",
        "colab": {}
      },
      "source": [
        "gray = cv2.cvtColor(img, cv2.COLOR_RGB2GRAY)"
      ],
      "execution_count": 0,
      "outputs": []
    },
    {
      "cell_type": "code",
      "metadata": {
        "scrolled": true,
        "id": "lg4Lz5L8dqew",
        "colab_type": "code",
        "colab": {}
      },
      "source": [
        "show_img(gray, cmap='gray')"
      ],
      "execution_count": 0,
      "outputs": []
    },
    {
      "cell_type": "code",
      "metadata": {
        "id": "MuwS-Lbldqex",
        "colab_type": "code",
        "colab": {}
      },
      "source": [
        "gray_t = gray.T"
      ],
      "execution_count": 0,
      "outputs": []
    },
    {
      "cell_type": "code",
      "metadata": {
        "scrolled": true,
        "id": "_W561zd-dqey",
        "colab_type": "code",
        "colab": {}
      },
      "source": [
        "gray_t.shape\n",
        "show_img(gray_t, cmap='gray')"
      ],
      "execution_count": 0,
      "outputs": []
    },
    {
      "cell_type": "code",
      "metadata": {
        "scrolled": true,
        "id": "9zLkRXlIdqez",
        "colab_type": "code",
        "colab": {}
      },
      "source": [
        "show_img(gray - 100, cmap='gray')"
      ],
      "execution_count": 0,
      "outputs": []
    },
    {
      "cell_type": "markdown",
      "metadata": {
        "id": "cTUk4WoFdqe3",
        "colab_type": "text"
      },
      "source": [
        "## Example 1"
      ]
    },
    {
      "cell_type": "code",
      "metadata": {
        "id": "Tbl5WtgAdqe3",
        "colab_type": "code",
        "colab": {}
      },
      "source": [
        "X = np.random.rand(10)\n",
        "A = np.random.rand(10)\n",
        "b = np.random.rand(1)"
      ],
      "execution_count": 0,
      "outputs": []
    },
    {
      "cell_type": "code",
      "metadata": {
        "id": "Clu00X7bdqe5",
        "colab_type": "code",
        "colab": {}
      },
      "source": [
        "A @ X + b"
      ],
      "execution_count": 0,
      "outputs": []
    },
    {
      "cell_type": "code",
      "metadata": {
        "id": "jl5Kh2Kgdqe6",
        "colab_type": "code",
        "colab": {}
      },
      "source": [
        "sig(A @ X + b)"
      ],
      "execution_count": 0,
      "outputs": []
    },
    {
      "cell_type": "markdown",
      "metadata": {
        "id": "2olZQpxndqe-",
        "colab_type": "text"
      },
      "source": [
        "## Example 2"
      ]
    },
    {
      "cell_type": "code",
      "metadata": {
        "id": "ifkd4Dv6dqe-",
        "colab_type": "code",
        "colab": {}
      },
      "source": [
        "W = np.array([20, 20]) # Weights\n",
        "b = np.array([-30]) # bias"
      ],
      "execution_count": 0,
      "outputs": []
    },
    {
      "cell_type": "code",
      "metadata": {
        "id": "0HvLykBXdqe_",
        "colab_type": "code",
        "colab": {}
      },
      "source": [
        "X = np.array([1, 0])"
      ],
      "execution_count": 0,
      "outputs": []
    },
    {
      "cell_type": "code",
      "metadata": {
        "id": "h3B9PXGfdqfB",
        "colab_type": "code",
        "colab": {}
      },
      "source": [
        "d = sig(W2 @ sig(W1.T @ X1 + b1) + b2)"
      ],
      "execution_count": 0,
      "outputs": []
    },
    {
      "cell_type": "code",
      "metadata": {
        "id": "8nSOSfCgdqfD",
        "colab_type": "code",
        "colab": {}
      },
      "source": [
        "np.around(d, decimals=1)"
      ],
      "execution_count": 0,
      "outputs": []
    },
    {
      "cell_type": "code",
      "metadata": {
        "id": "GqSI-1rFdqfE",
        "colab_type": "code",
        "colab": {}
      },
      "source": [
        "ff = lambda _X, _W, _b: sig(np.dot(_W.T, _X) + _b)"
      ],
      "execution_count": 0,
      "outputs": []
    },
    {
      "cell_type": "code",
      "metadata": {
        "id": "RT6H7QW-dqfF",
        "colab_type": "code",
        "colab": {}
      },
      "source": [
        "BA = [[0, 0], [0, 1], [1, 0], [1, 1]]"
      ],
      "execution_count": 0,
      "outputs": []
    },
    {
      "cell_type": "code",
      "metadata": {
        "id": "-H385XyrdqfG",
        "colab_type": "code",
        "colab": {}
      },
      "source": [
        "for ba in BA:\n",
        "    print(ba, np.around(ff(ba, W, b), decimals=1))"
      ],
      "execution_count": 0,
      "outputs": []
    },
    {
      "cell_type": "markdown",
      "metadata": {
        "id": "zJ8In26jdqfJ",
        "colab_type": "text"
      },
      "source": [
        "Change bias"
      ]
    },
    {
      "cell_type": "code",
      "metadata": {
        "id": "GRR2qRPvdqfJ",
        "colab_type": "code",
        "colab": {}
      },
      "source": [
        "b = np.array([-10])"
      ],
      "execution_count": 0,
      "outputs": []
    },
    {
      "cell_type": "code",
      "metadata": {
        "id": "VHEoLRe2dqfK",
        "colab_type": "code",
        "colab": {}
      },
      "source": [
        "for ba in BA:\n",
        "    print(ba, np.around(ff(ba, W, b), decimals=1))"
      ],
      "execution_count": 0,
      "outputs": []
    },
    {
      "cell_type": "markdown",
      "metadata": {
        "id": "vtb4HFQVdqfN",
        "colab_type": "text"
      },
      "source": [
        "Write combination for $XOR$ calculation"
      ]
    },
    {
      "cell_type": "code",
      "metadata": {
        "id": "WdkOGS2TdqfN",
        "colab_type": "code",
        "colab": {}
      },
      "source": [
        ""
      ],
      "execution_count": 0,
      "outputs": []
    }
  ]
}