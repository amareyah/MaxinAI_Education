{
 "cells": [
  {
   "cell_type": "code",
   "execution_count": 1,
   "metadata": {},
   "outputs": [],
   "source": [
    "%load_ext autoreload\n",
    "%autoreload 2\n",
    "\n",
    "%matplotlib inline"
   ]
  },
  {
   "cell_type": "markdown",
   "metadata": {},
   "source": [
    "## Basic setup"
   ]
  },
  {
   "cell_type": "markdown",
   "metadata": {},
   "source": [
    "Install SymPy library\n",
    "<br>\n",
    "```bash\n",
    "conda install sympy\n",
    "```"
   ]
  },
  {
   "cell_type": "markdown",
   "metadata": {},
   "source": [
    "# Initialize symbols"
   ]
  },
  {
   "cell_type": "markdown",
   "metadata": {},
   "source": [
    "SymPy is the library for symbolic calculations"
   ]
  },
  {
   "cell_type": "code",
   "execution_count": 2,
   "metadata": {},
   "outputs": [],
   "source": [
    "import sympy as sm"
   ]
  },
  {
   "cell_type": "code",
   "execution_count": 3,
   "metadata": {},
   "outputs": [],
   "source": [
    "a11, a12, a13, a21, a22, a23, a31, a32, a33 = sm.symbols('a11 a12 a13 a21 a22 a23 a31 a32 a33')"
   ]
  },
  {
   "cell_type": "code",
   "execution_count": 4,
   "metadata": {},
   "outputs": [
    {
     "data": {
      "text/plain": [
       "(a11, a12, a13, a21, a22, a23, a31, a32, a33)"
      ]
     },
     "execution_count": 4,
     "metadata": {},
     "output_type": "execute_result"
    }
   ],
   "source": [
    "a11, a12, a13, a21, a22, a23, a31, a32, a33"
   ]
  },
  {
   "cell_type": "markdown",
   "metadata": {},
   "source": [
    "Initialize matrix with symbols"
   ]
  },
  {
   "cell_type": "code",
   "execution_count": 8,
   "metadata": {},
   "outputs": [],
   "source": [
    "A = sm.Matrix([[a11, a12, a13], [a21, a22, a23], [a31, a32, a33]])"
   ]
  },
  {
   "cell_type": "code",
   "execution_count": 9,
   "metadata": {},
   "outputs": [
    {
     "data": {
      "text/latex": [
       "$\\displaystyle \\left[\\begin{matrix}a_{11} & a_{12} & a_{13}\\\\a_{21} & a_{22} & a_{23}\\\\a_{31} & a_{32} & a_{33}\\end{matrix}\\right]$"
      ],
      "text/plain": [
       "Matrix([\n",
       "[a11, a12, a13],\n",
       "[a21, a22, a23],\n",
       "[a31, a32, a33]])"
      ]
     },
     "execution_count": 9,
     "metadata": {},
     "output_type": "execute_result"
    }
   ],
   "source": [
    "A"
   ]
  },
  {
   "cell_type": "code",
   "execution_count": 10,
   "metadata": {},
   "outputs": [
    {
     "data": {
      "text/latex": [
       "$\\displaystyle a_{11} a_{22} a_{33} - a_{11} a_{23} a_{32} - a_{12} a_{21} a_{33} + a_{12} a_{23} a_{31} + a_{13} a_{21} a_{32} - a_{13} a_{22} a_{31}$"
      ],
      "text/plain": [
       "a11*a22*a33 - a11*a23*a32 - a12*a21*a33 + a12*a23*a31 + a13*a21*a32 - a13*a22*a31"
      ]
     },
     "execution_count": 10,
     "metadata": {},
     "output_type": "execute_result"
    }
   ],
   "source": [
    "A.det()"
   ]
  },
  {
   "cell_type": "code",
   "execution_count": 11,
   "metadata": {
    "scrolled": true
   },
   "outputs": [
    {
     "data": {
      "text/latex": [
       "$\\displaystyle \\left[\\begin{matrix}a_{11} & a_{21} & a_{31}\\\\a_{12} & a_{22} & a_{32}\\\\a_{13} & a_{23} & a_{33}\\end{matrix}\\right]$"
      ],
      "text/plain": [
       "Matrix([\n",
       "[a11, a21, a31],\n",
       "[a12, a22, a32],\n",
       "[a13, a23, a33]])"
      ]
     },
     "execution_count": 11,
     "metadata": {},
     "output_type": "execute_result"
    }
   ],
   "source": [
    "A.T"
   ]
  },
  {
   "cell_type": "markdown",
   "metadata": {},
   "source": [
    "Define second other simbolsm and other matrix"
   ]
  },
  {
   "cell_type": "code",
   "execution_count": 13,
   "metadata": {},
   "outputs": [],
   "source": [
    "b11, b12, b13, b21, b22, b23, b31, b32, b33 = sm.symbols('b11 b12 b13 b21 b22 b23 b31 b32 b33')"
   ]
  },
  {
   "cell_type": "code",
   "execution_count": 14,
   "metadata": {},
   "outputs": [],
   "source": [
    "B = sm.Matrix([[b11, b12, b13], [b21, b22, b23], [b31, b32, b33]])"
   ]
  },
  {
   "cell_type": "code",
   "execution_count": 15,
   "metadata": {},
   "outputs": [
    {
     "data": {
      "text/latex": [
       "$\\displaystyle \\left[\\begin{matrix}b_{11} & b_{12} & b_{13}\\\\b_{21} & b_{22} & b_{23}\\\\b_{31} & b_{32} & b_{33}\\end{matrix}\\right]$"
      ],
      "text/plain": [
       "Matrix([\n",
       "[b11, b12, b13],\n",
       "[b21, b22, b23],\n",
       "[b31, b32, b33]])"
      ]
     },
     "execution_count": 15,
     "metadata": {},
     "output_type": "execute_result"
    }
   ],
   "source": [
    "B"
   ]
  },
  {
   "cell_type": "markdown",
   "metadata": {},
   "source": [
    "Inverse matrix of $M \\in \\mathbb{R}^{n \\times n}$, is the matrix $M^{-1} \\in \\mathbb{R}^{n \\times n}$ for which $M^{-1}M = I$"
   ]
  },
  {
   "cell_type": "code",
   "execution_count": 16,
   "metadata": {},
   "outputs": [],
   "source": [
    "A_inv = A.inv()"
   ]
  },
  {
   "cell_type": "code",
   "execution_count": 17,
   "metadata": {},
   "outputs": [
    {
     "data": {
      "text/latex": [
       "$\\displaystyle \\left[\\begin{matrix}\\frac{a_{11} a_{22} \\left(\\left(a_{11} a_{22} - a_{12} a_{21}\\right) \\left(a_{11} a_{33} - a_{13} a_{31}\\right) - \\left(a_{11} a_{23} - a_{13} a_{21}\\right) \\left(a_{11} a_{32} - a_{12} a_{31}\\right)\\right) - \\left(- a_{12} \\left(a_{11} a_{23} - a_{13} a_{21}\\right) + a_{13} \\left(a_{11} a_{22} - a_{12} a_{21}\\right)\\right) \\left(a_{21} \\left(a_{11} a_{32} - a_{12} a_{31}\\right) - a_{31} \\left(a_{11} a_{22} - a_{12} a_{21}\\right)\\right)}{a_{11} \\left(a_{11} a_{22} - a_{12} a_{21}\\right) \\left(\\left(a_{11} a_{22} - a_{12} a_{21}\\right) \\left(a_{11} a_{33} - a_{13} a_{31}\\right) - \\left(a_{11} a_{23} - a_{13} a_{21}\\right) \\left(a_{11} a_{32} - a_{12} a_{31}\\right)\\right)} & \\frac{- a_{11} a_{12} \\left(\\left(a_{11} a_{22} - a_{12} a_{21}\\right) \\left(a_{11} a_{33} - a_{13} a_{31}\\right) - \\left(a_{11} a_{23} - a_{13} a_{21}\\right) \\left(a_{11} a_{32} - a_{12} a_{31}\\right)\\right) + a_{11} \\left(a_{11} a_{32} - a_{12} a_{31}\\right) \\left(- a_{12} \\left(a_{11} a_{23} - a_{13} a_{21}\\right) + a_{13} \\left(a_{11} a_{22} - a_{12} a_{21}\\right)\\right)}{a_{11} \\left(a_{11} a_{22} - a_{12} a_{21}\\right) \\left(\\left(a_{11} a_{22} - a_{12} a_{21}\\right) \\left(a_{11} a_{33} - a_{13} a_{31}\\right) - \\left(a_{11} a_{23} - a_{13} a_{21}\\right) \\left(a_{11} a_{32} - a_{12} a_{31}\\right)\\right)} & - \\frac{- a_{12} \\left(a_{11} a_{23} - a_{13} a_{21}\\right) + a_{13} \\left(a_{11} a_{22} - a_{12} a_{21}\\right)}{\\left(a_{11} a_{22} - a_{12} a_{21}\\right) \\left(a_{11} a_{33} - a_{13} a_{31}\\right) - \\left(a_{11} a_{23} - a_{13} a_{21}\\right) \\left(a_{11} a_{32} - a_{12} a_{31}\\right)}\\\\\\frac{- a_{21} \\left(\\left(a_{11} a_{22} - a_{12} a_{21}\\right) \\left(a_{11} a_{33} - a_{13} a_{31}\\right) - \\left(a_{11} a_{23} - a_{13} a_{21}\\right) \\left(a_{11} a_{32} - a_{12} a_{31}\\right)\\right) - \\left(a_{11} a_{23} - a_{13} a_{21}\\right) \\left(a_{21} \\left(a_{11} a_{32} - a_{12} a_{31}\\right) - a_{31} \\left(a_{11} a_{22} - a_{12} a_{21}\\right)\\right)}{\\left(a_{11} a_{22} - a_{12} a_{21}\\right) \\left(\\left(a_{11} a_{22} - a_{12} a_{21}\\right) \\left(a_{11} a_{33} - a_{13} a_{31}\\right) - \\left(a_{11} a_{23} - a_{13} a_{21}\\right) \\left(a_{11} a_{32} - a_{12} a_{31}\\right)\\right)} & \\frac{a_{11} \\left(a_{11} a_{23} - a_{13} a_{21}\\right) \\left(a_{11} a_{32} - a_{12} a_{31}\\right) + a_{11} \\left(\\left(a_{11} a_{22} - a_{12} a_{21}\\right) \\left(a_{11} a_{33} - a_{13} a_{31}\\right) - \\left(a_{11} a_{23} - a_{13} a_{21}\\right) \\left(a_{11} a_{32} - a_{12} a_{31}\\right)\\right)}{\\left(a_{11} a_{22} - a_{12} a_{21}\\right) \\left(\\left(a_{11} a_{22} - a_{12} a_{21}\\right) \\left(a_{11} a_{33} - a_{13} a_{31}\\right) - \\left(a_{11} a_{23} - a_{13} a_{21}\\right) \\left(a_{11} a_{32} - a_{12} a_{31}\\right)\\right)} & - \\frac{a_{11} \\left(a_{11} a_{23} - a_{13} a_{21}\\right)}{\\left(a_{11} a_{22} - a_{12} a_{21}\\right) \\left(a_{11} a_{33} - a_{13} a_{31}\\right) - \\left(a_{11} a_{23} - a_{13} a_{21}\\right) \\left(a_{11} a_{32} - a_{12} a_{31}\\right)}\\\\\\frac{a_{21} \\left(a_{11} a_{32} - a_{12} a_{31}\\right) - a_{31} \\left(a_{11} a_{22} - a_{12} a_{21}\\right)}{\\left(a_{11} a_{22} - a_{12} a_{21}\\right) \\left(a_{11} a_{33} - a_{13} a_{31}\\right) - \\left(a_{11} a_{23} - a_{13} a_{21}\\right) \\left(a_{11} a_{32} - a_{12} a_{31}\\right)} & - \\frac{a_{11} \\left(a_{11} a_{32} - a_{12} a_{31}\\right)}{\\left(a_{11} a_{22} - a_{12} a_{21}\\right) \\left(a_{11} a_{33} - a_{13} a_{31}\\right) - \\left(a_{11} a_{23} - a_{13} a_{21}\\right) \\left(a_{11} a_{32} - a_{12} a_{31}\\right)} & \\frac{a_{11} \\left(a_{11} a_{22} - a_{12} a_{21}\\right)}{\\left(a_{11} a_{22} - a_{12} a_{21}\\right) \\left(a_{11} a_{33} - a_{13} a_{31}\\right) - \\left(a_{11} a_{23} - a_{13} a_{21}\\right) \\left(a_{11} a_{32} - a_{12} a_{31}\\right)}\\end{matrix}\\right]$"
      ],
      "text/plain": [
       "Matrix([\n",
       "[(a11*a22*((a11*a22 - a12*a21)*(a11*a33 - a13*a31) - (a11*a23 - a13*a21)*(a11*a32 - a12*a31)) - (-a12*(a11*a23 - a13*a21) + a13*(a11*a22 - a12*a21))*(a21*(a11*a32 - a12*a31) - a31*(a11*a22 - a12*a21)))/(a11*(a11*a22 - a12*a21)*((a11*a22 - a12*a21)*(a11*a33 - a13*a31) - (a11*a23 - a13*a21)*(a11*a32 - a12*a31))), (-a11*a12*((a11*a22 - a12*a21)*(a11*a33 - a13*a31) - (a11*a23 - a13*a21)*(a11*a32 - a12*a31)) + a11*(a11*a32 - a12*a31)*(-a12*(a11*a23 - a13*a21) + a13*(a11*a22 - a12*a21)))/(a11*(a11*a22 - a12*a21)*((a11*a22 - a12*a21)*(a11*a33 - a13*a31) - (a11*a23 - a13*a21)*(a11*a32 - a12*a31))), -(-a12*(a11*a23 - a13*a21) + a13*(a11*a22 - a12*a21))/((a11*a22 - a12*a21)*(a11*a33 - a13*a31) - (a11*a23 - a13*a21)*(a11*a32 - a12*a31))],\n",
       "[                                        (-a21*((a11*a22 - a12*a21)*(a11*a33 - a13*a31) - (a11*a23 - a13*a21)*(a11*a32 - a12*a31)) - (a11*a23 - a13*a21)*(a21*(a11*a32 - a12*a31) - a31*(a11*a22 - a12*a21)))/((a11*a22 - a12*a21)*((a11*a22 - a12*a21)*(a11*a33 - a13*a31) - (a11*a23 - a13*a21)*(a11*a32 - a12*a31))),                                           (a11*(a11*a23 - a13*a21)*(a11*a32 - a12*a31) + a11*((a11*a22 - a12*a21)*(a11*a33 - a13*a31) - (a11*a23 - a13*a21)*(a11*a32 - a12*a31)))/((a11*a22 - a12*a21)*((a11*a22 - a12*a21)*(a11*a33 - a13*a31) - (a11*a23 - a13*a21)*(a11*a32 - a12*a31))),                              -a11*(a11*a23 - a13*a21)/((a11*a22 - a12*a21)*(a11*a33 - a13*a31) - (a11*a23 - a13*a21)*(a11*a32 - a12*a31))],\n",
       "[                                                                                                                                                                               (a21*(a11*a32 - a12*a31) - a31*(a11*a22 - a12*a21))/((a11*a22 - a12*a21)*(a11*a33 - a13*a31) - (a11*a23 - a13*a21)*(a11*a32 - a12*a31)),                                                                                                                                                                                -a11*(a11*a32 - a12*a31)/((a11*a22 - a12*a21)*(a11*a33 - a13*a31) - (a11*a23 - a13*a21)*(a11*a32 - a12*a31)),                               a11*(a11*a22 - a12*a21)/((a11*a22 - a12*a21)*(a11*a33 - a13*a31) - (a11*a23 - a13*a21)*(a11*a32 - a12*a31))]])"
      ]
     },
     "execution_count": 17,
     "metadata": {},
     "output_type": "execute_result"
    }
   ],
   "source": [
    "A_inv"
   ]
  },
  {
   "cell_type": "code",
   "execution_count": 19,
   "metadata": {},
   "outputs": [],
   "source": [
    "M = sm.Matrix([[1, 2, 3], [4.5, 5, 6], [a11, 7, 8]])"
   ]
  },
  {
   "cell_type": "code",
   "execution_count": 20,
   "metadata": {},
   "outputs": [
    {
     "data": {
      "text/latex": [
       "$\\displaystyle \\left[\\begin{matrix}3 a_{11} + 10.0 & 33 & 39\\\\6 a_{11} + 27.0 & 76.0 & 91.5\\\\9 a_{11} + 31.5 & 2 a_{11} + 91 & 3 a_{11} + 106\\end{matrix}\\right]$"
      ],
      "text/plain": [
       "Matrix([\n",
       "[3*a11 + 10.0,         33,          39],\n",
       "[6*a11 + 27.0,       76.0,        91.5],\n",
       "[9*a11 + 31.5, 2*a11 + 91, 3*a11 + 106]])"
      ]
     },
     "execution_count": 20,
     "metadata": {},
     "output_type": "execute_result"
    }
   ],
   "source": [
    "M * M"
   ]
  },
  {
   "cell_type": "code",
   "execution_count": 21,
   "metadata": {},
   "outputs": [],
   "source": [
    "a, b, c = sm.symbols('a, b, c')"
   ]
  },
  {
   "cell_type": "code",
   "execution_count": 22,
   "metadata": {},
   "outputs": [
    {
     "data": {
      "text/latex": [
       "$\\displaystyle \\frac{a^{2} - b^{2}}{a - b}$"
      ],
      "text/plain": [
       "(a**2 - b**2)/(a - b)"
      ]
     },
     "execution_count": 22,
     "metadata": {},
     "output_type": "execute_result"
    }
   ],
   "source": [
    "(a**2 - b**2) / (a - b)"
   ]
  },
  {
   "cell_type": "code",
   "execution_count": 23,
   "metadata": {},
   "outputs": [],
   "source": [
    "invM = M**-1"
   ]
  },
  {
   "cell_type": "code",
   "execution_count": 24,
   "metadata": {
    "scrolled": true
   },
   "outputs": [
    {
     "data": {
      "text/latex": [
       "$\\displaystyle \\left[\\begin{matrix}\\frac{8.0}{12.0 a_{11} - 82.0} & - \\frac{20.0}{12.0 a_{11} - 82.0} & \\frac{12.0}{12.0 a_{11} - 82.0}\\\\\\frac{144.0 - 24.0 a_{11}}{12.0 a_{11} - 82.0} & \\frac{12.0 a_{11} - 32.0}{12.0 a_{11} - 82.0} & - \\frac{30.0}{12.0 a_{11} - 82.0}\\\\\\frac{31.5 - 5.0 a_{11}}{20.5 - 3.0 a_{11}} & \\frac{2 a_{11} - 7}{20.5 - 3.0 a_{11}} & - \\frac{4.0}{20.5 - 3.0 a_{11}}\\end{matrix}\\right]$"
      ],
      "text/plain": [
       "Matrix([\n",
       "[               8.0/(12.0*a11 - 82.0),             -20.0/(12.0*a11 - 82.0),  12.0/(12.0*a11 - 82.0)],\n",
       "[(144.0 - 24.0*a11)/(12.0*a11 - 82.0), (12.0*a11 - 32.0)/(12.0*a11 - 82.0), -30.0/(12.0*a11 - 82.0)],\n",
       "[   (31.5 - 5.0*a11)/(20.5 - 3.0*a11),        (2*a11 - 7)/(20.5 - 3.0*a11),   -4.0/(20.5 - 3.0*a11)]])"
      ]
     },
     "execution_count": 24,
     "metadata": {},
     "output_type": "execute_result"
    }
   ],
   "source": [
    "invM"
   ]
  },
  {
   "cell_type": "markdown",
   "metadata": {},
   "source": [
    "# My SVD problem"
   ]
  },
  {
   "cell_type": "code",
   "execution_count": 25,
   "metadata": {},
   "outputs": [],
   "source": [
    "U = sm.Matrix([['u11','u12','u13','u14'],\n",
    "               ['u21','u22','u23','u24'],\n",
    "               ['u31','u32','u33','u34'],\n",
    "               ['u41','u42','u43','u44']])"
   ]
  },
  {
   "cell_type": "code",
   "execution_count": 26,
   "metadata": {},
   "outputs": [
    {
     "data": {
      "text/latex": [
       "$\\displaystyle \\left[\\begin{matrix}u_{11} & u_{12} & u_{13} & u_{14}\\\\u_{21} & u_{22} & u_{23} & u_{24}\\\\u_{31} & u_{32} & u_{33} & u_{34}\\\\u_{41} & u_{42} & u_{43} & u_{44}\\end{matrix}\\right]$"
      ],
      "text/plain": [
       "Matrix([\n",
       "[u11, u12, u13, u14],\n",
       "[u21, u22, u23, u24],\n",
       "[u31, u32, u33, u34],\n",
       "[u41, u42, u43, u44]])"
      ]
     },
     "execution_count": 26,
     "metadata": {},
     "output_type": "execute_result"
    }
   ],
   "source": [
    "U"
   ]
  },
  {
   "cell_type": "code",
   "execution_count": 27,
   "metadata": {},
   "outputs": [],
   "source": [
    "V = sm.Matrix([['v11','v12','v13','v14','v15'],\n",
    "               ['v21','v22','v23','v24','v25'],\n",
    "               ['v31','v32','v33','v34','v35'],\n",
    "               ['v41','v42','v43','v44','v45'],\n",
    "               ['v51','v52','v53','v54','v55']])"
   ]
  },
  {
   "cell_type": "code",
   "execution_count": 28,
   "metadata": {},
   "outputs": [
    {
     "data": {
      "text/latex": [
       "$\\displaystyle \\left[\\begin{matrix}v_{11} & v_{12} & v_{13} & v_{14} & v_{15}\\\\v_{21} & v_{22} & v_{23} & v_{24} & v_{25}\\\\v_{31} & v_{32} & v_{33} & v_{34} & v_{35}\\\\v_{41} & v_{42} & v_{43} & v_{44} & v_{45}\\\\v_{51} & v_{52} & v_{53} & v_{54} & v_{55}\\end{matrix}\\right]$"
      ],
      "text/plain": [
       "Matrix([\n",
       "[v11, v12, v13, v14, v15],\n",
       "[v21, v22, v23, v24, v25],\n",
       "[v31, v32, v33, v34, v35],\n",
       "[v41, v42, v43, v44, v45],\n",
       "[v51, v52, v53, v54, v55]])"
      ]
     },
     "execution_count": 28,
     "metadata": {},
     "output_type": "execute_result"
    }
   ],
   "source": [
    "V"
   ]
  },
  {
   "cell_type": "code",
   "execution_count": 29,
   "metadata": {},
   "outputs": [],
   "source": [
    "Sigma = sm.diag(sm.symbols('\\sigma_{11}'), sm.symbols('\\sigma_{22}'), sm.symbols('\\sigma_{33}'))"
   ]
  },
  {
   "cell_type": "code",
   "execution_count": 30,
   "metadata": {},
   "outputs": [],
   "source": [
    "Sigma = Sigma.row_insert(4,sm.zeros(1,3)).col_insert(4,sm.zeros(4,2))"
   ]
  },
  {
   "cell_type": "code",
   "execution_count": 31,
   "metadata": {},
   "outputs": [
    {
     "data": {
      "text/latex": [
       "$\\displaystyle \\left[\\begin{matrix}\\sigma_{11} & 0 & 0 & 0 & 0\\\\0 & \\sigma_{22} & 0 & 0 & 0\\\\0 & 0 & \\sigma_{33} & 0 & 0\\\\0 & 0 & 0 & 0 & 0\\end{matrix}\\right]$"
      ],
      "text/plain": [
       "Matrix([\n",
       "[\\sigma_{11},           0,           0, 0, 0],\n",
       "[          0, \\sigma_{22},           0, 0, 0],\n",
       "[          0,           0, \\sigma_{33}, 0, 0],\n",
       "[          0,           0,           0, 0, 0]])"
      ]
     },
     "execution_count": 31,
     "metadata": {},
     "output_type": "execute_result"
    }
   ],
   "source": [
    "Sigma"
   ]
  },
  {
   "cell_type": "code",
   "execution_count": 32,
   "metadata": {},
   "outputs": [
    {
     "data": {
      "text/latex": [
       "$\\displaystyle \\left[\\begin{matrix}\\sigma_{11} u_{11} v_{11} + \\sigma_{22} u_{12} v_{12} + \\sigma_{33} u_{13} v_{13} & \\sigma_{11} u_{11} v_{21} + \\sigma_{22} u_{12} v_{22} + \\sigma_{33} u_{13} v_{23} & \\sigma_{11} u_{11} v_{31} + \\sigma_{22} u_{12} v_{32} + \\sigma_{33} u_{13} v_{33} & \\sigma_{11} u_{11} v_{41} + \\sigma_{22} u_{12} v_{42} + \\sigma_{33} u_{13} v_{43} & \\sigma_{11} u_{11} v_{51} + \\sigma_{22} u_{12} v_{52} + \\sigma_{33} u_{13} v_{53}\\\\\\sigma_{11} u_{21} v_{11} + \\sigma_{22} u_{22} v_{12} + \\sigma_{33} u_{23} v_{13} & \\sigma_{11} u_{21} v_{21} + \\sigma_{22} u_{22} v_{22} + \\sigma_{33} u_{23} v_{23} & \\sigma_{11} u_{21} v_{31} + \\sigma_{22} u_{22} v_{32} + \\sigma_{33} u_{23} v_{33} & \\sigma_{11} u_{21} v_{41} + \\sigma_{22} u_{22} v_{42} + \\sigma_{33} u_{23} v_{43} & \\sigma_{11} u_{21} v_{51} + \\sigma_{22} u_{22} v_{52} + \\sigma_{33} u_{23} v_{53}\\\\\\sigma_{11} u_{31} v_{11} + \\sigma_{22} u_{32} v_{12} + \\sigma_{33} u_{33} v_{13} & \\sigma_{11} u_{31} v_{21} + \\sigma_{22} u_{32} v_{22} + \\sigma_{33} u_{33} v_{23} & \\sigma_{11} u_{31} v_{31} + \\sigma_{22} u_{32} v_{32} + \\sigma_{33} u_{33} v_{33} & \\sigma_{11} u_{31} v_{41} + \\sigma_{22} u_{32} v_{42} + \\sigma_{33} u_{33} v_{43} & \\sigma_{11} u_{31} v_{51} + \\sigma_{22} u_{32} v_{52} + \\sigma_{33} u_{33} v_{53}\\\\\\sigma_{11} u_{41} v_{11} + \\sigma_{22} u_{42} v_{12} + \\sigma_{33} u_{43} v_{13} & \\sigma_{11} u_{41} v_{21} + \\sigma_{22} u_{42} v_{22} + \\sigma_{33} u_{43} v_{23} & \\sigma_{11} u_{41} v_{31} + \\sigma_{22} u_{42} v_{32} + \\sigma_{33} u_{43} v_{33} & \\sigma_{11} u_{41} v_{41} + \\sigma_{22} u_{42} v_{42} + \\sigma_{33} u_{43} v_{43} & \\sigma_{11} u_{41} v_{51} + \\sigma_{22} u_{42} v_{52} + \\sigma_{33} u_{43} v_{53}\\end{matrix}\\right]$"
      ],
      "text/plain": [
       "Matrix([\n",
       "[\\sigma_{11}*u11*v11 + \\sigma_{22}*u12*v12 + \\sigma_{33}*u13*v13, \\sigma_{11}*u11*v21 + \\sigma_{22}*u12*v22 + \\sigma_{33}*u13*v23, \\sigma_{11}*u11*v31 + \\sigma_{22}*u12*v32 + \\sigma_{33}*u13*v33, \\sigma_{11}*u11*v41 + \\sigma_{22}*u12*v42 + \\sigma_{33}*u13*v43, \\sigma_{11}*u11*v51 + \\sigma_{22}*u12*v52 + \\sigma_{33}*u13*v53],\n",
       "[\\sigma_{11}*u21*v11 + \\sigma_{22}*u22*v12 + \\sigma_{33}*u23*v13, \\sigma_{11}*u21*v21 + \\sigma_{22}*u22*v22 + \\sigma_{33}*u23*v23, \\sigma_{11}*u21*v31 + \\sigma_{22}*u22*v32 + \\sigma_{33}*u23*v33, \\sigma_{11}*u21*v41 + \\sigma_{22}*u22*v42 + \\sigma_{33}*u23*v43, \\sigma_{11}*u21*v51 + \\sigma_{22}*u22*v52 + \\sigma_{33}*u23*v53],\n",
       "[\\sigma_{11}*u31*v11 + \\sigma_{22}*u32*v12 + \\sigma_{33}*u33*v13, \\sigma_{11}*u31*v21 + \\sigma_{22}*u32*v22 + \\sigma_{33}*u33*v23, \\sigma_{11}*u31*v31 + \\sigma_{22}*u32*v32 + \\sigma_{33}*u33*v33, \\sigma_{11}*u31*v41 + \\sigma_{22}*u32*v42 + \\sigma_{33}*u33*v43, \\sigma_{11}*u31*v51 + \\sigma_{22}*u32*v52 + \\sigma_{33}*u33*v53],\n",
       "[\\sigma_{11}*u41*v11 + \\sigma_{22}*u42*v12 + \\sigma_{33}*u43*v13, \\sigma_{11}*u41*v21 + \\sigma_{22}*u42*v22 + \\sigma_{33}*u43*v23, \\sigma_{11}*u41*v31 + \\sigma_{22}*u42*v32 + \\sigma_{33}*u43*v33, \\sigma_{11}*u41*v41 + \\sigma_{22}*u42*v42 + \\sigma_{33}*u43*v43, \\sigma_{11}*u41*v51 + \\sigma_{22}*u42*v52 + \\sigma_{33}*u43*v53]])"
      ]
     },
     "execution_count": 32,
     "metadata": {},
     "output_type": "execute_result"
    }
   ],
   "source": [
    "U * Sigma * V.T"
   ]
  },
  {
   "cell_type": "code",
   "execution_count": 34,
   "metadata": {},
   "outputs": [
    {
     "data": {
      "text/latex": [
       "$\\displaystyle \\left[\\begin{matrix}1 & 0 & 0\\\\0 & 1 & 0\\\\0 & 0 & 1\\end{matrix}\\right]$"
      ],
      "text/plain": [
       "Matrix([\n",
       "[1, 0, 0],\n",
       "[0, 1, 0],\n",
       "[0, 0, 1]])"
      ]
     },
     "execution_count": 34,
     "metadata": {},
     "output_type": "execute_result"
    }
   ],
   "source": [
    "sm.simplify(A * A_inv)"
   ]
  },
  {
   "cell_type": "code",
   "execution_count": 35,
   "metadata": {},
   "outputs": [
    {
     "data": {
      "text/latex": [
       "$\\displaystyle a + b$"
      ],
      "text/plain": [
       "a + b"
      ]
     },
     "execution_count": 35,
     "metadata": {},
     "output_type": "execute_result"
    }
   ],
   "source": [
    "sm.simplify((a**2 - b**2) / (a - b))"
   ]
  },
  {
   "cell_type": "code",
   "execution_count": 36,
   "metadata": {},
   "outputs": [],
   "source": [
    "n = sm.symbols('n')"
   ]
  },
  {
   "cell_type": "code",
   "execution_count": 40,
   "metadata": {},
   "outputs": [
    {
     "data": {
      "text/latex": [
       "$\\displaystyle \\frac{a^{3} - b^{3}}{a - b}$"
      ],
      "text/plain": [
       "(a**3 - b**3)/(a - b)"
      ]
     },
     "execution_count": 40,
     "metadata": {},
     "output_type": "execute_result"
    }
   ],
   "source": [
    "sm.simplify((a**3 - b**3) / (a - b))"
   ]
  },
  {
   "cell_type": "code",
   "execution_count": 39,
   "metadata": {},
   "outputs": [
    {
     "data": {
      "text/latex": [
       "$\\displaystyle a^{3} - 3 a^{2} b + 3 a b^{2} - b^{3}$"
      ],
      "text/plain": [
       "a**3 - 3*a**2*b + 3*a*b**2 - b**3"
      ]
     },
     "execution_count": 39,
     "metadata": {},
     "output_type": "execute_result"
    }
   ],
   "source": [
    "sm.expand((a - b)**3, inverse=False)"
   ]
  },
  {
   "cell_type": "code",
   "execution_count": null,
   "metadata": {},
   "outputs": [],
   "source": []
  },
  {
   "cell_type": "code",
   "execution_count": null,
   "metadata": {},
   "outputs": [],
   "source": []
  }
 ],
 "metadata": {
  "kernelspec": {
   "display_name": "Python 3",
   "language": "python",
   "name": "python3"
  },
  "language_info": {
   "codemirror_mode": {
    "name": "ipython",
    "version": 3
   },
   "file_extension": ".py",
   "mimetype": "text/x-python",
   "name": "python",
   "nbconvert_exporter": "python",
   "pygments_lexer": "ipython3",
   "version": "3.7.4"
  }
 },
 "nbformat": 4,
 "nbformat_minor": 4
}
