{
  "nbformat": 4,
  "nbformat_minor": 0,
  "metadata": {
    "kernelspec": {
      "name": "python3",
      "display_name": "Python 3"
    },
    "language_info": {
      "codemirror_mode": {
        "name": "ipython",
        "version": 3
      },
      "file_extension": ".py",
      "mimetype": "text/x-python",
      "name": "python",
      "nbconvert_exporter": "python",
      "pygments_lexer": "ipython3",
      "version": "3.7.5"
    },
    "colab": {
      "name": "lecture_13_unsupervised_ml_my_imple.ipynb",
      "provenance": []
    },
    "accelerator": "GPU"
  },
  "cells": [
    {
      "cell_type": "code",
      "metadata": {
        "id": "VcRdrSzd4x0I",
        "colab_type": "code",
        "colab": {}
      },
      "source": [
        "import torch\n",
        "import torch.nn as nn\n",
        "import torchvision as tv\n",
        "from torch.utils.data import DataLoader\n",
        "\n",
        "import numpy as np\n",
        "import random\n",
        "import os\n",
        "from pathlib import Path\n",
        "import matplotlib.pyplot as plt\n",
        "\n",
        "from typing import Tuple, List\n",
        "\n",
        "%matplotlib inline"
      ],
      "execution_count": 0,
      "outputs": []
    },
    {
      "cell_type": "code",
      "metadata": {
        "id": "pSQW115P4x0Q",
        "colab_type": "code",
        "colab": {}
      },
      "source": [
        "def get_mnist_ds(is_train:bool):\n",
        "    return tv.datasets.MNIST(root = Path('mnistdata'),\n",
        "                             train = is_train,\n",
        "                             transform = tv.transforms.ToTensor(),\n",
        "                             target_transform = None,\n",
        "                             download = True\n",
        "                            )"
      ],
      "execution_count": 0,
      "outputs": []
    },
    {
      "cell_type": "code",
      "metadata": {
        "id": "WEesEVRL4x0W",
        "colab_type": "code",
        "colab": {}
      },
      "source": [
        "def get_mnist_ds_loader(batch_size):\n",
        "        train_ds = get_mnist_ds(is_train = True)\n",
        "        valid_ds = get_mnist_ds(is_train = False)\n",
        "        \n",
        "        return (DataLoader(train_ds, batch_size, shuffle = True),\n",
        "                DataLoader(valid_ds, 2*batch_size, shuffle = False))\n",
        "    "
      ],
      "execution_count": 0,
      "outputs": []
    },
    {
      "cell_type": "code",
      "metadata": {
        "id": "cQpj5gyt4x0c",
        "colab_type": "code",
        "colab": {}
      },
      "source": [
        "train_dl, valid_dl = get_mnist_ds_loader(32)"
      ],
      "execution_count": 0,
      "outputs": []
    },
    {
      "cell_type": "code",
      "metadata": {
        "id": "iQ-w23eo4x0h",
        "colab_type": "code",
        "colab": {}
      },
      "source": [
        "len(train_dl.dataset), len(valid_dl.dataset)"
      ],
      "execution_count": 0,
      "outputs": []
    },
    {
      "cell_type": "code",
      "metadata": {
        "id": "4NFPyxfW4x0n",
        "colab_type": "code",
        "colab": {}
      },
      "source": [
        "train_dl.dataset.data.shape"
      ],
      "execution_count": 0,
      "outputs": []
    },
    {
      "cell_type": "code",
      "metadata": {
        "id": "DG5ffvq34x0t",
        "colab_type": "code",
        "colab": {}
      },
      "source": [
        "for i, x in enumerate(train_dl):\n",
        "    print(x[0].shape)\n",
        "    print(x[1].shape)\n",
        "    plt.imshow(x[0][0][0],cmap='gray')\n",
        "    plt.show()\n",
        "    if i>3 : break"
      ],
      "execution_count": 0,
      "outputs": []
    },
    {
      "cell_type": "code",
      "metadata": {
        "id": "SFp59BVE4x0y",
        "colab_type": "code",
        "colab": {}
      },
      "source": [
        "class Encoder(nn.Module):\n",
        "    def __init__(self, inp_size: Tuple[int,int], hidden_size: int, out_size: int):\n",
        "        \n",
        "        super().__init__()\n",
        "        \n",
        "        self.enc = nn.Sequential(nn.Flatten(),\n",
        "                                 nn.Linear(np.prod(inp_size), hidden_size),\n",
        "                                 nn.ReLU(),\n",
        "                                 nn.Linear(hidden_size, out_size))\n",
        "        \n",
        "    def forward(self, x):\n",
        "        return self.enc(x)\n",
        "        "
      ],
      "execution_count": 0,
      "outputs": []
    },
    {
      "cell_type": "code",
      "metadata": {
        "id": "eXz9UMcF4x03",
        "colab_type": "code",
        "colab": {}
      },
      "source": [
        "class Decoder(nn.Module):\n",
        "    def __init__(self, inp_size: int, hidden_size: int, out_size: Tuple[int,int]):\n",
        "        \n",
        "        super().__init__()\n",
        "        self.out_size = out_size\n",
        "        self.dec = nn.Sequential(nn.Linear(inp_size, hidden_size),\n",
        "                                 nn.ReLU(),\n",
        "                                 nn.Linear(hidden_size, np.prod(out_size)),\n",
        "                                 nn.Sigmoid())\n",
        "        \n",
        "    def forward(self, x):\n",
        "        x = self.dec(x)\n",
        "        return x.view((x.shape[0],*self.out_size))"
      ],
      "execution_count": 0,
      "outputs": []
    },
    {
      "cell_type": "code",
      "metadata": {
        "id": "ANO41t9q4x0_",
        "colab_type": "code",
        "colab": {}
      },
      "source": [
        "class AutoEncoder(nn.Module):\n",
        "    def __init__(self, inp_size: Tuple[int,int], hidden_size: int, out_size: int):\n",
        "        super().__init__()\n",
        "        \n",
        "        self.enc = Encoder(inp_size, hidden_size, out_size)\n",
        "        self.dec = Decoder(out_size, hidden_size, inp_size)\n",
        "        \n",
        "    def forward(self, x):\n",
        "        out = self.enc(x)\n",
        "        out = self.dec(out)\n",
        "        \n",
        "        return out"
      ],
      "execution_count": 0,
      "outputs": []
    },
    {
      "cell_type": "code",
      "metadata": {
        "id": "zpaYf0jJ4x1I",
        "colab_type": "code",
        "colab": {}
      },
      "source": [
        "ae = AutoEncoder(inp_size=(28,28),hidden_size=512,out_size=20)\n",
        "ae"
      ],
      "execution_count": 0,
      "outputs": []
    },
    {
      "cell_type": "code",
      "metadata": {
        "id": "-6RIPM644x1O",
        "colab_type": "code",
        "colab": {}
      },
      "source": [
        "x, y = valid_dl.dataset[30]"
      ],
      "execution_count": 0,
      "outputs": []
    },
    {
      "cell_type": "code",
      "metadata": {
        "id": "ly9rPf_w4x1T",
        "colab_type": "code",
        "colab": {}
      },
      "source": [
        "print(x.shape)\n",
        "print(x.requires_grad)"
      ],
      "execution_count": 0,
      "outputs": []
    },
    {
      "cell_type": "code",
      "metadata": {
        "id": "SjHp98DT4x1X",
        "colab_type": "code",
        "colab": {}
      },
      "source": [
        "with torch.no_grad():\n",
        "    out = ae(x)\n",
        "print(out.shape)\n",
        "print(out.requires_grad)"
      ],
      "execution_count": 0,
      "outputs": []
    },
    {
      "cell_type": "code",
      "metadata": {
        "id": "I666rzy-4x1d",
        "colab_type": "code",
        "colab": {}
      },
      "source": [
        "out = ae(x)\n",
        "print(out.shape)\n",
        "print(out.requires_grad)"
      ],
      "execution_count": 0,
      "outputs": []
    },
    {
      "cell_type": "code",
      "metadata": {
        "id": "V6hMyiEJ4x1i",
        "colab_type": "code",
        "colab": {}
      },
      "source": [
        "plt.imshow(x[0], cmap='gray')"
      ],
      "execution_count": 0,
      "outputs": []
    },
    {
      "cell_type": "code",
      "metadata": {
        "scrolled": true,
        "id": "ewRHHup24x1n",
        "colab_type": "code",
        "colab": {}
      },
      "source": [
        "plt.imshow(out[0].detach(),cmap='gray')"
      ],
      "execution_count": 0,
      "outputs": []
    },
    {
      "cell_type": "code",
      "metadata": {
        "id": "v10hOUFL4x1r",
        "colab_type": "code",
        "colab": {}
      },
      "source": [
        "def show_summary(valid_dl: DataLoader, model: nn.Module):\n",
        "    ELEM_NUM = 10\n",
        "    \n",
        "    device = model.parameters().__next__().device\n",
        "    ae.eval()\n",
        "\n",
        "    actual_list = [x for i, (x, y) in enumerate(valid_dl.dataset) if i < ELEM_NUM]\n",
        "    \n",
        "    with torch.no_grad():\n",
        "        actuals_batch = torch.cat(actual_list).unsqueeze(1)\n",
        "        reconst_batch = ae(actuals_batch.to(device)).cpu().unsqueeze(1)\n",
        "    \n",
        "    ae.train()\n",
        "    \n",
        "    grid_elems = [*actuals_batch, *reconst_batch]\n",
        "\n",
        "    grid = tv.utils.make_grid(grid_elems, nrow=ELEM_NUM, padding=1, pad_value =1)\n",
        "  \n",
        "    plt.figure(figsize=(15,15))\n",
        "    plt.imshow(grid.permute(1,2,0))\n",
        "    plt.axis('off')\n",
        "    plt.show()"
      ],
      "execution_count": 0,
      "outputs": []
    },
    {
      "cell_type": "code",
      "metadata": {
        "id": "eH8BfVrV4x1v",
        "colab_type": "code",
        "colab": {}
      },
      "source": [
        "def show_summary_1(valid_dl:DataLoader, model: nn.Module):\n",
        "    ELEM_NUM = 15\n",
        "    \n",
        "    device = model.parameters().__next__().device\n",
        "    ae.eval()\n",
        "    \n",
        "    actuals, reconst = [], []\n",
        "    \n",
        "    with torch.no_grad():\n",
        "        for i, (x, y) in enumerate(valid_dl.dataset):\n",
        "            actuals.append(x)\n",
        "            reconst.append(ae(x.to(device)).detach().cpu())\n",
        "            if i == ELEM_NUM-1: break\n",
        "    \n",
        "    ae.train()\n",
        "    \n",
        "    grid_elems = [*actuals, *reconst]\n",
        "    grid = tv.utils.make_grid(grid_elems, nrow=ELEM_NUM, padding=1,pad_value=1)\n",
        "\n",
        "    plt.figure(figsize=(15,15))\n",
        "    plt.imshow(grid.permute(1,2,0))\n",
        "    plt.axis('off')\n",
        "    plt.show()"
      ],
      "execution_count": 0,
      "outputs": []
    },
    {
      "cell_type": "code",
      "metadata": {
        "id": "wWQAngHO4x10",
        "colab_type": "code",
        "colab": {}
      },
      "source": [
        ""
      ],
      "execution_count": 0,
      "outputs": []
    },
    {
      "cell_type": "code",
      "metadata": {
        "id": "pPSSrrl04x16",
        "colab_type": "code",
        "colab": {}
      },
      "source": [
        "%%time\n",
        "show_summary(valid_dl,ae)"
      ],
      "execution_count": 0,
      "outputs": []
    },
    {
      "cell_type": "code",
      "metadata": {
        "id": "ivMGn9ej4x1-",
        "colab_type": "code",
        "colab": {}
      },
      "source": [
        "%%time\n",
        "show_summary_1(valid_dl,ae)"
      ],
      "execution_count": 0,
      "outputs": []
    },
    {
      "cell_type": "code",
      "metadata": {
        "id": "z4cRCXJ94x2C",
        "colab_type": "code",
        "colab": {}
      },
      "source": [
        "def seed_everything(seed=0):\n",
        "    random.seed(seed)\n",
        "    os.environ['PYTHONHASHSEED'] = str(seed)\n",
        "    np.random.seed(seed)\n",
        "    torch.manual_seed(seed)\n",
        "    torch.cuda.manual_seed(seed)\n",
        "    torch.backends.cudnn.deterministic = True"
      ],
      "execution_count": 0,
      "outputs": []
    },
    {
      "cell_type": "code",
      "metadata": {
        "id": "5y2xxATA4x2G",
        "colab_type": "code",
        "colab": {}
      },
      "source": [
        "seed_everything()"
      ],
      "execution_count": 0,
      "outputs": []
    },
    {
      "cell_type": "code",
      "metadata": {
        "id": "Jc9Svkwv4x1E",
        "colab_type": "code",
        "colab": {}
      },
      "source": [
        "device = torch.device('cuda')\n",
        "ae = ae.to(device)"
      ],
      "execution_count": 0,
      "outputs": []
    },
    {
      "cell_type": "code",
      "metadata": {
        "id": "voc1QHdZ4x2N",
        "colab_type": "code",
        "colab": {}
      },
      "source": [
        "def init_params(m:nn.Module):\n",
        "    if type(m) == nn.Linear:\n",
        "      nn.init.orthogonal_(m.weight.data)\n",
        "      nn.init.zeros_(m.bias.data)\n",
        "    "
      ],
      "execution_count": 0,
      "outputs": []
    },
    {
      "cell_type": "code",
      "metadata": {
        "id": "25qPeZUnF2kv",
        "colab_type": "code",
        "colab": {}
      },
      "source": [
        "mse_loss = nn.MSELoss()\n",
        "optim = torch.optim.Adam(ae.parameters(), lr = 0.001)"
      ],
      "execution_count": 0,
      "outputs": []
    },
    {
      "cell_type": "code",
      "metadata": {
        "id": "kda6pnKw4x2W",
        "colab_type": "code",
        "colab": {}
      },
      "source": [
        "ae.apply(init_params)\n",
        "total_epochs = 5\n",
        "\n",
        "LOG_INTERVAL = 100\n",
        "SUMMARY_INTERVAL = 200\n",
        "\n",
        "acc_cost = 0\n",
        "\n",
        "for epoch in range(0,total_epochs):\n",
        "    for i, (x, y) in enumerate(train_dl):\n",
        "        optim.zero_grad()\n",
        "        x = x.to(device)\n",
        "        target = ae(x).unsqueeze(1)\n",
        "        cost = mse_loss(x, target)\n",
        "        acc_cost += cost.item()\n",
        "        cost.backward()\n",
        "        optim.step()\n",
        "        \n",
        "        if (i%LOG_INTERVAL) == 0:\n",
        "            print(f\"epoch {epoch} | iter {i} | acc_cost {acc_cost:.4f} | cost {cost:.4f}\")\n",
        "            acc_cost = 0       \n",
        "        \n",
        "        if (i%SUMMARY_INTERVAL)==0:\n",
        "            show_summary_1(valid_dl,ae)\n",
        "        "
      ],
      "execution_count": 0,
      "outputs": []
    },
    {
      "cell_type": "code",
      "metadata": {
        "id": "L6lXVO2X4x2a",
        "colab_type": "code",
        "colab": {}
      },
      "source": [
        ""
      ],
      "execution_count": 0,
      "outputs": []
    }
  ]
}