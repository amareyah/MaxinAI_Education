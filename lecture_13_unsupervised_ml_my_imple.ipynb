{
 "cells": [
  {
   "cell_type": "code",
   "execution_count": null,
   "metadata": {},
   "outputs": [],
   "source": [
    "import torch\n",
    "import torch.nn as nn\n",
    "import torchvision as tv\n",
    "from torch.utils.data import DataLoader\n",
    "\n",
    "import numpy as np\n",
    "from pathlib import Path\n",
    "import matplotlib.pyplot as plt\n",
    "\n",
    "from typing import Tuple, List\n",
    "\n",
    "%matplotlib inline"
   ]
  },
  {
   "cell_type": "code",
   "execution_count": null,
   "metadata": {},
   "outputs": [],
   "source": [
    "def get_mnist_ds(is_train:bool):\n",
    "    return tv.datasets.MNIST(root = Path('mnistdata'),\n",
    "                             train = is_train,\n",
    "                             transform = tv.transforms.ToTensor(),\n",
    "                             target_transform = None,\n",
    "                             download = True\n",
    "                            )"
   ]
  },
  {
   "cell_type": "code",
   "execution_count": null,
   "metadata": {},
   "outputs": [],
   "source": [
    "def get_mnist_ds_loader(batch_size):\n",
    "        train_ds = get_mnist_ds(is_train = True)\n",
    "        valid_ds = get_mnist_ds(is_train = False)\n",
    "        \n",
    "        return (DataLoader(train_ds, batch_size, shuffle = True),\n",
    "                DataLoader(valid_ds, 2*batch_size, shuffle = False))\n",
    "    "
   ]
  },
  {
   "cell_type": "code",
   "execution_count": null,
   "metadata": {},
   "outputs": [],
   "source": [
    "train_dl, valid_dl = get_mnist_ds_loader(32)"
   ]
  },
  {
   "cell_type": "code",
   "execution_count": null,
   "metadata": {},
   "outputs": [],
   "source": [
    "len(train_dl.dataset), len(valid_dl.dataset)"
   ]
  },
  {
   "cell_type": "code",
   "execution_count": null,
   "metadata": {},
   "outputs": [],
   "source": [
    "train_dl.dataset.data.shape"
   ]
  },
  {
   "cell_type": "code",
   "execution_count": null,
   "metadata": {},
   "outputs": [],
   "source": [
    "for i, x in enumerate(train_dl):\n",
    "    print(x[0].shape)\n",
    "    print(x[1].shape)\n",
    "    plt.imshow(x[0][0][0],cmap='gray')\n",
    "    plt.show()\n",
    "    if i>3 : break"
   ]
  },
  {
   "cell_type": "code",
   "execution_count": null,
   "metadata": {},
   "outputs": [],
   "source": [
    "class Encoder(nn.Module):\n",
    "    def __init__(self, inp_size: Tuple[int,int], hidden_size: int, out_size: int):\n",
    "        \n",
    "        super().__init__()\n",
    "        \n",
    "        self.enc = nn.Sequential(nn.Flatten(),\n",
    "                                 nn.Linear(np.prod(inp_size), hidden_size),\n",
    "                                 nn.ReLU(),\n",
    "                                 nn.Linear(hidden_size, out_size))\n",
    "        \n",
    "    def forward(self, x):\n",
    "        return self.enc(x)\n",
    "        "
   ]
  },
  {
   "cell_type": "code",
   "execution_count": null,
   "metadata": {},
   "outputs": [],
   "source": [
    "class Decoder(nn.Module):\n",
    "    def __init__(self, inp_size: int, hidden_size: int, out_size: Tuple[int,int]):\n",
    "        \n",
    "        super().__init__()\n",
    "        self.out_size = out_size\n",
    "        self.dec = nn.Sequential(nn.Linear(inp_size, hidden_size),\n",
    "                                 nn.ReLU(),\n",
    "                                 nn.Linear(hidden_size, np.prod(out_size)),\n",
    "                                 nn.Sigmoid())\n",
    "        \n",
    "    def forward(self, x):\n",
    "        x = self.dec(x)\n",
    "        return x.view((x.shape[0],*self.out_size))"
   ]
  },
  {
   "cell_type": "code",
   "execution_count": null,
   "metadata": {},
   "outputs": [],
   "source": [
    "class AutoEncoder(nn.Module):\n",
    "    def __init__(self, inp_size: Tuple[int,int], hidden_size: int, out_size: int):\n",
    "        super().__init__()\n",
    "        \n",
    "        self.enc = Encoder(inp_size, hidden_size, out_size)\n",
    "        self.dec = Decoder(out_size, hidden_size, inp_size)\n",
    "        \n",
    "    def forward(self, x):\n",
    "        out = self.enc(x)\n",
    "        out = self.dec(out)\n",
    "        \n",
    "        return out"
   ]
  },
  {
   "cell_type": "code",
   "execution_count": null,
   "metadata": {},
   "outputs": [],
   "source": [
    "ae = AutoEncoder(inp_size=(28,28),hidden_size=512,out_size=20)\n",
    "ae"
   ]
  },
  {
   "cell_type": "code",
   "execution_count": null,
   "metadata": {},
   "outputs": [],
   "source": [
    "x, y = valid_dl.dataset[30]"
   ]
  },
  {
   "cell_type": "code",
   "execution_count": null,
   "metadata": {},
   "outputs": [],
   "source": [
    "print(x.shape)\n",
    "print(x.requires_grad)"
   ]
  },
  {
   "cell_type": "code",
   "execution_count": null,
   "metadata": {},
   "outputs": [],
   "source": [
    "with torch.no_grad():\n",
    "    out = ae(x)"
   ]
  },
  {
   "cell_type": "code",
   "execution_count": null,
   "metadata": {},
   "outputs": [],
   "source": [
    "print(out.shape)\n",
    "print(out.requires_grad)"
   ]
  },
  {
   "cell_type": "code",
   "execution_count": null,
   "metadata": {},
   "outputs": [],
   "source": [
    "plt.imshow(x[0], cmap='gray')"
   ]
  },
  {
   "cell_type": "code",
   "execution_count": null,
   "metadata": {
    "scrolled": true
   },
   "outputs": [],
   "source": [
    "plt.imshow(out[0],cmap='gray')"
   ]
  },
  {
   "cell_type": "code",
   "execution_count": null,
   "metadata": {},
   "outputs": [],
   "source": [
    "def show_summary(valid_dl: DataLoader, model: nn.Module):\n",
    "    ELEM_NUM = 10\n",
    "    \n",
    "    device = model.parameters().__next__().device\n",
    "    ae.eval()\n",
    "\n",
    "    actual_list = [x for i, (x, y) in enumerate(valid_dl.dataset) if i < ELEM_NUM]\n",
    "    \n",
    "    with torch.no_grad():\n",
    "        actuals_batch = torch.cat(actual_list).unsqueeze(1)\n",
    "        reconst_batch = ae(actuals_batch.to(device)).cpu().unsqueeze(1)\n",
    "    \n",
    "    ae.train()\n",
    "    \n",
    "    grid_elems = [*actuals_batch, *reconst_batch]\n",
    "\n",
    "    grid = tv.utils.make_grid(grid_elems, nrow=ELEM_NUM, padding=1, pad_value =1)\n",
    "  \n",
    "    plt.figure(figsize=(15,15))\n",
    "    plt.imshow(grid.permute(1,2,0))\n",
    "    plt.axis('off')\n",
    "    plt.show()"
   ]
  },
  {
   "cell_type": "code",
   "execution_count": null,
   "metadata": {},
   "outputs": [],
   "source": [
    "def show_summary_1(valid_dl:DataLoader, model: nn.Module):\n",
    "    ELEM_NUM = 10\n",
    "    \n",
    "    device = model.parameters().__next__().device\n",
    "    \n",
    "    ae.eval()\n",
    "    \n",
    "    actuals, reconst = [], []\n",
    "    \n",
    "    with torch.no_grad():\n",
    "        for i, (x, y) in enumerate(valid_dl.dataset):\n",
    "            actuals.append(x)\n",
    "            reconst.append(ae(x.to(device).cpu()))\n",
    "            if i == ELEM_NUM-1: break\n",
    "    \n",
    "    grid_elems = [*actuals, *reconst]\n",
    "    grid = tv.utils.make_grid(grid_elems, nrow=ELEM_NUM, padding=1,pad_value=1)\n",
    "\n",
    "    plt.figure(figsize=(15,15))\n",
    "    plt.imshow(grid.permute(1,2,0))\n",
    "    plt.axis('off')\n",
    "    plt.show()"
   ]
  },
  {
   "cell_type": "code",
   "execution_count": null,
   "metadata": {},
   "outputs": [],
   "source": []
  },
  {
   "cell_type": "code",
   "execution_count": null,
   "metadata": {},
   "outputs": [],
   "source": [
    "%%time\n",
    "show_summary(valid_dl,ae)"
   ]
  },
  {
   "cell_type": "code",
   "execution_count": null,
   "metadata": {},
   "outputs": [],
   "source": [
    "%%time\n",
    "show_summary_1(valid_dl,ae)"
   ]
  },
  {
   "cell_type": "code",
   "execution_count": null,
   "metadata": {},
   "outputs": [],
   "source": []
  },
  {
   "cell_type": "code",
   "execution_count": null,
   "metadata": {},
   "outputs": [],
   "source": []
  },
  {
   "cell_type": "code",
   "execution_count": null,
   "metadata": {},
   "outputs": [],
   "source": []
  }
 ],
 "metadata": {
  "kernelspec": {
   "display_name": "Python 3",
   "language": "python",
   "name": "python3"
  },
  "language_info": {
   "codemirror_mode": {
    "name": "ipython",
    "version": 3
   },
   "file_extension": ".py",
   "mimetype": "text/x-python",
   "name": "python",
   "nbconvert_exporter": "python",
   "pygments_lexer": "ipython3",
   "version": "3.7.5"
  }
 },
 "nbformat": 4,
 "nbformat_minor": 4
}
