{
 "cells": [
  {
   "cell_type": "code",
   "execution_count": null,
   "metadata": {
    "colab": {},
    "colab_type": "code",
    "id": "VcRdrSzd4x0I"
   },
   "outputs": [],
   "source": [
    "import torch\n",
    "import torch.nn as nn\n",
    "import torchvision as tv\n",
    "from torch.utils.data import DataLoader\n",
    "\n",
    "import numpy as np\n",
    "import random\n",
    "import os\n",
    "from pathlib import Path\n",
    "import matplotlib.pyplot as plt\n",
    "\n",
    "from typing import Tuple, List\n",
    "\n",
    "%matplotlib inline"
   ]
  },
  {
   "cell_type": "code",
   "execution_count": null,
   "metadata": {
    "colab": {},
    "colab_type": "code",
    "id": "pSQW115P4x0Q"
   },
   "outputs": [],
   "source": [
    "def get_mnist_ds(is_train:bool):\n",
    "    return tv.datasets.MNIST(root = Path('mnistdata'),\n",
    "                             train = is_train,\n",
    "                             transform = tv.transforms.ToTensor(),\n",
    "                             target_transform = None,\n",
    "                             download = True\n",
    "                            )"
   ]
  },
  {
   "cell_type": "code",
   "execution_count": null,
   "metadata": {
    "colab": {},
    "colab_type": "code",
    "id": "WEesEVRL4x0W"
   },
   "outputs": [],
   "source": [
    "def get_mnist_ds_loader(batch_size):\n",
    "        train_ds = get_mnist_ds(is_train = True)\n",
    "        valid_ds = get_mnist_ds(is_train = False)\n",
    "        \n",
    "        return (DataLoader(train_ds, batch_size, shuffle = True),\n",
    "                DataLoader(valid_ds, 2*batch_size, shuffle = False))\n",
    "    "
   ]
  },
  {
   "cell_type": "code",
   "execution_count": null,
   "metadata": {
    "colab": {},
    "colab_type": "code",
    "id": "cQpj5gyt4x0c"
   },
   "outputs": [],
   "source": [
    "train_dl, valid_dl = get_mnist_ds_loader(32)"
   ]
  },
  {
   "cell_type": "code",
   "execution_count": null,
   "metadata": {
    "colab": {},
    "colab_type": "code",
    "id": "iQ-w23eo4x0h"
   },
   "outputs": [],
   "source": [
    "len(train_dl.dataset), len(valid_dl.dataset)"
   ]
  },
  {
   "cell_type": "code",
   "execution_count": null,
   "metadata": {
    "colab": {},
    "colab_type": "code",
    "id": "4NFPyxfW4x0n"
   },
   "outputs": [],
   "source": [
    "train_dl.dataset.data.shape"
   ]
  },
  {
   "cell_type": "code",
   "execution_count": null,
   "metadata": {
    "colab": {},
    "colab_type": "code",
    "id": "DG5ffvq34x0t"
   },
   "outputs": [],
   "source": [
    "for i, x in enumerate(train_dl):\n",
    "    print(x[0].shape)\n",
    "    print(x[1].shape)\n",
    "    plt.imshow(x[0][0][0],cmap='gray')\n",
    "    plt.show()\n",
    "    if i>3 : break"
   ]
  },
  {
   "cell_type": "code",
   "execution_count": null,
   "metadata": {
    "colab": {},
    "colab_type": "code",
    "id": "SFp59BVE4x0y"
   },
   "outputs": [],
   "source": [
    "class Encoder(nn.Module):\n",
    "    def __init__(self, inp_size: Tuple[int,int], hidden_size: int, out_size: int):\n",
    "        \n",
    "        super().__init__()\n",
    "        \n",
    "        self.enc = nn.Sequential(nn.Flatten(),\n",
    "                                 nn.Linear(np.prod(inp_size), hidden_size),\n",
    "                                 nn.ReLU(),\n",
    "                                 nn.Linear(hidden_size, out_size))\n",
    "        \n",
    "    def forward(self, x):\n",
    "        return self.enc(x)\n",
    "        "
   ]
  },
  {
   "cell_type": "code",
   "execution_count": null,
   "metadata": {
    "colab": {},
    "colab_type": "code",
    "id": "eXz9UMcF4x03"
   },
   "outputs": [],
   "source": [
    "class Decoder(nn.Module):\n",
    "    def __init__(self, inp_size: int, hidden_size: int, out_size: Tuple[int,int]):\n",
    "        \n",
    "        super().__init__()\n",
    "        self.out_size = out_size\n",
    "        self.dec = nn.Sequential(nn.Linear(inp_size, hidden_size),\n",
    "                                 nn.ReLU(),\n",
    "                                 nn.Linear(hidden_size, np.prod(out_size)),\n",
    "                                 nn.Sigmoid())\n",
    "        \n",
    "    def forward(self, x):\n",
    "        x = self.dec(x)\n",
    "        return x.view((x.shape[0],*self.out_size))"
   ]
  },
  {
   "cell_type": "code",
   "execution_count": null,
   "metadata": {
    "colab": {},
    "colab_type": "code",
    "id": "ANO41t9q4x0_"
   },
   "outputs": [],
   "source": [
    "class AutoEncoder(nn.Module):\n",
    "    def __init__(self, inp_size: Tuple[int,int], hidden_size: int, out_size: int):\n",
    "        super().__init__()\n",
    "        \n",
    "        self.enc = Encoder(inp_size, hidden_size, out_size)\n",
    "        self.dec = Decoder(out_size, hidden_size, inp_size)\n",
    "        \n",
    "    def forward(self, x):\n",
    "        out = self.enc(x)\n",
    "        out = self.dec(out)\n",
    "        \n",
    "        return out"
   ]
  },
  {
   "cell_type": "code",
   "execution_count": null,
   "metadata": {
    "colab": {},
    "colab_type": "code",
    "id": "zpaYf0jJ4x1I"
   },
   "outputs": [],
   "source": [
    "ae = AutoEncoder(inp_size=(28,28),hidden_size=512,out_size=20)\n",
    "ae"
   ]
  },
  {
   "cell_type": "code",
   "execution_count": null,
   "metadata": {
    "colab": {},
    "colab_type": "code",
    "id": "-6RIPM644x1O"
   },
   "outputs": [],
   "source": [
    "x, y = valid_dl.dataset[30]"
   ]
  },
  {
   "cell_type": "code",
   "execution_count": null,
   "metadata": {
    "colab": {},
    "colab_type": "code",
    "id": "ly9rPf_w4x1T"
   },
   "outputs": [],
   "source": [
    "print(x.shape)\n",
    "print(x.requires_grad)"
   ]
  },
  {
   "cell_type": "code",
   "execution_count": null,
   "metadata": {
    "colab": {},
    "colab_type": "code",
    "id": "SjHp98DT4x1X"
   },
   "outputs": [],
   "source": [
    "with torch.no_grad():\n",
    "    out = ae(x)\n",
    "print(out.shape)\n",
    "print(out.requires_grad)"
   ]
  },
  {
   "cell_type": "code",
   "execution_count": null,
   "metadata": {
    "colab": {},
    "colab_type": "code",
    "id": "I666rzy-4x1d"
   },
   "outputs": [],
   "source": [
    "out = ae(x)\n",
    "print(out.shape)\n",
    "print(out.requires_grad)"
   ]
  },
  {
   "cell_type": "code",
   "execution_count": null,
   "metadata": {},
   "outputs": [],
   "source": []
  },
  {
   "cell_type": "code",
   "execution_count": null,
   "metadata": {
    "colab": {},
    "colab_type": "code",
    "id": "V6hMyiEJ4x1i"
   },
   "outputs": [],
   "source": [
    "plt.imshow(x[0], cmap='gray')"
   ]
  },
  {
   "cell_type": "code",
   "execution_count": null,
   "metadata": {
    "colab": {},
    "colab_type": "code",
    "id": "ewRHHup24x1n",
    "scrolled": true
   },
   "outputs": [],
   "source": [
    "plt.imshow(out[0].detach(),cmap='gray')"
   ]
  },
  {
   "cell_type": "code",
   "execution_count": null,
   "metadata": {
    "colab": {},
    "colab_type": "code",
    "id": "v10hOUFL4x1r"
   },
   "outputs": [],
   "source": [
    "def show_summary(valid_dl: DataLoader, model: nn.Module):\n",
    "    ELEM_NUM = 10\n",
    "    \n",
    "    device = model.parameters().__next__().device\n",
    "    ae.eval()\n",
    "\n",
    "    actual_list = [x for i, (x, y) in enumerate(valid_dl.dataset) if i < ELEM_NUM]\n",
    "    \n",
    "    with torch.no_grad():\n",
    "        actuals_batch = torch.cat(actual_list).unsqueeze(1)\n",
    "        reconst_batch = ae(actuals_batch.to(device)).cpu().unsqueeze(1)\n",
    "    \n",
    "    ae.train()\n",
    "    \n",
    "    grid_elems = [*actuals_batch, *reconst_batch]\n",
    "\n",
    "    grid = tv.utils.make_grid(grid_elems, nrow=ELEM_NUM, padding=1, pad_value =1)\n",
    "  \n",
    "    plt.figure(figsize=(15,15))\n",
    "    plt.imshow(grid.permute(1,2,0))\n",
    "    plt.axis('off')\n",
    "    plt.show()"
   ]
  },
  {
   "cell_type": "code",
   "execution_count": null,
   "metadata": {
    "colab": {},
    "colab_type": "code",
    "id": "eH8BfVrV4x1v"
   },
   "outputs": [],
   "source": [
    "def show_summary_1(valid_dl:DataLoader, model: nn.Module):\n",
    "    ELEM_NUM = 15\n",
    "    \n",
    "    device = model.parameters().__next__().device\n",
    "    \n",
    "    ae.eval()\n",
    "    \n",
    "    actuals, reconst = [], []\n",
    "    \n",
    "    with torch.no_grad():\n",
    "        for i, (x, y) in enumerate(valid_dl.dataset):\n",
    "            actuals.append(x)\n",
    "            reconst.append(ae(x.to(device)).detach().cpu())\n",
    "            if i == ELEM_NUM-1: break\n",
    "    \n",
    "    ae.train()\n",
    "    \n",
    "    grid_elems = [*actuals, *reconst]\n",
    "    grid = tv.utils.make_grid(grid_elems, nrow=ELEM_NUM, padding=1,pad_value=1)\n",
    "\n",
    "    plt.figure(figsize=(15,15))\n",
    "    plt.imshow(grid.permute(1,2,0))\n",
    "    plt.axis('off')\n",
    "    plt.show()"
   ]
  },
  {
   "cell_type": "code",
   "execution_count": null,
   "metadata": {
    "colab": {},
    "colab_type": "code",
    "id": "wWQAngHO4x10"
   },
   "outputs": [],
   "source": []
  },
  {
   "cell_type": "code",
   "execution_count": null,
   "metadata": {
    "colab": {},
    "colab_type": "code",
    "id": "pPSSrrl04x16"
   },
   "outputs": [],
   "source": [
    "%%time\n",
    "show_summary(valid_dl,ae)"
   ]
  },
  {
   "cell_type": "code",
   "execution_count": null,
   "metadata": {
    "colab": {},
    "colab_type": "code",
    "id": "ivMGn9ej4x1-"
   },
   "outputs": [],
   "source": [
    "%%time\n",
    "show_summary_1(valid_dl,ae)"
   ]
  },
  {
   "cell_type": "code",
   "execution_count": null,
   "metadata": {
    "colab": {},
    "colab_type": "code",
    "id": "z4cRCXJ94x2C"
   },
   "outputs": [],
   "source": [
    "def seed_everything(seed=0):\n",
    "    random.seed(seed)\n",
    "    os.environ['PYTHONHASHSEED'] = str(seed)\n",
    "    np.random.seed(seed)\n",
    "    torch.manual_seed(seed)\n",
    "    torch.cuda.manual_seed(seed)\n",
    "    torch.backends.cudnn.deterministic = True"
   ]
  },
  {
   "cell_type": "code",
   "execution_count": null,
   "metadata": {
    "colab": {},
    "colab_type": "code",
    "id": "5y2xxATA4x2G"
   },
   "outputs": [],
   "source": [
    "seed_everything()"
   ]
  },
  {
   "cell_type": "code",
   "execution_count": null,
   "metadata": {
    "colab": {},
    "colab_type": "code",
    "id": "Jc9Svkwv4x1E"
   },
   "outputs": [],
   "source": [
    "device = torch.device('cpu')\n",
    "ae = ae.to(device)"
   ]
  },
  {
   "cell_type": "code",
   "execution_count": null,
   "metadata": {
    "colab": {},
    "colab_type": "code",
    "id": "voc1QHdZ4x2N"
   },
   "outputs": [],
   "source": [
    "def init_params(m:nn.Module):\n",
    "    if type(m) == nn.Linear:\n",
    "      nn.init.orthogonal_(m.weight.data)\n",
    "      nn.init.zeros_(m.bias.data)\n",
    "    "
   ]
  },
  {
   "cell_type": "code",
   "execution_count": null,
   "metadata": {
    "colab": {},
    "colab_type": "code",
    "id": "25qPeZUnF2kv"
   },
   "outputs": [],
   "source": [
    "mse_loss = nn.MSELoss()\n",
    "optim = torch.optim.Adam(ae.parameters(), lr = 0.001)"
   ]
  },
  {
   "cell_type": "code",
   "execution_count": null,
   "metadata": {
    "colab": {},
    "colab_type": "code",
    "id": "kda6pnKw4x2W",
    "scrolled": true
   },
   "outputs": [],
   "source": [
    "ae.apply(init_params)\n",
    "total_epochs = 5\n",
    "\n",
    "LOG_INTERVAL = 10\n",
    "SUMMARY_INTERVAL = 20\n",
    "\n",
    "acc_cost = 0\n",
    "\n",
    "for epoch in range(0,total_epochs):\n",
    "    for i, (x, y) in enumerate(train_dl):\n",
    "        optim.zero_grad()\n",
    "        x = x.to(device)\n",
    "        target = ae(x).unsqueeze(1)\n",
    "        cost = mse_loss(x, target)\n",
    "        acc_cost += cost.item()\n",
    "        cost.backward()\n",
    "        optim.step()\n",
    "        \n",
    "        if (i%LOG_INTERVAL) == 0:\n",
    "            print(f\"epoch {epoch+1} | iter {i} | acc_cost {acc_cost/LOG_INTERVAL:.4f} | cost {cost:.4f}\")\n",
    "            acc_cost = 0       \n",
    "        \n",
    "        if (i%SUMMARY_INTERVAL)==0:\n",
    "            show_summary_1(valid_dl,ae)"
   ]
  },
  {
   "cell_type": "code",
   "execution_count": null,
   "metadata": {
    "colab": {},
    "colab_type": "code",
    "id": "L6lXVO2X4x2a",
    "scrolled": true
   },
   "outputs": [],
   "source": [
    "print(ae)\n",
    "for k, val in ae.state_dict().items():\n",
    "    print(f'key: {k} val.shape: {val.shape}')\n",
    "    \n",
    "print('\\n',ae.state_dict()['enc.enc.1.weight'])"
   ]
  },
  {
   "cell_type": "code",
   "execution_count": null,
   "metadata": {},
   "outputs": [],
   "source": [
    "#torch.save(ae.state_dict(),'ae.pt')"
   ]
  },
  {
   "cell_type": "code",
   "execution_count": null,
   "metadata": {},
   "outputs": [],
   "source": [
    "ae.load_state_dict(torch.load('ae.pt'))"
   ]
  },
  {
   "cell_type": "code",
   "execution_count": null,
   "metadata": {},
   "outputs": [],
   "source": [
    "ae.eval()\n",
    "z, labels = [], []\n",
    "for x, y in valid_dl:\n",
    "    print(x.shape)\n",
    "    print(y.shape)\n",
    "    z = torch.cat(ae.enc(x))\n",
    "    break"
   ]
  },
  {
   "cell_type": "code",
   "execution_count": null,
   "metadata": {},
   "outputs": [],
   "source": []
  }
 ],
 "metadata": {
  "accelerator": "GPU",
  "colab": {
   "name": "lecture_13_unsupervised_ml_my_imple.ipynb",
   "provenance": []
  },
  "kernelspec": {
   "display_name": "Python 3",
   "language": "python",
   "name": "python3"
  },
  "language_info": {
   "codemirror_mode": {
    "name": "ipython",
    "version": 3
   },
   "file_extension": ".py",
   "mimetype": "text/x-python",
   "name": "python",
   "nbconvert_exporter": "python",
   "pygments_lexer": "ipython3",
   "version": "3.7.5"
  }
 },
 "nbformat": 4,
 "nbformat_minor": 1
}
