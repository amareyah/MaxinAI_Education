{
  "nbformat": 4,
  "nbformat_minor": 0,
  "metadata": {
    "kernelspec": {
      "display_name": "Python 3",
      "language": "python",
      "name": "python3"
    },
    "language_info": {
      "codemirror_mode": {
        "name": "ipython",
        "version": 3
      },
      "file_extension": ".py",
      "mimetype": "text/x-python",
      "name": "python",
      "nbconvert_exporter": "python",
      "pygments_lexer": "ipython3",
      "version": "3.7.4"
    },
    "colab": {
      "name": "probability-homework.ipynb",
      "provenance": []
    }
  },
  "cells": [
    {
      "cell_type": "code",
      "metadata": {
        "id": "BYtcU1wlU_H9",
        "colab_type": "code",
        "colab": {}
      },
      "source": [
        "%load_ext autoreload\n",
        "%autoreload 2\n",
        "\n",
        "%matplotlib inline"
      ],
      "execution_count": 0,
      "outputs": []
    },
    {
      "cell_type": "markdown",
      "metadata": {
        "id": "CMYfK_NbU_ID",
        "colab_type": "text"
      },
      "source": [
        "## Basic setup"
      ]
    },
    {
      "cell_type": "markdown",
      "metadata": {
        "id": "fzYSTYJDU_IE",
        "colab_type": "text"
      },
      "source": [
        "Create anaconda environment\n",
        "<br>\n",
        "```bash\n",
        "conda create -n ml python=3.7.4 jupyter\n",
        "```\n",
        "Install fastai library\n",
        "<br>\n",
        "```bash\n",
        "conda install -c pytorch -c fastai fastai\n",
        "```"
      ]
    },
    {
      "cell_type": "markdown",
      "metadata": {
        "id": "mMrFPE9vU_IF",
        "colab_type": "text"
      },
      "source": [
        "# Sigma-algebras"
      ]
    },
    {
      "cell_type": "markdown",
      "metadata": {
        "id": "qI354JDPU_IG",
        "colab_type": "text"
      },
      "source": [
        "#### Prove that:\n",
        "Composition of mesurable functions is a mesurable function"
      ]
    },
    {
      "cell_type": "markdown",
      "metadata": {
        "id": "MNvygyAVU_II",
        "colab_type": "text"
      },
      "source": [
        "## Mesure"
      ]
    },
    {
      "cell_type": "markdown",
      "metadata": {
        "id": "Cn0uJ_JFU_IJ",
        "colab_type": "text"
      },
      "source": [
        "#### Prove the following mesure properties:\n",
        "- if $A \\subset B$ then $\\mu(A) \\le \\mu(B)$\n",
        "<br>\n",
        "Proof: $(B - A) \\cup (A \\cap B) = (B - A) \\cup A = B$ and $(B - A) \\cap (A \\cap B) = \\emptyset$ so $\\mu((B - A) \\cup (A \\cap B)) = \\mu(B - A) + \\mu(A \\cap B) = \\mu(B - A) + \\mu(A) = \\mu(B)$ so $\\mu(A) \\le \\mu(B)$"
      ]
    },
    {
      "cell_type": "markdown",
      "metadata": {
        "id": "h6EUfQYBU_IK",
        "colab_type": "text"
      },
      "source": [
        "## Probability"
      ]
    },
    {
      "cell_type": "markdown",
      "metadata": {
        "id": "Esrnx6yVU_IL",
        "colab_type": "text"
      },
      "source": [
        "#### Prove that:\n",
        "For probability mesure $P$ and events $A, B, C \\subset \\Omega$\n",
        "- $P(A \\cup B) = P(A) + P(B) - P(A \\cap B)$\n",
        "<br><b>Proof: </b><br>\n",
        "$$A \\cup B = (A\\backslash B) \\cup (A \\cap B) \\cup (B\\backslash A).$$\n",
        "Events $(A\\backslash B)$, $(A \\cap B)$ and $(B\\backslash A)$ are disjoint events, and using third axiom of probability law, we get:\n",
        "$$P(A \\cup B) = P(A\\backslash B)+P(A \\cap B)+P(B\\backslash A).$$ OK. Now because $A=(A\\backslash B) \\cup (A\\cap B)$ and are disjoint, we have:\n",
        "$$P(A)=P(A\\backslash B) + P(A\\cap B).$$ Analogously:\n",
        "$$P(B)=P(B\\backslash A) + P(A\\cap B).$$ Now substitute $P(A)$ and $P(B)$ to the statement above:\n",
        "$$P(A \\cup B) = P(A) - P(A\\cap B) + P(A\\cap B) + P(B) - P(A\\cap B).$$ Finally:\n",
        "$$P(A \\cup B) = P(A) + P(B) - P(A\\cap B).$$ "
      ]
    },
    {
      "cell_type": "markdown",
      "metadata": {
        "id": "48NFNVQpU_IM",
        "colab_type": "text"
      },
      "source": [
        "## Random variable"
      ]
    },
    {
      "cell_type": "markdown",
      "metadata": {
        "id": "l1WGlYwUU_IN",
        "colab_type": "text"
      },
      "source": [
        "#### Prove that:\n",
        "$$\n",
        "\\sigma^2 = \\operatorname{E}[X^2] - (\\operatorname{E}[X])^2\n",
        "$$\n",
        "Assuming that expectation exists\n",
        "<br>\n",
        "Denoted by $\\sigma^2$\n",
        "<br>"
      ]
    }
  ]
}