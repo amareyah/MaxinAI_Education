{
  "nbformat": 4,
  "nbformat_minor": 0,
  "metadata": {
    "kernelspec": {
      "display_name": "Python 3",
      "language": "python",
      "name": "python3"
    },
    "language_info": {
      "codemirror_mode": {
        "name": "ipython",
        "version": 3
      },
      "file_extension": ".py",
      "mimetype": "text/x-python",
      "name": "python",
      "nbconvert_exporter": "python",
      "pygments_lexer": "ipython3",
      "version": "3.7.4"
    },
    "colab": {
      "name": "linear_algebra-1-homework.ipynb",
      "provenance": []
    }
  },
  "cells": [
    {
      "cell_type": "code",
      "metadata": {
        "id": "AQJhfe5TZCLm",
        "colab_type": "code",
        "colab": {}
      },
      "source": [
        "%load_ext autoreload\n",
        "%autoreload 2\n",
        "\n",
        "%matplotlib inline"
      ],
      "execution_count": 0,
      "outputs": []
    },
    {
      "cell_type": "markdown",
      "metadata": {
        "id": "GF0k70DvZCLr",
        "colab_type": "text"
      },
      "source": [
        "## Basic setup"
      ]
    },
    {
      "cell_type": "markdown",
      "metadata": {
        "id": "20O8ziJUZCLt",
        "colab_type": "text"
      },
      "source": [
        "Create anaconda environment\n",
        "<br>\n",
        "```bash\n",
        "conda create -n ml python=3.7.4 jupyter\n",
        "```\n",
        "Install fastai library\n",
        "<br>\n",
        "```bash\n",
        "conda install -c pytorch -c fastai fastai\n",
        "```"
      ]
    },
    {
      "cell_type": "markdown",
      "metadata": {
        "id": "H3r2VprAZCLu",
        "colab_type": "text"
      },
      "source": [
        "# Set theory basics"
      ]
    },
    {
      "cell_type": "markdown",
      "metadata": {
        "id": "3wG8iSO7ZCLv",
        "colab_type": "text"
      },
      "source": [
        "#### Prove that:\n",
        "<br>\n",
        "$A \\subseteq A$<br>\n",
        "<b>Proof: </b>$\\forall x \\in A$, $x$ also belongs to $A$, so by definition $A\\subseteq A$."
      ]
    },
    {
      "cell_type": "markdown",
      "metadata": {
        "id": "664qKZwNZCLw",
        "colab_type": "text"
      },
      "source": [
        "#### Prove that:\n",
        "If $A \\subseteq B$ and $B \\subseteq A$ $\\to$ $A = B$<br>\n",
        "<b>Proof</b>\n",
        "Lets say there $\\exists B \\in Set$, which is \"smaller\" than $\\emptyset$. In other words: $B \\subseteq \\emptyset$. \\\n",
        "1) Consider set $B$ is not empty and it contains some element $x$. So by assumtion $B \\subseteq \\emptyset$, then $x \\in$ $\\emptyset$. This contradicts with definition of $\\emptyset$ - it contains no elements. \\\n",
        "2) Consider now set $B \\in Set$ contains no elements and $B \\subseteq \\emptyset$. However, by definition of empty set $\\emptyset$, it is contained in any set $A \\in Set$, and this is also true for set $B$, i.e. $\\emptyset \\subseteq B$. So finally we come to $B = \\emptyset$ and this means that $\\emptyset$ is the \"smallest\" set."
      ]
    },
    {
      "cell_type": "markdown",
      "metadata": {
        "id": "YpjdVqL1ZCLy",
        "colab_type": "text"
      },
      "source": [
        "#### Prove that:\n",
        "<br>\n",
        "if $B \\subset A$ then $A \\cap B = B$\n",
        "<br><b>Proof</b><br>\n",
        "1) we are given $B \\subset A$ and this means $\\forall x \\in B: x \\in A$, i.e. $x \\in A\\cap B$. $\\Longrightarrow$ $B \\subseteq A\\cap B$\\\n",
        "2) on the other hand, $\\forall x \\in A \\cap B \\Rightarrow x \\in B$. i.e. $A \\cap B \\subseteq B$. \\\n",
        "From 1) and 2) we get: $A \\cap B = B$"
      ]
    },
    {
      "cell_type": "markdown",
      "metadata": {
        "id": "wJl3a0-jZCLz",
        "colab_type": "text"
      },
      "source": [
        "#### Prove that:\n",
        "<br>\n",
        "$A \\cap B = B \\cap A$\n",
        "<br><b>Proof</b><br>\n"
      ]
    },
    {
      "cell_type": "markdown",
      "metadata": {
        "id": "OnlLXCBRZCL1",
        "colab_type": "text"
      },
      "source": [
        "#### Prove that:\n",
        "<br>\n",
        "if $B \\subset A$ then $A \\cup B = A$\n",
        "<br><b>Proof</b><br>"
      ]
    },
    {
      "cell_type": "markdown",
      "metadata": {
        "id": "W9y11_wtZCL2",
        "colab_type": "text"
      },
      "source": [
        "#### Prove that:\n",
        "<br>\n",
        "$A \\cup B = B \\cup A$\n",
        "<br><b>Proof</b><br>"
      ]
    },
    {
      "cell_type": "markdown",
      "metadata": {
        "id": "mzCLandLZCL3",
        "colab_type": "text"
      },
      "source": [
        "#### Prove that:\n",
        "- for every injection $m:A \\to B$ and pair of functions $f, g :C \\to A$: if $m \\circ f = m \\circ g$ then $f = g$ and vice-versa\n",
        "- for every surjection $e:A \\to B$ and every pair of functions $f, g :B \\to C$: if $f \\circ e = g \\circ e$ then $f = g$ and vice-versa\n",
        "\n",
        "<br><b>Proof</b><br>"
      ]
    },
    {
      "cell_type": "markdown",
      "metadata": {
        "id": "wLE7N6m6ZCL4",
        "colab_type": "text"
      },
      "source": [
        "#### Prove that \n",
        "- composition of injections is injection itself\n",
        "- composition of surjections is surjection itself\n",
        "- composition of bijections is bijection itself\n",
        "<br>\n",
        "or give a counterexamples\n",
        "\n",
        "<br><b>Proof</b><br>"
      ]
    },
    {
      "cell_type": "markdown",
      "metadata": {
        "id": "EFAYhkCPZCL6",
        "colab_type": "text"
      },
      "source": [
        "#### Prove that for each set $A$:\n",
        "- $A \\cong A$\n",
        "- if $B \\cong A$ then $B \\cong A$ for every pair of sets $A$ and $B$\n",
        "- if $A \\cong B$ and $B \\cong C$ then $A \\cong C$ for every triplet $A$, $B$ and $C$\n",
        "<br><b>Proof</b><br>"
      ]
    },
    {
      "cell_type": "markdown",
      "metadata": {
        "id": "sy_sFwpeZCL7",
        "colab_type": "text"
      },
      "source": [
        "#### Prove that:\n",
        "<br>\n",
        "there exists a bijection between set of natural and even numbers\n",
        "<br><b>Proof</b><br>"
      ]
    },
    {
      "cell_type": "markdown",
      "metadata": {
        "id": "cYa2KEh4ZCL8",
        "colab_type": "text"
      },
      "source": [
        "#### Prove that:\n",
        "<br>\n",
        "if we have a bijection between two finite sets than they have an equal number of elements\n",
        "<br><b>Proof</b><br>"
      ]
    },
    {
      "cell_type": "markdown",
      "metadata": {
        "id": "4i_BNr6lZCL9",
        "colab_type": "text"
      },
      "source": [
        "#### Prove that:\n",
        "<br>\n",
        "$A \\times B \\cong B \\times A$\n",
        "<br><b>Proof</b><br>"
      ]
    },
    {
      "cell_type": "markdown",
      "metadata": {
        "id": "Q9SdIeIXZCL-",
        "colab_type": "text"
      },
      "source": [
        "$\\cap_{i\\in I}A_i$ and $\\cup_{i\\in I}A_i$"
      ]
    },
    {
      "cell_type": "code",
      "metadata": {
        "id": "t33PdcJkZCL_",
        "colab_type": "code",
        "colab": {}
      },
      "source": [
        "# Inplement in python"
      ],
      "execution_count": 0,
      "outputs": []
    },
    {
      "cell_type": "markdown",
      "metadata": {
        "id": "To8XRy27ZCMD",
        "colab_type": "text"
      },
      "source": [
        "We can also define cartesian product of any \"number\" of sets $\\prod_{i \\in I}{A_i}$"
      ]
    },
    {
      "cell_type": "code",
      "metadata": {
        "id": "AJ4CMw4lZCME",
        "colab_type": "code",
        "colab": {}
      },
      "source": [
        "# Inplement in python"
      ],
      "execution_count": 0,
      "outputs": []
    },
    {
      "cell_type": "markdown",
      "metadata": {
        "id": "an1ELLlEZCMI",
        "colab_type": "text"
      },
      "source": [
        "#### Prove that:\n",
        "<br>\n",
        "$$A \\cap (B \\cup C)=(A \\cap B) \\cup (A\\cap C)$$\n",
        "$$A \\cup (B \\cap C)=(A \\cup B) \\cap (A\\cup C)$$\n",
        "\n",
        "<br><b>Proof</b><br>"
      ]
    },
    {
      "cell_type": "markdown",
      "metadata": {
        "id": "VoscJQrWZCMJ",
        "colab_type": "text"
      },
      "source": [
        "# Linear Algebra"
      ]
    },
    {
      "cell_type": "markdown",
      "metadata": {
        "id": "XT9-50p2ZCMK",
        "colab_type": "text"
      },
      "source": [
        "#### Prove that:\n",
        "<br>\n",
        "$(AB)^{T} = B^{T}A^{T}$ for each pair of matrices $A, B \\in \\mathbb{R}^{n \\times m}$\n",
        "<br><b>Proof</b><br>\n"
      ]
    },
    {
      "cell_type": "markdown",
      "metadata": {
        "id": "ZzWu4PMUZCMK",
        "colab_type": "text"
      },
      "source": [
        "## Functions on tensors"
      ]
    },
    {
      "cell_type": "markdown",
      "metadata": {
        "id": "GjEAKiYlZCML",
        "colab_type": "text"
      },
      "source": [
        "#### Write combination for $XOR$ calculation"
      ]
    },
    {
      "cell_type": "code",
      "metadata": {
        "id": "rYUz1sksZCMM",
        "colab_type": "code",
        "colab": {}
      },
      "source": [
        ""
      ],
      "execution_count": 0,
      "outputs": []
    }
  ]
}