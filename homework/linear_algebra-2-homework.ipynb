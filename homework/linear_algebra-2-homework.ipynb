{
  "nbformat": 4,
  "nbformat_minor": 0,
  "metadata": {
    "kernelspec": {
      "display_name": "Python 3",
      "language": "python",
      "name": "python3"
    },
    "language_info": {
      "codemirror_mode": {
        "name": "ipython",
        "version": 3
      },
      "file_extension": ".py",
      "mimetype": "text/x-python",
      "name": "python",
      "nbconvert_exporter": "python",
      "pygments_lexer": "ipython3",
      "version": "3.7.4"
    },
    "colab": {
      "name": "linear_algebra-2-homework.ipynb",
      "provenance": []
    }
  },
  "cells": [
    {
      "cell_type": "code",
      "metadata": {
        "id": "j3OwK52sZERM",
        "colab_type": "code",
        "colab": {}
      },
      "source": [
        "%load_ext autoreload\n",
        "%autoreload 2\n",
        "\n",
        "%matplotlib inline"
      ],
      "execution_count": 0,
      "outputs": []
    },
    {
      "cell_type": "markdown",
      "metadata": {
        "id": "qLCPKrPPZERS",
        "colab_type": "text"
      },
      "source": [
        "## Basic setup"
      ]
    },
    {
      "cell_type": "markdown",
      "metadata": {
        "id": "YQPkBjnpZERU",
        "colab_type": "text"
      },
      "source": [
        "Create anaconda environment\n",
        "<br>\n",
        "```bash\n",
        "conda create -n ml python=3.7.4 jupyter\n",
        "```\n",
        "Install fastai library\n",
        "<br>\n",
        "```bash\n",
        "conda install -c pytorch -c fastai fastai\n",
        "```"
      ]
    },
    {
      "cell_type": "markdown",
      "metadata": {
        "id": "rju24wHHZERW",
        "colab_type": "text"
      },
      "source": [
        "# Linear spaces"
      ]
    },
    {
      "cell_type": "markdown",
      "metadata": {
        "id": "P27uxavaZERX",
        "colab_type": "text"
      },
      "source": [
        "#### Prove that:\n",
        "For every linear function $f:V \\to U$ between vector spaces $V$ and $U$ on the real numbers, every sequence of vectors $v_1, v_2, \\dots v_m \\in V$ and every scalars $a_1, a_2, \\dots, a_m \\in \\mathbb{R}$:\n",
        "<br>\n",
        "$$f(a_1v_1 + a_2v_2 + \\dots + a_mv_m) = a_1f(v_1) + a_2f(v_2) + \\dots + a_mf(v_m)$$"
      ]
    },
    {
      "cell_type": "markdown",
      "metadata": {
        "id": "aQ-NMbE8ZERY",
        "colab_type": "text"
      },
      "source": [
        "We can prove this by induction. We are given linear function $f:V \\to U$, which means for $\\forall v_1,v_2 \\in V$ holds true: $$f(\\alpha_1v_1+\\alpha_2v_2)=\\alpha_1f(v_1)+\\alpha_2f(v_2).$$Now, lets say that for some $m \\in \\mathbb{N}$, for every sequence of vectors $v_1, v_2, \\dots v_m \\in V$ and every scalars $\\alpha_1, \\alpha_2, \\dots, \\alpha_m \\in \\mathbb{R}$, holds true:\n",
        "<br>\n",
        "$$f(\\alpha_1v_1 + \\alpha_2v_2 + \\dots + \\alpha_mv_m) = \\alpha_1f(v_1) + \\alpha_2f(v_2) + \\dots + \\alpha_mf(v_m)$$ \n",
        "We should prove this for $m+1$ case. Consider vector $v \\in V$\n",
        "$v=\\alpha_1v_1 + \\alpha_2v_2 + \\dots + \\alpha_mv_m$ and $v_{m+1} \\in  V$. Because $f$ is linear funtion, we can write:\n",
        "$$f(v+\\alpha_{m+1}v_{m+1})=f(v)+\\alpha_{m+1}f(v_{m+1}).$$ If we substitute $v$, we will get:\n",
        "$$f(\\alpha_1v_1 + \\alpha_2v_2 + \\dots + \\alpha_mv_m + \\alpha_{m+1}v_{m+1}) = \\alpha_1f(v_1) + \\alpha_2f(v_2) + \\dots + \\alpha_mf(v_m) + \\alpha_{m+1}f(v_{m+1}).$$ This proves that it holds true for any number $m \\in \\mathbb{N}$."
      ]
    },
    {
      "cell_type": "code",
      "metadata": {
        "id": "NSbCkd6SNP7Y",
        "colab_type": "code",
        "colab": {}
      },
      "source": [
        ""
      ],
      "execution_count": 0,
      "outputs": []
    }
  ]
}