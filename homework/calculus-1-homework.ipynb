{
  "nbformat": 4,
  "nbformat_minor": 0,
  "metadata": {
    "kernelspec": {
      "display_name": "Python 3",
      "language": "python",
      "name": "python3"
    },
    "language_info": {
      "codemirror_mode": {
        "name": "ipython",
        "version": 3
      },
      "file_extension": ".py",
      "mimetype": "text/x-python",
      "name": "python",
      "nbconvert_exporter": "python",
      "pygments_lexer": "ipython3",
      "version": "3.7.5"
    },
    "colab": {
      "name": "calculus-1-homework.ipynb",
      "provenance": []
    }
  },
  "cells": [
    {
      "cell_type": "code",
      "metadata": {
        "id": "Img28JKwTf37",
        "colab_type": "code",
        "colab": {}
      },
      "source": [
        "%load_ext autoreload\n",
        "%autoreload 2\n",
        "\n",
        "%matplotlib inline"
      ],
      "execution_count": 0,
      "outputs": []
    },
    {
      "cell_type": "markdown",
      "metadata": {
        "id": "OuxvNVQxTf4B",
        "colab_type": "text"
      },
      "source": [
        "## Basic setup"
      ]
    },
    {
      "cell_type": "markdown",
      "metadata": {
        "id": "sWD4bue0Tf4C",
        "colab_type": "text"
      },
      "source": [
        "Create anaconda environment\n",
        "<br>\n",
        "```bash\n",
        "conda create -n ml python=3.7.4 jupyter\n",
        "```\n",
        "Install fastai library\n",
        "<br>\n",
        "```bash\n",
        "conda install -c pytorch -c fastai fastai\n",
        "```"
      ]
    },
    {
      "cell_type": "markdown",
      "metadata": {
        "id": "Es3O0LDnTf4D",
        "colab_type": "text"
      },
      "source": [
        "!pip install https://github.com/ipython-contrib/jupyter_contrib_nbextensions/tarball/master\n",
        "!pip install jupyter_nbextensions_configurator\n",
        "!jupyter contrib nbextension install --user\n",
        "!jupyter nbextensions_configurator enable --user"
      ]
    },
    {
      "cell_type": "markdown",
      "metadata": {
        "id": "6iozLlNgTf4E",
        "colab_type": "text"
      },
      "source": [
        "# Metric spaces"
      ]
    },
    {
      "cell_type": "markdown",
      "metadata": {
        "id": "lnEnBh-5Tf4F",
        "colab_type": "text"
      },
      "source": [
        "#### Prove that:\n",
        "For every metric space (X, d):\n",
        "- For eny $\\mathcal{U} = \\{U | U$ is open in $(X, d)\\}$ holds $\\bigcup_{U \\in \\mathcal{U}} U$ is open in $(X, d)$ <br/>\n",
        "<b>Proof</b>: Lets say $Q=\\bigcup_{U \\in \\mathcal{U}} U$. <br/>\n",
        "Then, $\\forall x \\in Q \\Rightarrow x \\in U $ (for some $U$) and because $U$ is open set, $\\exists r>0, B(x,r) \\subset U \\subset Q$. From last statement we get that $Q$ is open set.<br/><br/>\n",
        "- For eny two $U, V \\subset X$ open in $(X, d)$ holds: $U \\cap V$ is open in $(X, d)$<br/>\n",
        "<b>Proof: </b> Lets say $U \\cap V$ and $\\forall q \\in U \\cap V$ $\\Rightarrow q \\in U$, $q \\in V$. By assumption, $U$ and $V$ are open sets, so there $\\exists r_1, r_2 >0$, for which statements $B(r_1,q) \\subset U$ and $B(r_2,q) \\subset V$ are true. If we take $r=min(r_1,r_2)$, we will get: $B(r,q) \\subset U$ and $B(r,q) \\subset V$ for the same $r$ and $q$. Finally, we have: $$\\forall q \\in U \\cap V, \\exists r, B(q,r) \\subset U \\cap V,$$ so $U \\cap V$ is an open set.\n",
        "<br/><br/>\n",
        "- $X$ is open in $(X, d)$\n",
        "- $\\emptyset$ is open in $(X, d)$"
      ]
    },
    {
      "cell_type": "markdown",
      "metadata": {
        "id": "qLX6nKlRTf4G",
        "colab_type": "text"
      },
      "source": [
        ""
      ]
    },
    {
      "cell_type": "markdown",
      "metadata": {
        "id": "68YZaArfTf4O",
        "colab_type": "text"
      },
      "source": [
        "#### Prove that:\n",
        "- For eny finity set $(U)_{i=1}^{n}$ of open sets in $(X, d)$, $\\bigcap_{i=1}^{n}U$ is open in $(X, d)$ <br>\n",
        "<b>Proof: </b> We are given $U_1, U_2,...,U_n$ open sets. We have proved earlier that $U_1 \\cap U_2$ is also an open set. Let's fix some k>2 and suppose $\\bigcap_{i=1}^{k}U_i$ is open set, and let's prove it for k+1 case. $$\\bigcap_{i=1}^{k+1}U_i = (\\bigcap_{i=1}^{k}U_i) \\bigcap U_{k+1}.$$ Here we have got the intersection of two open sets, and thats why $\\bigcap_{i=1}^{k+1}U_i$ is also open. By mathematical induction principle, $\\bigcap_{i=1}^{n}U_i$ is open set for $\\forall n\\ge 2$."
      ]
    },
    {
      "cell_type": "markdown",
      "metadata": {
        "id": "BDF2Era6Tf4P",
        "colab_type": "text"
      },
      "source": [
        "#### Prove that for set $U \\subset X$ is open if and only if for each point $x \\in U$ there exists the open neighbourhood $V$ of $x$ such that $V \\subset U$\n",
        "1) Given:  $U \\subset X$ is open.<br>\n",
        "<b>Proof:</b> \n",
        "Because $U$ is open set, $\\forall x, \\exists r>0, B(x,r) \\subset U$. It was shown that open ball is open subset in $(X, d)$ for eny metric space and as $x \\in B$, we can treat $B$ as open neighbourhood of $x$. <br>\n",
        "2) Given: $\\forall x \\in U$, there $\\exists$ open neighbourhood of $x$, such that $V \\subset U$.<br>\n",
        "<b>Proof:</b>\n",
        "Lets select $\\forall x \\in U$ and take its open neighbourhood  $V \\subset U$. If $V$ is open, then  there $\\exists B(x,r) \\subset V \\subset U$.  The last statement, by definition gives us that U is open also.\n"
      ]
    },
    {
      "cell_type": "markdown",
      "metadata": {
        "id": "y3VFmiDXTf4Q",
        "colab_type": "text"
      },
      "source": [
        "#### Prove that, closed ball is closed subset in $(X, d)$\n",
        "<b>Proof:</b>  In other words, we need to show that $V \\doteq X-\\bar B(q,r)$ is open subset. Lets take arbitrary point $v \\in V.$ This means $d(v,q)>r$. We can take some $r'$, for which holds true: $r'=d(v,q)-r >0$. Now we need to prove: $B(v,r') \\subset V$. Lets take some point $c \\in B(v,r')$:\n",
        "$$d(v,q) \\le d(v,c) + d(c,q); \\Rightarrow$$\n",
        "$$d(c,q) \\ge d(v,q)-d(v,c) > d(v,q)-r'=r;$$\n",
        "$$d(c,q)>r \\Rightarrow c\\notin \\bar B(q,r) \\Rightarrow c \\in V$$.\n",
        "So each point $c \\in B(v,r')$ also $\\in V;$ $\\Rightarrow $ $B(v,r') \\subset V$"
      ]
    },
    {
      "cell_type": "markdown",
      "metadata": {
        "id": "PVwkOnNwTf4R",
        "colab_type": "text"
      },
      "source": [
        "#### Prove that\n",
        "For every metric space (X, d):\n",
        "- For eny $\\mathcal{F} = \\{F | F$ is closed in $(X, d)\\}$ holds $\\bigcap_{F \\in \\mathcal{F}} F$ is closed in $(X, d)$<br>\n",
        "<b>Proof:</b> \n",
        "Lets say $Q=\\bigcap_{F \\in \\mathcal{F}} F$ and consider $Q^c =(\\bigcap_{F \\in \\mathcal{F}} F)^{c} = \\bigcup_{F^c \\in \\mathcal{F^c}}F^c$. The union of open sets $F^c$ is open set. So $Q^c$ is open set, and complement Q is closed.\n",
        "<br><br>\n",
        "- For eny two $F_1, F_2 \\subset X$ closed in $(X, d)$ holds: $F_1 \\cup F_2$ is closed in $(X, d)$<br>\n",
        "<b>Proof:</b> $(F_1\\cup F_2)^c = F^c_1\\cap F^c_2$. The intersection of open sets is open and the compliment of it is closed. \n",
        "- $X$ is closed in $(X, d)$\n",
        "- $\\emptyset$ is closed in $(X, d)$"
      ]
    },
    {
      "cell_type": "markdown",
      "metadata": {
        "id": "5FuPGifYTf4S",
        "colab_type": "text"
      },
      "source": [
        "#### Prove that:\n",
        "- For eny finity set $(F)_{i=1}^{n}$ of closed sets in $(X, d)$, $\\bigcup_{i=1}^{n}F$ is closed in $(X, d)$<br>\n",
        "<b>Proof: </b> We are given $U_1, U_2,...,U_n$ closed sets. We have proven that $U_1 \\cup U_2$ is also a closed set. Let's fix some k>2 and suppose $\\bigcup_{i=1}^{k}U_i$ is closed set, and let's prove it for k+1 case. $$\\bigcup_{i=1}^{k+1}U_i = (\\bigcup_{i=1}^{k}U_i) \\bigcup U_{k+1}.$$ Here we have got the union of two closed sets, and thats why $\\bigcup_{i=1}^{k+1}U_i$ is also closed. By mathematical induction principle, $\\bigcup_{i=1}^{n}U_i$ is closed set for $\\forall n\\ge 2$."
      ]
    },
    {
      "cell_type": "markdown",
      "metadata": {
        "id": "oeXR8e0VTf4T",
        "colab_type": "text"
      },
      "source": [
        "#### Prove that, if $F \\subset X$ is closed then $X - F$ is open in $(X, d)$ \n",
        "<b>Proof: </b> Lets $x_0 \\in X - F$. This means $x_0 \\notin F$ and therefore $x_0$ can not be limit point of $F$(as we know all limit points of closed set belong to this set). If $x_0$ is not the limit point of $F$, it means there $\\exists$ some open set $M$ containing point $x_0$, which does not contain any point of $F$. This means that $M \\subset X-F$. So for $\\forall x_0 \\in X-F$, there $\\exists$ open set $M$ which contains $x_0$ and $M \\subset X-F$. So we conclude that $X-F$ is open set."
      ]
    },
    {
      "cell_type": "markdown",
      "metadata": {
        "id": "P9kO0ndvTf4U",
        "colab_type": "text"
      },
      "source": [
        "# Metrics in Euclidean spaces"
      ]
    },
    {
      "cell_type": "markdown",
      "metadata": {
        "id": "OamF5GFiTf4V",
        "colab_type": "text"
      },
      "source": [
        "#### Prove that:\n",
        "- for every $u, v \\in \\mathbb{R}^{n}$: $d(u, v) \\geq 0$<br>\n",
        "<b>Proof: </b> In euclidean space metric is defined as: $$d(u,v)=(\\sum_{i=1}^n(u_i-v_i)^2)^{1\\over 2},$$ and sum of non-negative $(u_i-v_i)^2$ numbers is non-negative, so $d(u, v) \\geq 0$.\n",
        "- for every $v \\in \\mathbb{R}^{n}$: $d(v, v) = 0$<br>\n",
        "<b>Proof: </b> $$d(v,v)=(\\sum_{i=1}^n(v_i-v_i)^2)^{1\\over 2}=(\\sum_{i=1}^n0)^{1\\over 2}=0.$$\n",
        "- for every $u, v \\in \\mathbb{R}^{n}$: $d(u, v) = d(v, u)$ (symmetry)<br>\n",
        "<b>Proof: </b> $$d(u,v)=(\\sum_{i=1}^n(u_i-v_i)^2)^{1\\over 2}=(\\sum_{i=1}^n(v_i-u_i)^2)^{1\\over 2}=d(v,u).$$\n",
        "- for every $u, v, w \\in \\mathbb{R}^{n}$: $d(u, w) \\leq d(v, u) + d(v, w)$ (triangle inequality)<br>\n",
        "<b>Proof: </b> $$d(u,w)=(\\sum_{i=1}^n(u_i-w_i)^2)^{1\\over 2}=(\\sum_{i=1}^n((u_i-v_i)+(v_i-w_i))^2)^{1\\over 2};$$ Here we can apply Minkowski inequality:\n",
        "$$[\\sum_{i=1}^n(a_i+b_i)^k]^{1\\over k}\\le[\\sum_{i=1}^n(a_i)^k]^{1\\over k}+[\\sum_{i=1}^n(b_i)^k]^{1\\over k},$$ when $k=2$.\n",
        "$$d(u,w)=(\\sum_{i=1}^n(u_i-w_i)^2)^{1\\over 2}=(\\sum_{i=1}^n((u_i-v_i)+(v_i-w_i))^2)^{1\\over 2}\\le[\\sum_{i=1}^n(u_i-v_i)^2]^{1\\over 2}+[\\sum_{i=1}^n(v_i-w_i)^2]^{1\\over 2}=d(u,v)+d(v,w)$$"
      ]
    },
    {
      "cell_type": "markdown",
      "metadata": {
        "id": "VvwtCITITf4W",
        "colab_type": "text"
      },
      "source": [
        "#### Prove the same properties hold for $d(u, v) = ||u-v||_1$ ($||u-v||_1 = \\sum_{i = 1}^{n}|u_i - v_i|$)<br>\n",
        "<b>Proof:</b><br>\n",
        "- Sum of non-negative $|u_i - v_i|$ numbers is nonnegative.\n",
        "- Symmetry: $$d(u,v)=\\sum_{i=1}^n|u_i-v_i|=\\sum_{i=1}^n|v_i-u_i|=d(v,u).$$\n",
        "- Triangle property: $$d(u,w)=\\sum_{i=1}^n|u_i-w_i|=d(u,v)=\\sum_{i=1}^n|u_i-v_i+v_i-w_i|\\le\\sum_{i=1}^n(|u_i-v_i|+|v_i-w_i|)=\\sum_{i=1}^n|u_i-v_i|+\\sum_{i=1}^n|v_i-w_i|=d(u,v)+d(v,w).$$"
      ]
    },
    {
      "cell_type": "markdown",
      "metadata": {
        "id": "bJR2K5FgTf4Y",
        "colab_type": "text"
      },
      "source": [
        "## Sequences and limits"
      ]
    },
    {
      "cell_type": "markdown",
      "metadata": {
        "id": "L-0goQ-wTf4Z",
        "colab_type": "text"
      },
      "source": [
        "#### Prove that $x = \\lim_{n\\to\\infty}{x_n}$ in $(X, d)$ if and only if (iff) for every $r \\in \\mathbb{R}$ there exists $n_0 \\in \\mathbb{N}$ such that: $x_i \\in B(x, r)$ for every $i \\gt n_0$ <br>\n",
        "1. Lets prove the first part of this statement: we are given that $x = \\lim_{n\\to\\infty}{x_n}$ in $(X, d)$. By definition, the point $x \\in X$ is a limit of the sequence $(x_i)_{i=1}^{\\infty}$ if for every open set $U \\in X$ such that $x \\in U$ there exists $n_0 \\in \\mathbb{R}$ such that $x_i \\in U$ for every $i \\gt n_0$. As we know $B(x,r)$ is also an open set, and therefore for it we can find $n_0$, as soon as $i>n_0$, $x_i \\in B(x,r)$.\n",
        "2. We are given that for every $r \\in \\mathbb{R}$ there exists $n_0 \\in \\mathbb{N}$ such that: $x_i \\in B(x, r)$ for every $i \\gt n_0$. Lets take $r'<r$, $B(x,r') \\subset B(x,r)$. Then for this $r'$, there will exist $n'_0$, such that as soon as $i>n'_0$, all $x_i \\in B(x,r') \\subset B(x,r)$.\n",
        "\n"
      ]
    },
    {
      "cell_type": "markdown",
      "metadata": {
        "id": "2SdLuhEGTf4a",
        "colab_type": "text"
      },
      "source": [
        "#### Prove that if $x = \\lim_{n\\to\\infty}{x_n}$ and $x \\notin \\{-\\infty, \\infty\\}$ then $(x_i)_{i=1}^{\\infty} = (x_1, x_2, \\dots, x_n)$ is a Cauchy sequence\n",
        "<br>\n",
        "<b>Proof:</b>  By limit definition we have: $$\\forall {r\\over2}, \\exists n_0 \\in \\mathbb{R}, n>n_0, d(x_n,x)< {r\\over2}; (x_n \\in B(x,{r\\over2}))$$ From this definition follows, that there exist two elements $x_n, x_m \\in B(x,{r\\over2})$, when $m, n > n_0$. Let's consider distance between these elements. Using triangle property, we will get: \n",
        "$$d(x_n,x_m)\\le d(x_n,x)+d(x_m,x)< {r\\over2}+{r\\over2}=r.$$\n",
        "To summarize: for arbitrary given $r$, we have found $n_0$, such that $d(x_n,x_m)<r$ as soon as $n,m>n_0$. This means $(x_i)_{i=1}^{\\infty}$ is Cauchy sequence.\n"
      ]
    },
    {
      "cell_type": "markdown",
      "metadata": {
        "id": "f6ntooIxvsme",
        "colab_type": "text"
      },
      "source": [
        "\n",
        "For closed set $F \\subset \\mathbb{R}^n$ and convergent sequence $(x_i)_{i=1}^{\\infty} = (x_1, x_2, \\dots, x_n)$ such that there exists $n_0 \\in \\mathbb{N}$ such that $x_i \\in F$ for each $i \\gt n_0$ then: $\\lim_{n\\to\\infty}{x_n} \\in F$"
      ]
    },
    {
      "cell_type": "markdown",
      "metadata": {
        "id": "Behp67bmTf4b",
        "colab_type": "text"
      },
      "source": [
        "#### Prove that if $F$ is open from previous example, statement does not hold. \n",
        "<b>Proof.</b> Let's put the opposit: Suppose $F$ is open set and it contains all its limit points. Now, consider $Q=X-F$ set and some point $q \\in Q$. Point $q$ is not the limit point of $F$, because all its limit points belongs to $F$ and $q \\notin F$. If $q$ is not the limit point of $F$, it means there $\\exists$ some open set $M$ containing point $q$, which does not contain any point of $F$. This means that $M \\subset Q$. So for $\\forall q \\in Q$, there $\\exists$ open set $M$ which contains $q$ and $M \\subset Q$. So we conclude that Q is open set. If $Q=X-F$ is open set, then $F$ should be closed set, which contradicts to our supposition that $F$ was open set."
      ]
    },
    {
      "cell_type": "markdown",
      "metadata": {
        "id": "XGfi3mKPTf4d",
        "colab_type": "text"
      },
      "source": [
        "#### Prove that inherited metric is a metric"
      ]
    },
    {
      "cell_type": "markdown",
      "metadata": {
        "id": "receYythTf4e",
        "colab_type": "text"
      },
      "source": [
        "## Limits of functions"
      ]
    },
    {
      "cell_type": "markdown",
      "metadata": {
        "id": "7WevN7gITf4f",
        "colab_type": "text"
      },
      "source": [
        "Let $f:S \\to Y$ is function between subset $S \\subset X$ of a metric space $(X, d_x)$ and metric space $(Y, d_Y)$\n",
        "- We say that the limit of function $f:(S, d_x) \\to (Y, d_Y)$ between metric spaces in some limit point $c \\in X$ of the subset $S$ is $y \\in Y $if for each open neighborhood of $y \\in V \\subset Y$ there exists the open seighborhood of $c \\in U \\subset X$ such that $f(U \\cap S) \\subset V$\n",
        "<br>\n",
        "This definition is equiualent of definition:\n",
        "<br>\n",
        "- The limit of function $f:(S, d_X) \\to (Y, d_Y)$ between metric spaces in limit point $c \\in X$ of the subset $S$ is $y \\in Y $ if for each open ball $B(y, r) \\subset Y$ there exists the ball $B(c, l) \\subset X$ such that $f(B(c, l) \\cap S) \\subset B(y, r)$\n",
        "<br>\n",
        "or\n",
        "<br>\n",
        "- The limit of function $f:(S, d_X) \\to (Y, d_Y)$ between metric spaces in limit point $c \\in X$ of subset $S$ is $y \\in Y $ if for any $r \\in \\mathbb{R}$ there exists $l \\in \\mathbb{R}$ such that for every $x \\in S$ with $d_X(x, c) < l$ implies that $d_Y(f(x), y) < r$"
      ]
    },
    {
      "cell_type": "markdown",
      "metadata": {
        "id": "Vgl-MP1WTf4g",
        "colab_type": "text"
      },
      "source": [
        "#### Prove that this three definitions are equiualent for eny function between eny two metric spaces\n",
        "\n",
        "- The equivalence of 1) and 2) definitions comes from the fact that, for each open set $y \\in V$ we can find open ball $B(y,r)$ for which $B(y,r) \\subset V$, and contrary, for each open ball $B(y,r')$ we can find open set $V'$, for which $V' \\subset B(y,r)$.\n",
        "- The equivalence of 2) and 3) definitions comes from fact that $x \\in B(c,l)$ is equivalent to $d(x,c)<r$ \n"
      ]
    },
    {
      "cell_type": "markdown",
      "metadata": {
        "id": "YFUlghcLTf4h",
        "colab_type": "text"
      },
      "source": [
        "## Continuous functions "
      ]
    },
    {
      "cell_type": "markdown",
      "metadata": {
        "id": "U-SEj2sMTf4i",
        "colab_type": "text"
      },
      "source": [
        "#### Prove that function is continuous in $c$ if for eny sequence $(x_n)_{n=1}^{\\infty} \\subset X$ such that $\\lim_{n \\to \\infty}x_n = c$ we have $\\lim_{n \\to \\infty}f(x_n) = f(c)$\n",
        "<b>Proof:</b> We are given that for any sequence $(x_n)_{n=1}^{+\\infty} \\subset X$, exists $\\lim_{x\\to\\infty}x_n=c$. This means that for every $B(r,c)$ of point $c$, there $\\exists n_0$ such that, as soon as $n>n_0$, $x_n \\in B(r,c)$. <br>\n",
        "Then we are given that $\\lim_{n\\to \\infty}f(x_n)=f(c)$. This means $\\forall B(f(c),r')$ of point $f(c)$, there $\\exists m_0$, as soon as $n>m_0$, $f(x_n) \\in B(f(c),r')$.\n",
        "Now, lets take $k_0=max(n_0,m_0)$; then we have: <br>\n",
        "For every open ball B(f(c),r') of point $f(c)$, there $\\exists k_0$, such that when $n>k_0$, then $x_n \\in B(c,r)$ and $f(x_n) \\in B(f(c),r')$. Next, we are given that sequence $(x_n)_{n=1}^{\\infty} \\subset X$ is arbitrary sequience, converging to point $c$. Finaly we get:<br>\n",
        "For open ball $\\forall B(f(c),r')$ of point $f(c)$, there $\\exists B(c,r)$ open ball of $c$, such that as soon as $x \\in B(c,r)$, we get $f(x) \\in B(f(c),r')$. This is the definition of continuouse function. "
      ]
    },
    {
      "cell_type": "markdown",
      "metadata": {
        "id": "4APqxKrKTf4j",
        "colab_type": "text"
      },
      "source": [
        "#### Prove that function is continuous if for every open set $V \\subset Y$ the $f^{-1}(V)$ is open in $X$"
      ]
    },
    {
      "cell_type": "markdown",
      "metadata": {
        "id": "9GDhdbECTf4k",
        "colab_type": "text"
      },
      "source": [
        "#### Prove that function is continuous if for every closed set $F \\subset Y$ the $f^{-1}(F)$ is open in $X$"
      ]
    },
    {
      "cell_type": "markdown",
      "metadata": {
        "id": "_zFv0VWUTf4l",
        "colab_type": "text"
      },
      "source": [
        "#### Prove that any composition of continous functions is continous"
      ]
    },
    {
      "cell_type": "markdown",
      "metadata": {
        "id": "bAMLa3xkGTM8",
        "colab_type": "text"
      },
      "source": [
        "<b>Proof:</b> We are given continuous function $\\phi:(X,dX)→(Y,dY)$ and continuous $\\psi:(Y,dY)\\rightarrow (Z,dZ)$.\n",
        "By definition, if $\\psi$ is continuous in $\\phi(x_0)$, then $\\forall r \\in \\mathbb{R}$, $\\exists l \\in \\mathbb{R}$ such that $d(\\phi(x),\\phi(x_0))<l$, then $d(\\psi(\\phi(x)),\\psi(\\phi(x_0))))<r$. Besides, from continuity of $\\phi$ function, we have: for $\\forall l \\in \\mathbb{R}$, there $\\exists \\delta \\in \\mathbb{R}$, such that as soon as $d(x,x_0)<\\delta$, we have $d(\\phi(x),\\phi(x_0))<l$.<br>\n",
        "Finally we get: for $\\forall r \\in \\mathbb{R}$, there $\\exists \\delta, l \\in \\mathbb{R}$, such that as soon as $d(x,x_0)<\\delta$, we have $d(\\phi(x),\\phi(x_0))<l$ and therefore $d(\\psi(\\phi(x)),\\psi(\\phi(x_0))))<r$."
      ]
    },
    {
      "cell_type": "code",
      "metadata": {
        "id": "vLajDOK-Jbeg",
        "colab_type": "code",
        "colab": {}
      },
      "source": [
        ""
      ],
      "execution_count": 0,
      "outputs": []
    }
  ]
}