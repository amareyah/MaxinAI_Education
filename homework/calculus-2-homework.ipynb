{
  "nbformat": 4,
  "nbformat_minor": 0,
  "metadata": {
    "kernelspec": {
      "display_name": "Python 3",
      "language": "python",
      "name": "python3"
    },
    "language_info": {
      "codemirror_mode": {
        "name": "ipython",
        "version": 3
      },
      "file_extension": ".py",
      "mimetype": "text/x-python",
      "name": "python",
      "nbconvert_exporter": "python",
      "pygments_lexer": "ipython3",
      "version": "3.7.4"
    },
    "colab": {
      "name": "calculus-2-homework.ipynb",
      "provenance": []
    }
  },
  "cells": [
    {
      "cell_type": "code",
      "metadata": {
        "id": "88f_Dn_qG0ud",
        "colab_type": "code",
        "colab": {}
      },
      "source": [
        "%load_ext autoreload\n",
        "%autoreload 2\n",
        "\n",
        "%matplotlib inline"
      ],
      "execution_count": 0,
      "outputs": []
    },
    {
      "cell_type": "markdown",
      "metadata": {
        "id": "vcVw1VNOG0ui",
        "colab_type": "text"
      },
      "source": [
        "## Basic setup"
      ]
    },
    {
      "cell_type": "markdown",
      "metadata": {
        "id": "0N8I0bXxG0uk",
        "colab_type": "text"
      },
      "source": [
        "Create anaconda environment\n",
        "<br>\n",
        "```bash\n",
        "conda create -n ml python=3.7.4 jupyter\n",
        "```\n",
        "Install fastai library\n",
        "<br>\n",
        "```bash\n",
        "conda install -c pytorch -c fastai fastai\n",
        "```"
      ]
    },
    {
      "cell_type": "markdown",
      "metadata": {
        "id": "zc-AF7wIG0ul",
        "colab_type": "text"
      },
      "source": [
        "# Derivatives"
      ]
    },
    {
      "cell_type": "markdown",
      "metadata": {
        "id": "Fxv65V-YH2ur",
        "colab_type": "text"
      },
      "source": [
        "Levan Tsinadze 5:30 PM\n",
        "ეგ უნდა დავამტკინოთ, რომ აქვს კერძო წარმოებულები და არ აქვს სრული დიფერენციალი"
      ]
    },
    {
      "cell_type": "markdown",
      "metadata": {
        "id": "sgLpJ2p7G0um",
        "colab_type": "text"
      },
      "source": [
        "#### Example:\n",
        "$$f(x,y) = \\begin{cases}x & \\text{if }y \\ne x^2 \\\\ 0 & \\text{if }y = x^2\\end{cases}$$\n",
        "1) Lets consider this function everywhere except $y=x^2$ and point M(0,0). Then ${\\partial f \\over \\partial x}=1$ and ${\\partial f \\over \\partial y}=0$. Both partial derivatives are constant and therefore continuous. Total differential $df={\\partial f \\over \\partial x}dx+{\\partial f \\over \\partial y}dy=1\\cdot dx + 0\\cdot dy=dx$ <br>\n",
        "2) Along the line $y=x^2$ function has discontinuity, therefore partial derivatives do not exist.<br>\n",
        "3) Now consider point $M_0(0,0)$. Function $f(x,y)$ is continuous there: $\\lim_{M\\to M_0} f(x,y) = f(0,0)=0$. Partial derivatives ${\\partial f \\over \\partial x}$ and ${\\partial f \\over \\partial y}$ exist but are discontinuous in $M_0(0,0)$ point:<br>\n",
        "${\\partial f \\over \\partial x}=\\lim_{\\Delta x \\to 0}{{f(x+\\Delta x,y)-f(x,y)}\\over \\Delta x}=\\lim_{\\Delta x \\to 0}{{f(0+\\Delta x,0)-f(0,0)}\\over \\Delta x}=\\lim_{\\Delta x \\to 0}{{f(\\Delta x,0)-0}\\over \\Delta x}={\\Delta x \\over \\Delta x}=1$ when ${y\\ne x^2}$. <br><br>\n",
        "If $y=x^2$, then $x=t, y=t^2$, $\\Delta x = \\Delta t, \\Delta y = \\Delta t^2$, ${\\partial f \\over \\partial x}=\\lim_{\\Delta x \\to 0}{{f(x+\\Delta x,y)-f(x,y)}\\over \\Delta x}=\\lim_{\\Delta t \\to 0}{{f(t+\\Delta t,(t+\\Delta t)^2)-f(0,0)}\\over \\Delta t}=\\lim_{\\Delta t \\to 0}{{0-0)}\\over \\Delta t}=0$. <br>So partial derivative ${\\partial f \\over \\partial x}$ is discontinuous and therefore total differential of function $f(x,y)$ at point $M_0(0,0)$ does not exists."
      ]
    },
    {
      "cell_type": "markdown",
      "metadata": {
        "id": "8Xfz2jBIG0un",
        "colab_type": "text"
      },
      "source": [
        "#### Example:\n",
        "$$f(x,y) = \\begin{cases}y^3/(x^2+y^2) & \\text{if }(x,y) \\ne (0,0) \\\\ 0 & \\text{if }(x,y) = (0,0)\\end{cases}$$ <br>\n",
        "It is easy to see that $f(x,y)$ is continuous in point (0,0):$$f(x,y)={y^3\\over (x^2+y^2)}={y\\over (1+({x\\over y})^2)}.$$\n",
        "Whatever relation between $x$ and $y$ and path we choose, when $x \\rightarrow 0, y \\rightarrow 0$, we have: $$\\begin{cases} \\text{if } {x\\over y} \\rightarrow C \\text{(non-negative real number)}, \\text{then} {y\\over (1+({x\\over y})^2)} \\rightarrow 0 \\\\  \\text{if } {x\\over y} \\rightarrow +\\infty, \\text{then} {y\\over (1+({x\\over y})^2)} \\rightarrow 0 \\end{cases}$$\n",
        "So in all cases, ${y\\over (1+({x\\over y})^2)} \\rightarrow 0$, when $x \\rightarrow 0, y \\rightarrow 0$ and by definition $f(0,0)=0$. So our function $f(x,y)$ is continuous.<br>\n",
        "Now consider ${\\partial f \\over \\partial x}=-\\frac{2xy^3}{(x^2+y^2)^2}$; ${\\partial f \\over \\partial y}=\\frac{3(\\frac{x}{y})^2+1}{(\\frac{x}{y}+1)^2}$.\n",
        "$$\\begin{cases}  \n",
        "\\text{if  } \\frac{x}{y} \\rightarrow 0, \\text{when  } x,y \\rightarrow 0, {\\partial f \\over \\partial y} \\rightarrow 1; \\\\\n",
        "\\text{if  } \\frac{x}{y} \\rightarrow \\pm \\infty, \\text{when  } x,y \\rightarrow 0, \\text{then if  } z=\\frac{x}{y} \\rightarrow \\pm \\infty, \\text{we get  } {\\partial f \\over \\partial y}=\\frac{3z^2+1}{(z+1)^2} \\rightarrow 3; \\\\\n",
        "\\text{if  } \\frac{x}{y} \\rightarrow c\\ne 0, \\text{when  } x,y \\rightarrow 0, \\text{then we have:  } {\\partial f \\over \\partial y} \\rightarrow \\frac{3c^2+1}{(c+1)^2};\n",
        "\\end{cases}$$\n",
        "Here we see that $\\frac{\\partial f}{\\partial y}$ in point $(0,0)$ is discontinuous and depends on the way how $x, y \\rightarrow 0$. That's why total differential of $f(x,y)$ in point $(0,0)$ does not exists."
      ]
    },
    {
      "cell_type": "code",
      "metadata": {
        "id": "8NBm1hssgs6Z",
        "colab_type": "code",
        "colab": {}
      },
      "source": [
        ""
      ],
      "execution_count": 0,
      "outputs": []
    }
  ]
}