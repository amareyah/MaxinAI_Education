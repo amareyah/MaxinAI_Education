{
  "nbformat": 4,
  "nbformat_minor": 0,
  "metadata": {
    "kernelspec": {
      "display_name": "Python 3",
      "language": "python",
      "name": "python3"
    },
    "language_info": {
      "codemirror_mode": {
        "name": "ipython",
        "version": 3
      },
      "file_extension": ".py",
      "mimetype": "text/x-python",
      "name": "python",
      "nbconvert_exporter": "python",
      "pygments_lexer": "ipython3",
      "version": "3.7.4"
    },
    "colab": {
      "name": "calculus-2-homework.ipynb",
      "provenance": []
    }
  },
  "cells": [
    {
      "cell_type": "code",
      "metadata": {
        "id": "88f_Dn_qG0ud",
        "colab_type": "code",
        "colab": {}
      },
      "source": [
        "%load_ext autoreload\n",
        "%autoreload 2\n",
        "\n",
        "%matplotlib inline"
      ],
      "execution_count": 0,
      "outputs": []
    },
    {
      "cell_type": "markdown",
      "metadata": {
        "id": "vcVw1VNOG0ui",
        "colab_type": "text"
      },
      "source": [
        "## Basic setup"
      ]
    },
    {
      "cell_type": "markdown",
      "metadata": {
        "id": "0N8I0bXxG0uk",
        "colab_type": "text"
      },
      "source": [
        "Create anaconda environment\n",
        "<br>\n",
        "```bash\n",
        "conda create -n ml python=3.7.4 jupyter\n",
        "```\n",
        "Install fastai library\n",
        "<br>\n",
        "```bash\n",
        "conda install -c pytorch -c fastai fastai\n",
        "```"
      ]
    },
    {
      "cell_type": "markdown",
      "metadata": {
        "id": "zc-AF7wIG0ul",
        "colab_type": "text"
      },
      "source": [
        "# Derivatives"
      ]
    },
    {
      "cell_type": "markdown",
      "metadata": {
        "id": "Fxv65V-YH2ur",
        "colab_type": "text"
      },
      "source": [
        "Levan Tsinadze 5:30 PM\n",
        "ეგ უნდა დავამტკინოთ, რომ აქვს კერძო წარმოებულები და არ აქვს სრული დიფერენციალი"
      ]
    },
    {
      "cell_type": "markdown",
      "metadata": {
        "id": "sgLpJ2p7G0um",
        "colab_type": "text"
      },
      "source": [
        "#### Example:\n",
        "$$f(x,y) = \\begin{cases}x & \\text{if }y \\ne x^2 \\\\ 0 & \\text{if }y = x^2\\end{cases}$$"
      ]
    },
    {
      "cell_type": "markdown",
      "metadata": {
        "id": "8Xfz2jBIG0un",
        "colab_type": "text"
      },
      "source": [
        "#### Example:\n",
        "$$f(x,y) = \\begin{cases}y^3/(x^2+y^2) & \\text{if }(x,y) \\ne (0,0) \\\\ 0 & \\text{if }(x,y) = (0,0)\\end{cases}$$"
      ]
    }
  ]
}