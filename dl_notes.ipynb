{
  "nbformat": 4,
  "nbformat_minor": 0,
  "metadata": {
    "colab": {
      "name": "dl_notes.ipynb",
      "provenance": [],
      "collapsed_sections": [],
      "authorship_tag": "ABX9TyP2BKCdRriVHcH5vWgHUqmI",
      "include_colab_link": true
    },
    "kernelspec": {
      "name": "python3",
      "display_name": "Python 3"
    }
  },
  "cells": [
    {
      "cell_type": "markdown",
      "metadata": {
        "id": "view-in-github",
        "colab_type": "text"
      },
      "source": [
        "<a href=\"https://colab.research.google.com/github/amareyah/MaxinAI_Education/blob/master/dl_notes.ipynb\" target=\"_parent\"><img src=\"https://colab.research.google.com/assets/colab-badge.svg\" alt=\"Open In Colab\"/></a>"
      ]
    },
    {
      "cell_type": "code",
      "metadata": {
        "id": "p2sPo3FxjYSn",
        "colab_type": "code",
        "colab": {}
      },
      "source": [
        "pip install fastai2"
      ],
      "execution_count": 0,
      "outputs": []
    },
    {
      "cell_type": "code",
      "metadata": {
        "id": "okXwo4AA2TQF",
        "colab_type": "code",
        "colab": {}
      },
      "source": [
        "def cnn_dim(in_shape, ker_shape, stride, padding):\n",
        "    \"\"\"\n",
        "    Calculate output dimension of the convolutional layer\n",
        "    Args:\n",
        "       in_shape: input shape - height or width\n",
        "       ker_shape: kernel shape - height or width\n",
        "       stride: stride\n",
        "       padding: padding\n",
        "    \n",
        "    Returns:\n",
        "        output dimension of convolutional layer\n",
        "    \"\"\"\n",
        "    out_shape = (in_shape - ker_shape + 2 * padding) / stride + 1\n",
        "    out_shape = int(out_shape)\n",
        "    \n",
        "    return out_shape\n",
        "\n",
        "out_dim = cnn_dim(224, 3, 1, 1)\n",
        "print(f'out_dim = {out_dim}')"
      ],
      "execution_count": 0,
      "outputs": []
    },
    {
      "cell_type": "code",
      "metadata": {
        "id": "SWl6WNdszZI4",
        "colab_type": "code",
        "colab": {}
      },
      "source": [
        "from torchvision.models import vgg16\n",
        "model = vgg16(pretrained=True)"
      ],
      "execution_count": 0,
      "outputs": []
    },
    {
      "cell_type": "code",
      "metadata": {
        "id": "DYJuGHgyza-P",
        "colab_type": "code",
        "colab": {}
      },
      "source": [
        "from torchvision.models import resnet50\n",
        "model = resnet50(pretrained=True)"
      ],
      "execution_count": 0,
      "outputs": []
    },
    {
      "cell_type": "code",
      "metadata": {
        "id": "s4kaqteb3XfY",
        "colab_type": "code",
        "colab": {}
      },
      "source": [
        "from torchvision.models import resnext101_32x8d\n",
        "model = resnext101_32x8d(pretrained=False)"
      ],
      "execution_count": 0,
      "outputs": []
    },
    {
      "cell_type": "markdown",
      "metadata": {
        "id": "YnBw65Zg3u-F",
        "colab_type": "text"
      },
      "source": [
        "There are different ResNet models:\n",
        "- ResNet18\n",
        "- ResNet34\n",
        "- ResNet50\n",
        "- ResNet101\n",
        "- ResNet1001\n",
        "\n",
        "Inception-ResNet\n",
        "- Inception-ResNet A Block\n",
        "- Inception-ResNet B Block\n",
        "- Inception-ResNet C Block\n",
        "- Reduction A Block\n",
        "- Reduction B Block\n",
        "\n",
        "ResNeXt architectures:\n",
        "- ResNext50_32X4d\n",
        "- ResNext50_64X4d\n",
        "- ResNext101_32X4d\n",
        "- ResNext101_64X4d\n",
        "\n",
        "Other architectures\n",
        "- DenceNet\n",
        "- TraceNet\n",
        "- EfficientNet\n",
        "\n",
        "see details in **lecture_16_convolutional_neural_networks.ipynb**"
      ]
    },
    {
      "cell_type": "code",
      "metadata": {
        "id": "jn0airAA5KMt",
        "colab_type": "code",
        "colab": {}
      },
      "source": [
        ""
      ],
      "execution_count": 0,
      "outputs": []
    }
  ]
}