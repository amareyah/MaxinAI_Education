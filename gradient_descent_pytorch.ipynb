{
  "nbformat": 4,
  "nbformat_minor": 0,
  "metadata": {
    "kernelspec": {
      "display_name": "Python 3",
      "language": "python",
      "name": "python3"
    },
    "language_info": {
      "codemirror_mode": {
        "name": "ipython",
        "version": 3
      },
      "file_extension": ".py",
      "mimetype": "text/x-python",
      "name": "python",
      "nbconvert_exporter": "python",
      "pygments_lexer": "ipython3",
      "version": "3.7.4"
    },
    "colab": {
      "name": "gradient_descent_pytorch.ipynb",
      "provenance": []
    }
  },
  "cells": [
    {
      "cell_type": "markdown",
      "metadata": {
        "_cell_guid": "b1076dfc-b9ad-4769-8c92-a6c4dae69d19",
        "_uuid": "8f2839f25d086af736a60e9eeb907d3b93b6e0e5",
        "id": "z-V-vQYnC79O",
        "colab_type": "text"
      },
      "source": [
        "# PyTorch basics - Linear Regression from scratch\n",
        "\n",
        "<!-- <iframe width=\"560\" height=\"315\" src=\"https://www.youtube.com/embed/ECHX1s0Kk-o?controls=0\" frameborder=\"0\" allow=\"accelerometer; autoplay; encrypted-media; gyroscope; picture-in-picture\" allowfullscreen></iframe> -->\n",
        "\n",
        "Tutorial inspired from [FastAI development notebooks](https://github.com/fastai/fastai_v1/tree/master/dev_nb)\n",
        "\n",
        "## Machine Learning\n",
        "\n",
        "<img src=\"https://i.imgur.com/oJEQe7k.png\" width=\"500\">\n",
        "\n",
        "\n",
        "## Tensors & Gradients"
      ]
    },
    {
      "cell_type": "markdown",
      "metadata": {
        "_cell_guid": "79c7e3d0-c299-4dcb-8224-4455121ee9b0",
        "_uuid": "d629ff2d2480ee46fbb7e2d37f6b5fab8052498a",
        "id": "YjKStr6sC79V",
        "colab_type": "text"
      },
      "source": [
        "### Import Numpy & PyTorch"
      ]
    },
    {
      "cell_type": "code",
      "metadata": {
        "_cell_guid": "79c7e3d0-c299-4dcb-8224-4455121ee9b0",
        "_uuid": "d629ff2d2480ee46fbb7e2d37f6b5fab8052498a",
        "id": "7dx1MfXKC79X",
        "colab_type": "code",
        "colab": {}
      },
      "source": [
        "import numpy as np\n",
        "import torch"
      ],
      "execution_count": 0,
      "outputs": []
    },
    {
      "cell_type": "markdown",
      "metadata": {
        "_uuid": "34f006aa7eb4bbc683c39b7059021da900180908",
        "id": "aInJyPSeC79d",
        "colab_type": "text"
      },
      "source": [
        "A tensor is a number, vector, matrix or any n-dimensional array."
      ]
    },
    {
      "cell_type": "markdown",
      "metadata": {
        "_uuid": "e22be3f71825128f990e78959fa00d1331d344e4",
        "id": "XGDyi1E0C79e",
        "colab_type": "text"
      },
      "source": [
        "### Create tensors. (Add \"requires_grad=True\" for variables that needs calculation of gradients)"
      ]
    },
    {
      "cell_type": "code",
      "metadata": {
        "_uuid": "e22be3f71825128f990e78959fa00d1331d344e4",
        "id": "UVd7Q6NUC79e",
        "colab_type": "code",
        "colab": {}
      },
      "source": [
        "x = torch.tensor(3.)\n",
        "w = torch.tensor(4., requires_grad=True)\n",
        "b = torch.tensor(5., requires_grad=True)"
      ],
      "execution_count": 0,
      "outputs": []
    },
    {
      "cell_type": "markdown",
      "metadata": {
        "_uuid": "3cb90767ff9bc2c12b72548b1a430984241d4910",
        "id": "VaRjeOesC79h",
        "colab_type": "text"
      },
      "source": [
        "### Print tensors"
      ]
    },
    {
      "cell_type": "code",
      "metadata": {
        "_uuid": "3cb90767ff9bc2c12b72548b1a430984241d4910",
        "id": "vQtPxhbHC79i",
        "colab_type": "code",
        "colab": {
          "base_uri": "https://localhost:8080/",
          "height": 69
        },
        "outputId": "550b5be5-9aaa-4ae6-9fba-1e339643485a"
      },
      "source": [
        "print(x)\n",
        "print(w)\n",
        "print(b)"
      ],
      "execution_count": 3,
      "outputs": [
        {
          "output_type": "stream",
          "text": [
            "tensor(3.)\n",
            "tensor(4., requires_grad=True)\n",
            "tensor(5., requires_grad=True)\n"
          ],
          "name": "stdout"
        }
      ]
    },
    {
      "cell_type": "code",
      "metadata": {
        "id": "-tUnDLD9LZv-",
        "colab_type": "code",
        "colab": {}
      },
      "source": [
        "torch.tensor?"
      ],
      "execution_count": 0,
      "outputs": []
    },
    {
      "cell_type": "markdown",
      "metadata": {
        "_uuid": "66a939ee0ec472705acd3f23654bc3ccea1cc8b4",
        "id": "xqdc2lIBC79k",
        "colab_type": "text"
      },
      "source": [
        "We can combine tensors with the usual arithmetic operations."
      ]
    },
    {
      "cell_type": "markdown",
      "metadata": {
        "_uuid": "0bd8fdeb252742e3449b7a2f08bcb188645dc9cf",
        "id": "B5tqMe55C79l",
        "colab_type": "text"
      },
      "source": [
        "### Arithmetic operations"
      ]
    },
    {
      "cell_type": "code",
      "metadata": {
        "_uuid": "0bd8fdeb252742e3449b7a2f08bcb188645dc9cf",
        "id": "NHxBAPLTC79m",
        "colab_type": "code",
        "colab": {
          "base_uri": "https://localhost:8080/",
          "height": 35
        },
        "outputId": "d1fb5af0-ce98-4f33-90e4-83c966bec3f7"
      },
      "source": [
        "y = w * x + b\n",
        "print(y)"
      ],
      "execution_count": 6,
      "outputs": [
        {
          "output_type": "stream",
          "text": [
            "tensor(17., grad_fn=<AddBackward0>)\n"
          ],
          "name": "stdout"
        }
      ]
    },
    {
      "cell_type": "markdown",
      "metadata": {
        "_uuid": "64e0f175c65c3e875c671c40e4a9bf495e30b772",
        "id": "6w3bnT5vC79o",
        "colab_type": "text"
      },
      "source": [
        "What makes PyTorch special, is that we can automatically compute the derivative of `y` w.r.t. the tensors that have `requires_grad` set to `True` i.e. `w` and `b`."
      ]
    },
    {
      "cell_type": "markdown",
      "metadata": {
        "_uuid": "6c98996f00294f99eb11989b5a9ecdbda31864e1",
        "id": "K1B8UXC8C79p",
        "colab_type": "text"
      },
      "source": [
        "### Compute gradients"
      ]
    },
    {
      "cell_type": "code",
      "metadata": {
        "_uuid": "6c98996f00294f99eb11989b5a9ecdbda31864e1",
        "id": "4w_HDbeyC79q",
        "colab_type": "code",
        "colab": {}
      },
      "source": [
        "y.backward()"
      ],
      "execution_count": 0,
      "outputs": []
    },
    {
      "cell_type": "markdown",
      "metadata": {
        "_uuid": "47a62ffb26a76329e511f9f063c4c26cc6a7dc21",
        "id": "QDGisl0hC79s",
        "colab_type": "text"
      },
      "source": [
        "### Display gradients"
      ]
    },
    {
      "cell_type": "code",
      "metadata": {
        "_uuid": "47a62ffb26a76329e511f9f063c4c26cc6a7dc21",
        "id": "8onzqu1oC79t",
        "colab_type": "code",
        "colab": {
          "base_uri": "https://localhost:8080/",
          "height": 52
        },
        "outputId": "0c87cd99-1287-4ac8-e63f-0842848c2e9f"
      },
      "source": [
        "print('dy/dw:', w.grad)\n",
        "print('dy/db:', b.grad)"
      ],
      "execution_count": 8,
      "outputs": [
        {
          "output_type": "stream",
          "text": [
            "dy/dw: tensor(3.)\n",
            "dy/db: tensor(1.)\n"
          ],
          "name": "stdout"
        }
      ]
    },
    {
      "cell_type": "markdown",
      "metadata": {
        "_uuid": "0b65b6bb4d15127b1d51f09abf616cfd29fa48b4",
        "id": "O1P0jeN1C79v",
        "colab_type": "text"
      },
      "source": [
        "## Problem Statement"
      ]
    },
    {
      "cell_type": "markdown",
      "metadata": {
        "_uuid": "c1beecda01bc332596edd193cade30006e3f6cbf",
        "id": "uZUiHJ1dC79w",
        "colab_type": "text"
      },
      "source": [
        "We'll create a model that predicts crop yeilds for apples and oranges (*target variables*) by looking at the average temperature, rainfall and humidity (*input variables or features*) in a region. Here's the training data:\n",
        "\n",
        "<img src=\"https://i.imgur.com/lBguUV9.png\" width=\"500\" />\n",
        "\n",
        "In a **linear regression** model, each target variable is estimated to be a weighted sum of the input variables, offset by some constant, known as a bias :\n",
        "\n",
        "```\n",
        "yeild_apple  = w11 * temp + w12 * rainfall + w13 * humidity + b1\n",
        "yeild_orange = w21 * temp + w22 * rainfall + w23 * humidity + b2\n",
        "```\n",
        "\n",
        "Visually, it means that the yield of apples is a linear or planar function of the temperature, rainfall & humidity.\n",
        "\n",
        "<img src=\"https://i.imgur.com/mtkR2lB.png\" width=\"540\" >\n",
        "\n",
        "\n",
        "**Our objective**: Find a suitable set of *weights* and *biases* using the training data, to make accurate predictions."
      ]
    },
    {
      "cell_type": "markdown",
      "metadata": {
        "_uuid": "c24b8195c0e9c6e8e13e169d264484f1f9b3b1ae",
        "id": "Fzk57EtHC79x",
        "colab_type": "text"
      },
      "source": [
        "## Training Data\n",
        "The training data can be represented using 2 matrices (inputs and targets), each with one row per observation and one column per variable."
      ]
    },
    {
      "cell_type": "markdown",
      "metadata": {
        "_uuid": "dfda99005fc6daf3a49ae1cdd427ccac0aa446b1",
        "id": "pZEr5rTlC79y",
        "colab_type": "text"
      },
      "source": [
        "### Input (temp, rainfall, humidity)"
      ]
    },
    {
      "cell_type": "code",
      "metadata": {
        "_uuid": "dfda99005fc6daf3a49ae1cdd427ccac0aa446b1",
        "id": "9gfc8S6EC79y",
        "colab_type": "code",
        "colab": {}
      },
      "source": [
        "inputs = np.array([[73, 67, 43], \n",
        "                   [91, 88, 64], \n",
        "                   [87, 134, 58], \n",
        "                   [102, 43, 37], \n",
        "                   [69, 96, 70]], dtype='float32')"
      ],
      "execution_count": 0,
      "outputs": []
    },
    {
      "cell_type": "markdown",
      "metadata": {
        "_uuid": "bf56faf74f7e29c9ed7523308718a9ab1acc0667",
        "id": "qz3RmMx-C791",
        "colab_type": "text"
      },
      "source": [
        "### Targets (apples, oranges)"
      ]
    },
    {
      "cell_type": "code",
      "metadata": {
        "_uuid": "bf56faf74f7e29c9ed7523308718a9ab1acc0667",
        "id": "xKuMyuMkC791",
        "colab_type": "code",
        "colab": {}
      },
      "source": [
        "targets = np.array([[56, 70], \n",
        "                    [81, 101], \n",
        "                    [119, 133], \n",
        "                    [22, 37], \n",
        "                    [103, 119]], dtype='float32')"
      ],
      "execution_count": 0,
      "outputs": []
    },
    {
      "cell_type": "markdown",
      "metadata": {
        "_uuid": "70d48f83ae4fce7aba7dd78fd58dddc77c598bfd",
        "id": "ebHclcUCC794",
        "colab_type": "text"
      },
      "source": [
        "Before we build a model, we need to convert inputs and targets to PyTorch tensors."
      ]
    },
    {
      "cell_type": "markdown",
      "metadata": {
        "_uuid": "931c1bad8788e607fa100d4338e1b1fe120e2339",
        "id": "vkca_7-_C795",
        "colab_type": "text"
      },
      "source": [
        "### Convert inputs and targets to tensors"
      ]
    },
    {
      "cell_type": "code",
      "metadata": {
        "_uuid": "931c1bad8788e607fa100d4338e1b1fe120e2339",
        "id": "BccFqCVpC795",
        "colab_type": "code",
        "colab": {
          "base_uri": "https://localhost:8080/",
          "height": 191
        },
        "outputId": "179f5265-a595-46dd-c444-10d3d5c37715"
      },
      "source": [
        "inputs = torch.from_numpy(inputs)\n",
        "targets = torch.from_numpy(targets)\n",
        "print(inputs)\n",
        "print(targets)"
      ],
      "execution_count": 11,
      "outputs": [
        {
          "output_type": "stream",
          "text": [
            "tensor([[ 73.,  67.,  43.],\n",
            "        [ 91.,  88.,  64.],\n",
            "        [ 87., 134.,  58.],\n",
            "        [102.,  43.,  37.],\n",
            "        [ 69.,  96.,  70.]])\n",
            "tensor([[ 56.,  70.],\n",
            "        [ 81., 101.],\n",
            "        [119., 133.],\n",
            "        [ 22.,  37.],\n",
            "        [103., 119.]])\n"
          ],
          "name": "stdout"
        }
      ]
    },
    {
      "cell_type": "markdown",
      "metadata": {
        "_uuid": "652647cd90bd0784ec4dc53472410f7358ee18c9",
        "id": "6PL8XSEFC798",
        "colab_type": "text"
      },
      "source": [
        "## Linear Regression Model (from scratch)\n",
        "\n",
        "The *weights* and *biases* can also be represented as matrices, initialized with random values. The first row of `w` and the first element of `b` are use to predict the first target variable i.e. yield for apples, and similarly the second for oranges."
      ]
    },
    {
      "cell_type": "markdown",
      "metadata": {
        "_uuid": "6f788ae559355b3f01667be1554a5d2bdcade8db",
        "id": "9CDyVtVnC798",
        "colab_type": "text"
      },
      "source": [
        "### Weights and biases"
      ]
    },
    {
      "cell_type": "code",
      "metadata": {
        "_uuid": "6f788ae559355b3f01667be1554a5d2bdcade8db",
        "id": "8hxZ0k1LC799",
        "colab_type": "code",
        "colab": {
          "base_uri": "https://localhost:8080/",
          "height": 69
        },
        "outputId": "cca6e463-bd75-48da-8cba-50543fa2ba6b"
      },
      "source": [
        "w = torch.randn(2, 3, requires_grad=True)\n",
        "b = torch.randn(2, requires_grad=True)\n",
        "print(w)\n",
        "print(b)"
      ],
      "execution_count": 16,
      "outputs": [
        {
          "output_type": "stream",
          "text": [
            "tensor([[-0.6014, -2.3387, -0.3545],\n",
            "        [-0.3795, -0.2801, -0.0066]], requires_grad=True)\n",
            "tensor([-0.4607, -0.6177], requires_grad=True)\n"
          ],
          "name": "stdout"
        }
      ]
    },
    {
      "cell_type": "markdown",
      "metadata": {
        "_uuid": "3579a065997cae41f7f504916b6bc07878ac768c",
        "id": "YUK0_buKC79_",
        "colab_type": "text"
      },
      "source": [
        "The *model* is simply a function that performs a matrix multiplication of the input `x` and the weights `w` (transposed) and adds the bias `b` (replicated for each observation).\n",
        "\n",
        "$$\n",
        "\\hspace{2.5cm} X \\hspace{1.1cm} \\times \\hspace{1.2cm} W^T \\hspace{1.2cm}  + \\hspace{1cm} b \\hspace{2cm}\n",
        "$$\n",
        "\n",
        "$$\n",
        "\\left[ \\begin{array}{cc}\n",
        "73 & 67 & 43 \\\\\n",
        "91 & 88 & 64 \\\\\n",
        "\\vdots & \\vdots & \\vdots \\\\\n",
        "69 & 96 & 70\n",
        "\\end{array} \\right]\n",
        "%\n",
        "\\times\n",
        "%\n",
        "\\left[ \\begin{array}{cc}\n",
        "w_{11} & w_{21} \\\\\n",
        "w_{12} & w_{22} \\\\\n",
        "w_{13} & w_{23}\n",
        "\\end{array} \\right]\n",
        "%\n",
        "+\n",
        "%\n",
        "\\left[ \\begin{array}{cc}\n",
        "b_{1} & b_{2} \\\\\n",
        "b_{1} & b_{2} \\\\\n",
        "\\vdots & \\vdots \\\\\n",
        "b_{1} & b_{2} \\\\\n",
        "\\end{array} \\right]\n",
        "$$"
      ]
    },
    {
      "cell_type": "markdown",
      "metadata": {
        "_uuid": "b1119f5ae9688a5f31dba438c7f78ca382deb7e3",
        "id": "_b4U-YIDC7-A",
        "colab_type": "text"
      },
      "source": [
        "### Define the model"
      ]
    },
    {
      "cell_type": "code",
      "metadata": {
        "_uuid": "b1119f5ae9688a5f31dba438c7f78ca382deb7e3",
        "id": "NC61Ac-wC7-B",
        "colab_type": "code",
        "colab": {}
      },
      "source": [
        "def model(x):\n",
        "    return x @ w.T + b"
      ],
      "execution_count": 0,
      "outputs": []
    },
    {
      "cell_type": "markdown",
      "metadata": {
        "_uuid": "8e0a4644cb1c4ed68a3bcf67a8a156341ac7c853",
        "id": "XhKtvOBcC7-E",
        "colab_type": "text"
      },
      "source": [
        "The matrix obtained by passing the input data to the model is a set of predictions for the target variables."
      ]
    },
    {
      "cell_type": "markdown",
      "metadata": {
        "_uuid": "b042a3cf8f16f4c4380cccbac9d0892719c24190",
        "id": "DrhZ5OtFC7-F",
        "colab_type": "text"
      },
      "source": [
        "### Generate predictions"
      ]
    },
    {
      "cell_type": "code",
      "metadata": {
        "_uuid": "b042a3cf8f16f4c4380cccbac9d0892719c24190",
        "id": "M6GA0M5TC7-F",
        "colab_type": "code",
        "colab": {
          "base_uri": "https://localhost:8080/",
          "height": 104
        },
        "outputId": "f8771407-0176-4cde-8430-85e230de26ee"
      },
      "source": [
        "preds = model(inputs)\n",
        "print(preds)"
      ],
      "execution_count": 18,
      "outputs": [
        {
          "output_type": "stream",
          "text": [
            "tensor([[-216.2981,  -47.3733],\n",
            "        [-283.6804,  -60.2258],\n",
            "        [-386.7292,  -71.5529],\n",
            "        [-175.4813,  -51.6164],\n",
            "        [-291.2872,  -54.1575]], grad_fn=<AddBackward0>)\n"
          ],
          "name": "stdout"
        }
      ]
    },
    {
      "cell_type": "markdown",
      "metadata": {
        "_uuid": "5551ef933de7902c8b5a38ae3d8e4795cb244f38",
        "id": "W_ly98RbC7-H",
        "colab_type": "text"
      },
      "source": [
        "### Compare with targets"
      ]
    },
    {
      "cell_type": "code",
      "metadata": {
        "_uuid": "5551ef933de7902c8b5a38ae3d8e4795cb244f38",
        "id": "MIGGBF3MC7-J",
        "colab_type": "code",
        "colab": {
          "base_uri": "https://localhost:8080/",
          "height": 104
        },
        "outputId": "6ee22e76-dfa8-4947-9437-193a93b67559"
      },
      "source": [
        "print(targets)"
      ],
      "execution_count": 19,
      "outputs": [
        {
          "output_type": "stream",
          "text": [
            "tensor([[ 56.,  70.],\n",
            "        [ 81., 101.],\n",
            "        [119., 133.],\n",
            "        [ 22.,  37.],\n",
            "        [103., 119.]])\n"
          ],
          "name": "stdout"
        }
      ]
    },
    {
      "cell_type": "markdown",
      "metadata": {
        "_uuid": "2c4a9cf2b3c9152f2f832176bce9a87381e2419c",
        "id": "dPCsCJF_C7-L",
        "colab_type": "text"
      },
      "source": [
        "Because we've started with random weights and biases, the model does not a very good job of predicting the target varaibles."
      ]
    },
    {
      "cell_type": "markdown",
      "metadata": {
        "_uuid": "edaae7266f5d47c5e970e1438a812f10d8d35fb4",
        "id": "VCartLt_C7-M",
        "colab_type": "text"
      },
      "source": [
        "## Loss Function\n",
        "\n",
        "We can compare the predictions with the actual targets, using the following method: \n",
        "* Calculate the difference between the two matrices (`preds` and `targets`).\n",
        "* Square all elements of the difference matrix to remove negative values.\n",
        "* Calculate the average of the elements in the resulting matrix.\n",
        "\n",
        "The result is a single number, known as the **mean squared error** (MSE)."
      ]
    },
    {
      "cell_type": "markdown",
      "metadata": {
        "_uuid": "dbf5bca8cbf2a3831089b454c70469e3748e9682",
        "id": "AJp0o2XpC7-O",
        "colab_type": "text"
      },
      "source": [
        "### MSE loss"
      ]
    },
    {
      "cell_type": "markdown",
      "metadata": {
        "id": "Wtf2hx2pC7-P",
        "colab_type": "text"
      },
      "source": [
        "$$\\operatorname{MSE}=\\frac{1}{n}\\sum_{i=1}^n(Y_i-\\hat{Y_i})^2.$$"
      ]
    },
    {
      "cell_type": "code",
      "metadata": {
        "_uuid": "dbf5bca8cbf2a3831089b454c70469e3748e9682",
        "id": "BKr9Hf3kC7-Q",
        "colab_type": "code",
        "colab": {}
      },
      "source": [
        "def mse(t1, t2):\n",
        "    diff = t1 - t2\n",
        "    return torch.sum(diff **2) / diff.numel()"
      ],
      "execution_count": 0,
      "outputs": []
    },
    {
      "cell_type": "markdown",
      "metadata": {
        "_uuid": "90da6779aad81608c40cdca77c3c04b68a815c11",
        "id": "g2DD5kAiC7-T",
        "colab_type": "text"
      },
      "source": [
        "### Compute loss"
      ]
    },
    {
      "cell_type": "code",
      "metadata": {
        "_uuid": "90da6779aad81608c40cdca77c3c04b68a815c11",
        "id": "ejKKCKPtC7-T",
        "colab_type": "code",
        "colab": {
          "base_uri": "https://localhost:8080/",
          "height": 35
        },
        "outputId": "a63eacbc-701e-4cfe-f827-53e588a61865"
      },
      "source": [
        "loss = mse(preds, targets)\n",
        "print(loss)"
      ],
      "execution_count": 24,
      "outputs": [
        {
          "output_type": "stream",
          "text": [
            "tensor(77680.9844, grad_fn=<DivBackward0>)\n"
          ],
          "name": "stdout"
        }
      ]
    },
    {
      "cell_type": "code",
      "metadata": {
        "id": "05kpj5keOQ-S",
        "colab_type": "code",
        "colab": {
          "base_uri": "https://localhost:8080/",
          "height": 35
        },
        "outputId": "2fb0e6e6-88ec-419c-d2ac-f7b10cd2e68d"
      },
      "source": [
        "torch.nn.functional.mse_loss(preds,targets)"
      ],
      "execution_count": 26,
      "outputs": [
        {
          "output_type": "execute_result",
          "data": {
            "text/plain": [
              "tensor(77680.9844, grad_fn=<MseLossBackward>)"
            ]
          },
          "metadata": {
            "tags": []
          },
          "execution_count": 26
        }
      ]
    },
    {
      "cell_type": "markdown",
      "metadata": {
        "_uuid": "3ab3acadf389f30430b55c26c7979dcffaa974a5",
        "id": "bzl-6nfFC7-V",
        "colab_type": "text"
      },
      "source": [
        "The resulting number is called the **loss**, because it indicates how bad the model is at predicting the target variables. Lower the loss, better the model. "
      ]
    },
    {
      "cell_type": "markdown",
      "metadata": {
        "_uuid": "c61acf9c3cff205d769fc52ed3b1b76f5ae66233",
        "id": "ZXfDqrA8C7-W",
        "colab_type": "text"
      },
      "source": [
        "## Compute Gradients\n",
        "\n",
        "With PyTorch, we can automatically compute the gradient or derivative of the `loss` w.r.t. to the weights and biases, because they have `requires_grad` set to `True`."
      ]
    },
    {
      "cell_type": "markdown",
      "metadata": {
        "_uuid": "ef66710c6ef1944567c4dc033e1ca316f35490ab",
        "id": "CUTWiyl_C7-X",
        "colab_type": "text"
      },
      "source": [
        "### Compute gradients"
      ]
    },
    {
      "cell_type": "code",
      "metadata": {
        "_uuid": "ef66710c6ef1944567c4dc033e1ca316f35490ab",
        "id": "0fKI2U-SC7-X",
        "colab_type": "code",
        "colab": {}
      },
      "source": [
        "loss.backward()"
      ],
      "execution_count": 0,
      "outputs": []
    },
    {
      "cell_type": "markdown",
      "metadata": {
        "_uuid": "6504cddcfb4bfb0817bf03ef460f08f3145a9091",
        "id": "8R0tLzuJC7-a",
        "colab_type": "text"
      },
      "source": [
        "The gradients are stored in the `.grad` property of the respective tensors."
      ]
    },
    {
      "cell_type": "markdown",
      "metadata": {
        "_uuid": "5943d1cef604a178c95f5e8d255519d42d9f9982",
        "id": "od_BWG8YC7-a",
        "colab_type": "text"
      },
      "source": [
        "### Gradients for weights"
      ]
    },
    {
      "cell_type": "code",
      "metadata": {
        "_uuid": "5943d1cef604a178c95f5e8d255519d42d9f9982",
        "id": "F8cQPOIGC7-b",
        "colab_type": "code",
        "colab": {
          "base_uri": "https://localhost:8080/",
          "height": 87
        },
        "outputId": "f99e9b6a-d5d7-4242-eae2-56a247a95739"
      },
      "source": [
        "print(w)\n",
        "print(w.grad)"
      ],
      "execution_count": 28,
      "outputs": [
        {
          "output_type": "stream",
          "text": [
            "tensor([[-0.6014, -2.3387, -0.3545],\n",
            "        [-0.3795, -0.2801, -0.0066]], requires_grad=True)\n",
            "tensor([[-28882.2070, -32889.3672, -19857.5137],\n",
            "        [-12404.5283, -13979.1191,  -8525.8809]])\n"
          ],
          "name": "stdout"
        }
      ]
    },
    {
      "cell_type": "markdown",
      "metadata": {
        "_uuid": "47278e318b156c6a5812e0842dbc4164c8362562",
        "id": "qIfebZuqC7-e",
        "colab_type": "text"
      },
      "source": [
        "### Gradients for bias"
      ]
    },
    {
      "cell_type": "code",
      "metadata": {
        "_uuid": "47278e318b156c6a5812e0842dbc4164c8362562",
        "id": "Ogbli9bGC7-e",
        "colab_type": "code",
        "colab": {
          "base_uri": "https://localhost:8080/",
          "height": 52
        },
        "outputId": "79fed951-06ce-4dd0-9c7d-5e5f59579e55"
      },
      "source": [
        "print(b)\n",
        "print(b.grad)"
      ],
      "execution_count": 29,
      "outputs": [
        {
          "output_type": "stream",
          "text": [
            "tensor([-0.4607, -0.6177], requires_grad=True)\n",
            "tensor([-346.8953, -148.9852])\n"
          ],
          "name": "stdout"
        }
      ]
    },
    {
      "cell_type": "markdown",
      "metadata": {
        "_uuid": "466dc3a2cc2d4bd2c10ae4cf59cf4627b5cc9c75",
        "id": "DdNd9II2C7-h",
        "colab_type": "text"
      },
      "source": [
        "A key insight from calculus is that the gradient indicates the rate of change of the loss, or the slope of the loss function w.r.t. the weights and biases. \n",
        "\n",
        "* If a gradient element is **postive**, \n",
        "    * **increasing** the element's value slightly will **increase** the loss.\n",
        "    * **decreasing** the element's value slightly will **decrease** the loss.\n",
        "\n",
        "<img src=\"https://i.imgur.com/2H4INoV.png\" width=\"400\" />\n",
        "\n",
        "\n",
        "\n",
        "* If a gradient element is **negative**,\n",
        "    * **increasing** the element's value slightly will **decrease** the loss.\n",
        "    * **decreasing** the element's value slightly will **increase** the loss.\n",
        "    \n",
        "<img src=\"https://i.imgur.com/h7E2uAv.png\" width=\"400\" />    \n",
        "\n",
        "The increase or decrease is proportional to the value of the gradient."
      ]
    },
    {
      "cell_type": "markdown",
      "metadata": {
        "_uuid": "35ed968bfc135bd44eeb100ae401d0628fbc5c63",
        "id": "-dWzsHAmC7-i",
        "colab_type": "text"
      },
      "source": [
        "Finally, we'll reset the gradients to zero before moving forward, because PyTorch accumulates gradients."
      ]
    },
    {
      "cell_type": "markdown",
      "metadata": {
        "id": "4LWuQk_QC7-i",
        "colab_type": "text"
      },
      "source": [
        "### Reset Gradients to Zero with \"tensor.grad.zero_()\" method"
      ]
    },
    {
      "cell_type": "code",
      "metadata": {
        "_uuid": "5f02dc376c21857d4e545d98413952c5ac73039b",
        "id": "VqjERIRLC7-j",
        "colab_type": "code",
        "colab": {
          "base_uri": "https://localhost:8080/",
          "height": 69
        },
        "outputId": "139f004c-f41f-439a-ed16-048995094175"
      },
      "source": [
        "w.grad.zero_()\n",
        "b.grad.zero_()\n",
        "print(w.grad)\n",
        "print(b.grad)"
      ],
      "execution_count": 30,
      "outputs": [
        {
          "output_type": "stream",
          "text": [
            "tensor([[0., 0., 0.],\n",
            "        [0., 0., 0.]])\n",
            "tensor([0., 0.])\n"
          ],
          "name": "stdout"
        }
      ]
    },
    {
      "cell_type": "markdown",
      "metadata": {
        "_uuid": "5501c66c9729c4954e9b798a0634a9d84487e639",
        "id": "zRVyf9wJC7-m",
        "colab_type": "text"
      },
      "source": [
        "## Adjust weights and biases using gradient descent\n",
        "\n",
        "We'll reduce the loss and improve our model using the gradient descent algorithm, which has the following steps:\n",
        "\n",
        "1. Generate predictions\n",
        "2. Calculate the loss\n",
        "3. Compute gradients w.r.t the weights and biases\n",
        "4. Adjust the weights by subtracting a small quantity proportional to the gradient\n",
        "5. Reset the gradients to zero"
      ]
    },
    {
      "cell_type": "markdown",
      "metadata": {
        "_uuid": "ef0d2bd2d9c5acb60992e238439ee00c2223319f",
        "id": "g0qo0PPMC7-n",
        "colab_type": "text"
      },
      "source": [
        "### Generate predictions"
      ]
    },
    {
      "cell_type": "code",
      "metadata": {
        "_uuid": "ef0d2bd2d9c5acb60992e238439ee00c2223319f",
        "id": "1hXrvZ8XC7-n",
        "colab_type": "code",
        "colab": {
          "base_uri": "https://localhost:8080/",
          "height": 104
        },
        "outputId": "87f88812-533b-4b10-f307-0df0baccb80a"
      },
      "source": [
        "preds = model(inputs)\n",
        "print(preds)"
      ],
      "execution_count": 31,
      "outputs": [
        {
          "output_type": "stream",
          "text": [
            "tensor([[-216.2981,  -47.3733],\n",
            "        [-283.6804,  -60.2258],\n",
            "        [-386.7292,  -71.5529],\n",
            "        [-175.4813,  -51.6164],\n",
            "        [-291.2872,  -54.1575]], grad_fn=<AddBackward0>)\n"
          ],
          "name": "stdout"
        }
      ]
    },
    {
      "cell_type": "markdown",
      "metadata": {
        "_uuid": "302ee8226da4ee5d0dad137c638573a79f8abded",
        "id": "wz4hoOT0C7-p",
        "colab_type": "text"
      },
      "source": [
        "### Calculate the loss"
      ]
    },
    {
      "cell_type": "code",
      "metadata": {
        "_uuid": "302ee8226da4ee5d0dad137c638573a79f8abded",
        "id": "g9QQG-1YC7-q",
        "colab_type": "code",
        "colab": {
          "base_uri": "https://localhost:8080/",
          "height": 35
        },
        "outputId": "50a78509-f728-4e27-e491-ee1be7202af1"
      },
      "source": [
        "loss = mse(preds, targets)\n",
        "print(loss)"
      ],
      "execution_count": 32,
      "outputs": [
        {
          "output_type": "stream",
          "text": [
            "tensor(77680.9844, grad_fn=<DivBackward0>)\n"
          ],
          "name": "stdout"
        }
      ]
    },
    {
      "cell_type": "markdown",
      "metadata": {
        "_uuid": "01c596aecf87e4670033ddd4ed36e26b97e2f9ab",
        "id": "Su3bQdlRC7-s",
        "colab_type": "text"
      },
      "source": [
        "### Compute gradients"
      ]
    },
    {
      "cell_type": "code",
      "metadata": {
        "_uuid": "01c596aecf87e4670033ddd4ed36e26b97e2f9ab",
        "id": "djjiiNnSC7-t",
        "colab_type": "code",
        "colab": {}
      },
      "source": [
        "loss.backward()"
      ],
      "execution_count": 0,
      "outputs": []
    },
    {
      "cell_type": "markdown",
      "metadata": {
        "_uuid": "ec1e2bdc8f91523e556fad55ee8c01eb5431ae24",
        "id": "XeWH4C62C7-w",
        "colab_type": "text"
      },
      "source": [
        "### Adjust weights & reset gradients"
      ]
    },
    {
      "cell_type": "markdown",
      "metadata": {
        "id": "sQhrJwRFC7-x",
        "colab_type": "text"
      },
      "source": [
        "$learning\\ rate=1e-5$"
      ]
    },
    {
      "cell_type": "code",
      "metadata": {
        "_uuid": "ec1e2bdc8f91523e556fad55ee8c01eb5431ae24",
        "id": "q1Ml1kZfC7-z",
        "colab_type": "code",
        "colab": {}
      },
      "source": [
        "with torch.no_grad():\n",
        "    w -= w.grad * 1e-5\n",
        "    b -= b.grad * 1e-5\n",
        "    w.grad.zero_()\n",
        "    b.grad.zero_()"
      ],
      "execution_count": 0,
      "outputs": []
    },
    {
      "cell_type": "code",
      "metadata": {
        "_uuid": "1d61b6f61f49b19099d29d1be8ec5ae4967bbd51",
        "id": "Ua66LGCFC7-2",
        "colab_type": "code",
        "colab": {
          "base_uri": "https://localhost:8080/",
          "height": 52
        },
        "outputId": "51a518f8-b163-4f05-ff98-dd5992628e46"
      },
      "source": [
        "print(w)"
      ],
      "execution_count": 35,
      "outputs": [
        {
          "output_type": "stream",
          "text": [
            "tensor([[-0.3125, -2.0098, -0.1559],\n",
            "        [-0.2555, -0.1403,  0.0786]], requires_grad=True)\n"
          ],
          "name": "stdout"
        }
      ]
    },
    {
      "cell_type": "markdown",
      "metadata": {
        "_uuid": "6af10c29db7cb0d6e869b2c30966a34a48a011e2",
        "id": "Nzf7WqAMC7-4",
        "colab_type": "text"
      },
      "source": [
        "With the new weights and biases, the model should have a lower loss."
      ]
    },
    {
      "cell_type": "markdown",
      "metadata": {
        "_uuid": "c542b5fe75d82454f34cac13cdcff8b48dd1945c",
        "id": "91y8Uwv8C7-5",
        "colab_type": "text"
      },
      "source": [
        "### Calculate loss"
      ]
    },
    {
      "cell_type": "code",
      "metadata": {
        "_uuid": "c542b5fe75d82454f34cac13cdcff8b48dd1945c",
        "id": "lDvFWDNOC7-5",
        "colab_type": "code",
        "colab": {
          "base_uri": "https://localhost:8080/",
          "height": 35
        },
        "outputId": "b3724ffb-a8fc-41b3-c658-455795b1a423"
      },
      "source": [
        "preds = model(inputs)\n",
        "loss = mse(preds, targets)\n",
        "print(loss)"
      ],
      "execution_count": 36,
      "outputs": [
        {
          "output_type": "stream",
          "text": [
            "tensor(52802.7891, grad_fn=<DivBackward0>)\n"
          ],
          "name": "stdout"
        }
      ]
    },
    {
      "cell_type": "markdown",
      "metadata": {
        "_uuid": "5201901695f3ea13d7fdd5d985da7e0761c541d0",
        "id": "GiQmaqVqC7-7",
        "colab_type": "text"
      },
      "source": [
        "\n",
        "## Train for multiple epochs\n",
        "\n",
        "To reduce the loss further, we repeat the process of adjusting the weights and biases using the gradients multiple times. Each iteration is called an epoch."
      ]
    },
    {
      "cell_type": "markdown",
      "metadata": {
        "_uuid": "9f5f0ffeee666b30c5828636359f0be6addbef7c",
        "id": "pqGqBtPXC7-7",
        "colab_type": "text"
      },
      "source": [
        "### Train for 100 epochs"
      ]
    },
    {
      "cell_type": "code",
      "metadata": {
        "_uuid": "9f5f0ffeee666b30c5828636359f0be6addbef7c",
        "id": "WWm7G5mLC7-8",
        "colab_type": "code",
        "colab": {}
      },
      "source": [
        "for i in range(100):\n",
        "    preds = model(inputs)\n",
        "    loss = mse(preds, targets)\n",
        "    loss.backward()\n",
        "    with torch.no_grad():\n",
        "        w -= w.grad * 1e-5\n",
        "        b -= b.grad * 1e-5\n",
        "        w.grad.zero_()\n",
        "        b.grad.zero_()"
      ],
      "execution_count": 0,
      "outputs": []
    },
    {
      "cell_type": "markdown",
      "metadata": {
        "_uuid": "c4820ca48b78f4dc242d80a9ec3ec6aca1aef671",
        "id": "R1rWjaxEC7--",
        "colab_type": "text"
      },
      "source": [
        "### Calculate loss"
      ]
    },
    {
      "cell_type": "code",
      "metadata": {
        "_uuid": "c4820ca48b78f4dc242d80a9ec3ec6aca1aef671",
        "id": "yi4PSKVWC7--",
        "colab_type": "code",
        "colab": {
          "base_uri": "https://localhost:8080/",
          "height": 35
        },
        "outputId": "473c6774-734d-4eb9-ef7a-1a66d9a6ca83"
      },
      "source": [
        "preds = model(inputs)\n",
        "loss = mse(preds, targets)\n",
        "print(loss)"
      ],
      "execution_count": 38,
      "outputs": [
        {
          "output_type": "stream",
          "text": [
            "tensor(408.3980, grad_fn=<DivBackward0>)\n"
          ],
          "name": "stdout"
        }
      ]
    },
    {
      "cell_type": "markdown",
      "metadata": {
        "_uuid": "bbcd65fa7094cec187565e54c2107e683bea787b",
        "id": "oTM-54QrC7_C",
        "colab_type": "text"
      },
      "source": [
        "### Print predictions"
      ]
    },
    {
      "cell_type": "code",
      "metadata": {
        "_uuid": "bbcd65fa7094cec187565e54c2107e683bea787b",
        "id": "555NgnC5C7_C",
        "colab_type": "code",
        "colab": {
          "base_uri": "https://localhost:8080/",
          "height": 104
        },
        "outputId": "6d71be33-03e6-4845-9b94-3b0208a44daa"
      },
      "source": [
        "preds"
      ],
      "execution_count": 39,
      "outputs": [
        {
          "output_type": "execute_result",
          "data": {
            "text/plain": [
              "tensor([[ 65.2448,  73.4773],\n",
              "        [ 90.1608, 100.3191],\n",
              "        [ 87.6127, 128.6615],\n",
              "        [ 68.7270,  55.7729],\n",
              "        [ 87.8655, 107.4604]], grad_fn=<AddBackward0>)"
            ]
          },
          "metadata": {
            "tags": []
          },
          "execution_count": 39
        }
      ]
    },
    {
      "cell_type": "markdown",
      "metadata": {
        "_uuid": "addec2c4eca8edfcae5544ea2cc717182c21d90f",
        "id": "OOUCf2XqC7_I",
        "colab_type": "text"
      },
      "source": [
        "### Print targets"
      ]
    },
    {
      "cell_type": "code",
      "metadata": {
        "_uuid": "addec2c4eca8edfcae5544ea2cc717182c21d90f",
        "id": "6z4QrcUvC7_J",
        "colab_type": "code",
        "colab": {
          "base_uri": "https://localhost:8080/",
          "height": 104
        },
        "outputId": "5848449d-5165-42b9-ab90-ce401984c944"
      },
      "source": [
        "targets"
      ],
      "execution_count": 40,
      "outputs": [
        {
          "output_type": "execute_result",
          "data": {
            "text/plain": [
              "tensor([[ 56.,  70.],\n",
              "        [ 81., 101.],\n",
              "        [119., 133.],\n",
              "        [ 22.,  37.],\n",
              "        [103., 119.]])"
            ]
          },
          "metadata": {
            "tags": []
          },
          "execution_count": 40
        }
      ]
    },
    {
      "cell_type": "markdown",
      "metadata": {
        "_uuid": "ecc6e79cdfb6a8ca882895ccc895b61b960b0a04",
        "id": "G0zTgB0xC7_L",
        "colab_type": "text"
      },
      "source": [
        "## Linear Regression Model using PyTorch built-ins\n",
        "\n",
        "Let's re-implement the same model using some built-in functions and classes from PyTorch."
      ]
    },
    {
      "cell_type": "markdown",
      "metadata": {
        "_uuid": "ce66cf0d09a3f38bf2f00ea40418c56d98f1f814",
        "id": "s1_Mo-byC7_L",
        "colab_type": "text"
      },
      "source": [
        "### Imports"
      ]
    },
    {
      "cell_type": "code",
      "metadata": {
        "_uuid": "ce66cf0d09a3f38bf2f00ea40418c56d98f1f814",
        "id": "uAlUJMJWC7_M",
        "colab_type": "code",
        "colab": {}
      },
      "source": [
        "import torch.nn as nn"
      ],
      "execution_count": 0,
      "outputs": []
    },
    {
      "cell_type": "markdown",
      "metadata": {
        "_uuid": "74bb18bd01ac809079eeb8d05695206e8ba02069",
        "id": "B6-TXzzqC7_N",
        "colab_type": "text"
      },
      "source": [
        "### Input (temp, rainfall, humidity)"
      ]
    },
    {
      "cell_type": "code",
      "metadata": {
        "_uuid": "74bb18bd01ac809079eeb8d05695206e8ba02069",
        "id": "On2IpZ1TC7_O",
        "colab_type": "code",
        "colab": {}
      },
      "source": [
        "inputs = np.array([[73, 67, 43], [91, 88, 64], [87, 134, 58], [102, 43, 37], [69, 96, 70], [73, 67, 43], [91, 88, 64], [87, 134, 58], [102, 43, 37], [69, 96, 70], [73, 67, 43], [91, 88, 64], [87, 134, 58], [102, 43, 37], [69, 96, 70]], dtype='float32')\n"
      ],
      "execution_count": 0,
      "outputs": []
    },
    {
      "cell_type": "markdown",
      "metadata": {
        "_uuid": "74bb18bd01ac809079eeb8d05695206e8ba02069",
        "id": "g8G0BoinC7_Q",
        "colab_type": "text"
      },
      "source": [
        "### Targets (apples, oranges)"
      ]
    },
    {
      "cell_type": "code",
      "metadata": {
        "_uuid": "74bb18bd01ac809079eeb8d05695206e8ba02069",
        "id": "nHFqpqBXC7_R",
        "colab_type": "code",
        "colab": {}
      },
      "source": [
        "targets = np.array([[56, 70], [81, 101], [119, 133], [22, 37], [103, 119], \n",
        "                    [56, 70], [81, 101], [119, 133], [22, 37], [103, 119], \n",
        "                    [56, 70], [81, 101], [119, 133], [22, 37], [103, 119]], dtype='float32')"
      ],
      "execution_count": 0,
      "outputs": []
    },
    {
      "cell_type": "code",
      "metadata": {
        "_uuid": "d94b355f55250e9c7dcff668920f02d7c5c04925",
        "id": "NA98No4-C7_T",
        "colab_type": "code",
        "colab": {}
      },
      "source": [
        "inputs = torch.from_numpy(inputs)\n",
        "targets = torch.from_numpy(targets)"
      ],
      "execution_count": 0,
      "outputs": []
    },
    {
      "cell_type": "markdown",
      "metadata": {
        "_uuid": "a0665466eb5401f40a816b323a34450b2c052c41",
        "id": "Qa7tBJAOC7_W",
        "colab_type": "text"
      },
      "source": [
        "### Dataset and DataLoader\n",
        "\n",
        "We'll create a `TensorDataset`, which allows access to rows from `inputs` and `targets` as tuples. We'll also create a DataLoader, to split the data into batches while training. It also provides other utilities like shuffling and sampling."
      ]
    },
    {
      "cell_type": "markdown",
      "metadata": {
        "_uuid": "206f5fd0473386476b23477bf38d2c327b6376c9",
        "id": "fAdST3vgC7_Y",
        "colab_type": "text"
      },
      "source": [
        "### Import tensor dataset & data loader"
      ]
    },
    {
      "cell_type": "code",
      "metadata": {
        "_uuid": "206f5fd0473386476b23477bf38d2c327b6376c9",
        "id": "avoY3eUhC7_Z",
        "colab_type": "code",
        "colab": {}
      },
      "source": [
        "from torch.utils.data import TensorDataset, DataLoader"
      ],
      "execution_count": 0,
      "outputs": []
    },
    {
      "cell_type": "markdown",
      "metadata": {
        "_uuid": "c47a4f2f86fda3918094e01cf7ab0698bbb5acc7",
        "id": "2_SEAo_cC7_b",
        "colab_type": "text"
      },
      "source": [
        "### Define dataset"
      ]
    },
    {
      "cell_type": "code",
      "metadata": {
        "_uuid": "c47a4f2f86fda3918094e01cf7ab0698bbb5acc7",
        "id": "niBZk3YLC7_b",
        "colab_type": "code",
        "colab": {
          "base_uri": "https://localhost:8080/",
          "height": 104
        },
        "outputId": "a81a63e5-cada-40d3-b2d7-3d0dd2546951"
      },
      "source": [
        "train_ds = TensorDataset(inputs, targets)\n",
        "train_ds[0:3]"
      ],
      "execution_count": 47,
      "outputs": [
        {
          "output_type": "execute_result",
          "data": {
            "text/plain": [
              "(tensor([[ 73.,  67.,  43.],\n",
              "         [ 91.,  88.,  64.],\n",
              "         [ 87., 134.,  58.]]), tensor([[ 56.,  70.],\n",
              "         [ 81., 101.],\n",
              "         [119., 133.]]))"
            ]
          },
          "metadata": {
            "tags": []
          },
          "execution_count": 47
        }
      ]
    },
    {
      "cell_type": "markdown",
      "metadata": {
        "_uuid": "0a2f69126319d738b82ae67d5d404ecd6161bfac",
        "id": "nqY5fAybC7_d",
        "colab_type": "text"
      },
      "source": [
        "### Define data loader"
      ]
    },
    {
      "cell_type": "code",
      "metadata": {
        "_uuid": "0a2f69126319d738b82ae67d5d404ecd6161bfac",
        "id": "GKQjbxeCC7_e",
        "colab_type": "code",
        "colab": {
          "base_uri": "https://localhost:8080/",
          "height": 173
        },
        "outputId": "4363ff63-fed6-4636-f689-c5c970c8dbac"
      },
      "source": [
        "batch_size = 5\n",
        "train_dl = DataLoader(train_ds, batch_size, shuffle=True)\n",
        "next(iter(train_dl))"
      ],
      "execution_count": 48,
      "outputs": [
        {
          "output_type": "execute_result",
          "data": {
            "text/plain": [
              "[tensor([[ 91.,  88.,  64.],\n",
              "         [ 69.,  96.,  70.],\n",
              "         [ 69.,  96.,  70.],\n",
              "         [ 73.,  67.,  43.],\n",
              "         [102.,  43.,  37.]]), tensor([[ 81., 101.],\n",
              "         [103., 119.],\n",
              "         [103., 119.],\n",
              "         [ 56.,  70.],\n",
              "         [ 22.,  37.]])]"
            ]
          },
          "metadata": {
            "tags": []
          },
          "execution_count": 48
        }
      ]
    },
    {
      "cell_type": "markdown",
      "metadata": {
        "_uuid": "276a262e1b9e3a048bcd32989013f9c501c59037",
        "id": "4xWi0YOBC7_f",
        "colab_type": "text"
      },
      "source": [
        "### nn.Linear\n",
        "Instead of initializing the weights & biases manually, we can define the model using `nn.Linear`."
      ]
    },
    {
      "cell_type": "markdown",
      "metadata": {
        "_uuid": "59da3506559a0640d80d18f77b02726a1757be2f",
        "id": "NIy_bLoQC7_g",
        "colab_type": "text"
      },
      "source": [
        "### Define model"
      ]
    },
    {
      "cell_type": "code",
      "metadata": {
        "_uuid": "59da3506559a0640d80d18f77b02726a1757be2f",
        "id": "W4_UjW73C7_h",
        "colab_type": "code",
        "colab": {
          "base_uri": "https://localhost:8080/",
          "height": 104
        },
        "outputId": "daacc715-5a68-44b0-db51-c760d74628de"
      },
      "source": [
        "model = nn.Linear(3, 2, bias=True)\n",
        "print(model.weight)\n",
        "print(model.bias)"
      ],
      "execution_count": 50,
      "outputs": [
        {
          "output_type": "stream",
          "text": [
            "Parameter containing:\n",
            "tensor([[ 0.1305, -0.3717,  0.5759],\n",
            "        [ 0.3917,  0.5323, -0.4330]], requires_grad=True)\n",
            "Parameter containing:\n",
            "tensor([-0.0409, -0.0455], requires_grad=True)\n"
          ],
          "name": "stdout"
        }
      ]
    },
    {
      "cell_type": "markdown",
      "metadata": {
        "_uuid": "b3a4a8c499a4680f2533329712de034671dd1cdd",
        "id": "9WuAf6MqC7_j",
        "colab_type": "text"
      },
      "source": [
        "### Optimizer\n",
        "Instead of manually manipulating the weights & biases using gradients, we can use the optimizer `optim.SGD`."
      ]
    },
    {
      "cell_type": "markdown",
      "metadata": {
        "_uuid": "1848398bd1ced8c25a7bb55612cf32a774500280",
        "id": "B4DxIsU7C7_k",
        "colab_type": "text"
      },
      "source": [
        "### Define optimizer (SGD-Stochastic Gradient Descent)"
      ]
    },
    {
      "cell_type": "code",
      "metadata": {
        "_uuid": "1848398bd1ced8c25a7bb55612cf32a774500280",
        "id": "QTSaxLMZC7_k",
        "colab_type": "code",
        "colab": {}
      },
      "source": [
        "opt = torch.optim.SGD(model.parameters(), lr=1e-5)"
      ],
      "execution_count": 0,
      "outputs": []
    },
    {
      "cell_type": "markdown",
      "metadata": {
        "_uuid": "28cbe62be55010bd11b31d819cff38da5a772b18",
        "id": "OUjiwmvZC7_m",
        "colab_type": "text"
      },
      "source": [
        "### Loss Function\n",
        "Instead of defining a loss function manually, we can use the built-in loss function `mse_loss`."
      ]
    },
    {
      "cell_type": "markdown",
      "metadata": {
        "_uuid": "69d7f4e8e27ccd077f711da27f8bede8aa711893",
        "id": "qCewyQjQC7_m",
        "colab_type": "text"
      },
      "source": [
        "### Import nn.functional"
      ]
    },
    {
      "cell_type": "code",
      "metadata": {
        "_uuid": "69d7f4e8e27ccd077f711da27f8bede8aa711893",
        "id": "xeApiedNC7_n",
        "colab_type": "code",
        "colab": {}
      },
      "source": [
        "import torch.nn.functional as F"
      ],
      "execution_count": 0,
      "outputs": []
    },
    {
      "cell_type": "markdown",
      "metadata": {
        "_uuid": "a02ff888ed4be720fd9ca376022d8fdcf2559683",
        "id": "xYqdVHZNC7_o",
        "colab_type": "text"
      },
      "source": [
        "### Define loss function"
      ]
    },
    {
      "cell_type": "code",
      "metadata": {
        "_uuid": "a02ff888ed4be720fd9ca376022d8fdcf2559683",
        "id": "xMqLEgxiC7_p",
        "colab_type": "code",
        "colab": {}
      },
      "source": [
        "loss_fn = F.mse_loss"
      ],
      "execution_count": 0,
      "outputs": []
    },
    {
      "cell_type": "code",
      "metadata": {
        "_uuid": "a540adf76725ea9968025f6c029fdd251bdada6c",
        "id": "fYHvMky3C7_q",
        "colab_type": "code",
        "colab": {
          "base_uri": "https://localhost:8080/",
          "height": 35
        },
        "outputId": "50c6b0ad-0c41-41ea-8892-baf94d6552a8"
      },
      "source": [
        "loss = loss_fn(model(inputs), targets)\n",
        "print(loss)"
      ],
      "execution_count": 54,
      "outputs": [
        {
          "output_type": "stream",
          "text": [
            "tensor(4049.7537, grad_fn=<MseLossBackward>)\n"
          ],
          "name": "stdout"
        }
      ]
    },
    {
      "cell_type": "markdown",
      "metadata": {
        "_uuid": "e833614a69ff18c554a3d89f643ae2f11e0260f6",
        "id": "9G_Vn7JrC7_s",
        "colab_type": "text"
      },
      "source": [
        "### Train the model\n",
        "\n",
        "We are ready to train the model now. We can define a utility function `fit` which trains the model for a given number of epochs."
      ]
    },
    {
      "cell_type": "markdown",
      "metadata": {
        "_uuid": "128bc7260221f5338edf8b503c75f0c7d1cce7e8",
        "id": "ZiJauxaAC7_s",
        "colab_type": "text"
      },
      "source": [
        "### Define a utility function to train the model"
      ]
    },
    {
      "cell_type": "code",
      "metadata": {
        "_uuid": "128bc7260221f5338edf8b503c75f0c7d1cce7e8",
        "id": "kjy6F9MpC7_t",
        "colab_type": "code",
        "colab": {}
      },
      "source": [
        "def fit(num_epochs, model, loss_fn, opt):\n",
        "    for epoch in range(num_epochs):\n",
        "        for xb,yb in train_dl:\n",
        "            # take batch of items using dataloader\n",
        "            # Generate predictions\n",
        "            pred = model(xb)\n",
        "            loss = loss_fn(pred, yb)\n",
        "            # Perform gradient descent\n",
        "            loss.backward()\n",
        "            opt.step()\n",
        "            opt.zero_grad()\n",
        "    print('Training loss: ', loss_fn(model(inputs), targets))"
      ],
      "execution_count": 0,
      "outputs": []
    },
    {
      "cell_type": "markdown",
      "metadata": {
        "_uuid": "ae8ca4686cf6a68f6c9ca93bf3d227abe96c2201",
        "id": "ix74bffsC7_y",
        "colab_type": "text"
      },
      "source": [
        "### Train the model for 100 epochs"
      ]
    },
    {
      "cell_type": "code",
      "metadata": {
        "_uuid": "ae8ca4686cf6a68f6c9ca93bf3d227abe96c2201",
        "id": "gf2kgCZmC7_y",
        "colab_type": "code",
        "colab": {
          "base_uri": "https://localhost:8080/",
          "height": 35
        },
        "outputId": "a366917e-96b7-467c-de9c-e28a48a1494d"
      },
      "source": [
        "fit(5000, model, loss_fn, opt)"
      ],
      "execution_count": 119,
      "outputs": [
        {
          "output_type": "stream",
          "text": [
            "Training loss:  tensor(0.6212, grad_fn=<MseLossBackward>)\n"
          ],
          "name": "stdout"
        }
      ]
    },
    {
      "cell_type": "markdown",
      "metadata": {
        "_uuid": "32588a47d0478772a1f08fa55874a322630bd0b6",
        "id": "DAazQNzWC7_0",
        "colab_type": "text"
      },
      "source": [
        "### Generate predictions"
      ]
    },
    {
      "cell_type": "code",
      "metadata": {
        "_uuid": "32588a47d0478772a1f08fa55874a322630bd0b6",
        "id": "QDNSD7C1C7_1",
        "colab_type": "code",
        "colab": {
          "base_uri": "https://localhost:8080/",
          "height": 277
        },
        "outputId": "b1d40e77-a724-417b-ade0-1a9b3e4b690d"
      },
      "source": [
        "preds = model(inputs)\n",
        "preds"
      ],
      "execution_count": 120,
      "outputs": [
        {
          "output_type": "execute_result",
          "data": {
            "text/plain": [
              "tensor([[ 57.6378,  70.6759],\n",
              "        [ 82.2115, 100.6623],\n",
              "        [118.9086, 133.1091],\n",
              "        [ 21.1798,  37.0889],\n",
              "        [102.1731, 119.3260],\n",
              "        [ 57.6378,  70.6759],\n",
              "        [ 82.2115, 100.6623],\n",
              "        [118.9086, 133.1091],\n",
              "        [ 21.1798,  37.0889],\n",
              "        [102.1731, 119.3260],\n",
              "        [ 57.6378,  70.6759],\n",
              "        [ 82.2115, 100.6623],\n",
              "        [118.9086, 133.1091],\n",
              "        [ 21.1798,  37.0889],\n",
              "        [102.1731, 119.3260]], grad_fn=<AddmmBackward>)"
            ]
          },
          "metadata": {
            "tags": []
          },
          "execution_count": 120
        }
      ]
    },
    {
      "cell_type": "markdown",
      "metadata": {
        "_uuid": "12d757c0f37c2e3af65cf9d4b59878cc10c65acf",
        "id": "2JR_6HT7C7_3",
        "colab_type": "text"
      },
      "source": [
        "### Compare with targets"
      ]
    },
    {
      "cell_type": "code",
      "metadata": {
        "_uuid": "12d757c0f37c2e3af65cf9d4b59878cc10c65acf",
        "id": "A3p4NvQtC7_4",
        "colab_type": "code",
        "colab": {
          "base_uri": "https://localhost:8080/",
          "height": 277
        },
        "outputId": "529227b3-dce3-4696-dad0-fbae6ad44025"
      },
      "source": [
        "targets"
      ],
      "execution_count": 121,
      "outputs": [
        {
          "output_type": "execute_result",
          "data": {
            "text/plain": [
              "tensor([[ 56.,  70.],\n",
              "        [ 81., 101.],\n",
              "        [119., 133.],\n",
              "        [ 22.,  37.],\n",
              "        [103., 119.],\n",
              "        [ 56.,  70.],\n",
              "        [ 81., 101.],\n",
              "        [119., 133.],\n",
              "        [ 22.,  37.],\n",
              "        [103., 119.],\n",
              "        [ 56.,  70.],\n",
              "        [ 81., 101.],\n",
              "        [119., 133.],\n",
              "        [ 22.,  37.],\n",
              "        [103., 119.]])"
            ]
          },
          "metadata": {
            "tags": []
          },
          "execution_count": 121
        }
      ]
    },
    {
      "cell_type": "code",
      "metadata": {
        "id": "pYQtMp7nC7_8",
        "colab_type": "code",
        "colab": {
          "base_uri": "https://localhost:8080/",
          "height": 277
        },
        "outputId": "98178c4f-e71a-4628-f312-dea4f98fddba"
      },
      "source": [
        "targets - preds "
      ],
      "execution_count": 122,
      "outputs": [
        {
          "output_type": "execute_result",
          "data": {
            "text/plain": [
              "tensor([[-1.6378, -0.6759],\n",
              "        [-1.2115,  0.3377],\n",
              "        [ 0.0914, -0.1091],\n",
              "        [ 0.8202, -0.0889],\n",
              "        [ 0.8269, -0.3260],\n",
              "        [-1.6378, -0.6759],\n",
              "        [-1.2115,  0.3377],\n",
              "        [ 0.0914, -0.1091],\n",
              "        [ 0.8202, -0.0889],\n",
              "        [ 0.8269, -0.3260],\n",
              "        [-1.6378, -0.6759],\n",
              "        [-1.2115,  0.3377],\n",
              "        [ 0.0914, -0.1091],\n",
              "        [ 0.8202, -0.0889],\n",
              "        [ 0.8269, -0.3260]], grad_fn=<SubBackward0>)"
            ]
          },
          "metadata": {
            "tags": []
          },
          "execution_count": 122
        }
      ]
    },
    {
      "cell_type": "code",
      "metadata": {
        "id": "MgJ8cMS3C8AA",
        "colab_type": "code",
        "colab": {
          "base_uri": "https://localhost:8080/",
          "height": 35
        },
        "outputId": "d25ac765-e1f6-4411-a26d-00e6efd3364e"
      },
      "source": [
        "(torch.abs(targets - preds)).max()"
      ],
      "execution_count": 123,
      "outputs": [
        {
          "output_type": "execute_result",
          "data": {
            "text/plain": [
              "tensor(1.6378, grad_fn=<MaxBackward1>)"
            ]
          },
          "metadata": {
            "tags": []
          },
          "execution_count": 123
        }
      ]
    },
    {
      "cell_type": "markdown",
      "metadata": {
        "_uuid": "e182289ebf21d8296f11f13264c4732c100da14f",
        "id": "tqli7rfpC8AB",
        "colab_type": "text"
      },
      "source": [
        "# Bonus: Feedfoward Neural Network\n",
        "\n",
        "![ffnn](https://upload.wikimedia.org/wikipedia/commons/thumb/0/00/Multi-Layer_Neural_Network-Vector-Blank.svg/400px-Multi-Layer_Neural_Network-Vector-Blank.svg.png)\n",
        "\n",
        "Conceptually, you think of feedforward neural networks as two or more linear regression models stacked on top of one another with a non-linear activation function applied between them.\n",
        "\n",
        "<img src=\"https://cdn-images-1.medium.com/max/1600/1*XxxiA0jJvPrHEJHD4z893g.png\" width=\"640\">\n",
        "\n",
        "To use a feedforward neural network instead of linear regression, we can extend the `nn.Module` class from PyTorch."
      ]
    },
    {
      "cell_type": "code",
      "metadata": {
        "_uuid": "c405e5075d6c4adb26ead75c17be90eaeb43f2d5",
        "id": "OjkCN5RSC8AC",
        "colab_type": "code",
        "colab": {}
      },
      "source": [
        "class SimpleNet(nn.Module):\n",
        "    # Initialize the layers\n",
        "    def __init__(self):\n",
        "        super().__init__()\n",
        "        self.linear1 = nn.Linear(3, 3)\n",
        "        self.act1 = nn.ReLU() # Activation function\n",
        "        self.linear2 = nn.Linear(3, 2)\n",
        "        self.reset()\n",
        "    \n",
        "    # Perform the computation\n",
        "    def forward(self, x):\n",
        "        x = self.linear1(x)\n",
        "        x = self.act1(x)\n",
        "        x = self.linear2(x)\n",
        "        return x\n",
        "    \n",
        "    def reset(self):\n",
        "      for m in self.children():\n",
        "          if isinstance(m,nn.Linear):\n",
        "            torch.nn.init.normal_(m.weight)\n",
        "            torch.nn.init.normal_(m.bias)"
      ],
      "execution_count": 0,
      "outputs": []
    },
    {
      "cell_type": "markdown",
      "metadata": {
        "_uuid": "2448d9832722f4f2813f8bd80b91daefd901dc2e",
        "id": "5RspDT1fC8AD",
        "colab_type": "text"
      },
      "source": [
        "Now we can define the model, optimizer and loss function exactly as before."
      ]
    },
    {
      "cell_type": "code",
      "metadata": {
        "_uuid": "a51ca222c2ea037c3caccaeab98ccdbcc30800cf",
        "id": "6dOCq2scC8AE",
        "colab_type": "code",
        "colab": {}
      },
      "source": [
        "model = SimpleNet()\n",
        "opt = torch.optim.SGD(model.parameters(), 1e-5)\n",
        "loss_fn = F.mse_loss"
      ],
      "execution_count": 0,
      "outputs": []
    },
    {
      "cell_type": "markdown",
      "metadata": {
        "_uuid": "21000c9739ea39a173a256f87339bfc112c1a9b0",
        "id": "R9hHHG6HC8AF",
        "colab_type": "text"
      },
      "source": [
        "Finally, we can apply gradient descent to train the model using the same `fit` function defined earlier for linear regression.\n",
        "\n",
        "<img src=\"https://i.imgur.com/g7Rl0r8.png\" width=\"500\">"
      ]
    },
    {
      "cell_type": "code",
      "metadata": {
        "id": "G8zGX1Bppz0E",
        "colab_type": "code",
        "colab": {
          "base_uri": "https://localhost:8080/",
          "height": 35
        },
        "outputId": "f47f5fe9-b896-487a-fa6b-8d854d5ad94c"
      },
      "source": [
        "model.reset()\n",
        "fit(5000, model, loss_fn, opt)"
      ],
      "execution_count": 135,
      "outputs": [
        {
          "output_type": "stream",
          "text": [
            "Training loss:  tensor(10.1897, grad_fn=<MseLossBackward>)\n"
          ],
          "name": "stdout"
        }
      ]
    },
    {
      "cell_type": "code",
      "metadata": {
        "id": "CLlBfthfnUl4",
        "colab_type": "code",
        "colab": {}
      },
      "source": [
        ""
      ],
      "execution_count": 0,
      "outputs": []
    }
  ]
}