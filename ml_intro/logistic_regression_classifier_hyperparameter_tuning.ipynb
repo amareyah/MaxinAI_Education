{
 "cells": [
  {
   "cell_type": "markdown",
   "metadata": {},
   "source": [
    "# Logistic Regression \n",
    "**Here we show one example of Logistic Regression using scikit-learn library. How to tune Hyperparameters using Grid and Random Search and Cross validation with several folds**"
   ]
  },
  {
   "cell_type": "markdown",
   "metadata": {},
   "source": [
    "# Imports"
   ]
  },
  {
   "cell_type": "code",
   "execution_count": 1,
   "metadata": {},
   "outputs": [],
   "source": [
    "import pandas as pd\n",
    "import numpy as np\n",
    "import matplotlib.pyplot as plt \n",
    "plt.rc(\"font\", size=14)\n",
    "\n",
    "from sklearn.model_selection import GridSearchCV, RandomizedSearchCV\n",
    "from sklearn.linear_model import LogisticRegression\n",
    "from sklearn.model_selection import train_test_split\n",
    "\n",
    "from sklearn.metrics import roc_auc_score\n",
    "from sklearn.metrics import roc_curve\n",
    "from sklearn.metrics import classification_report\n",
    "from sklearn.metrics import confusion_matrix\n",
    "\n",
    "from imblearn.over_sampling import SMOTE\n",
    "\n",
    "from scipy.stats import expon\n",
    "\n",
    "import seaborn as sns\n",
    "sns.set(style=\"white\")\n",
    "sns.set(style=\"whitegrid\", color_codes=True)"
   ]
  },
  {
   "cell_type": "markdown",
   "metadata": {},
   "source": [
    "# Helper Functions"
   ]
  },
  {
   "cell_type": "code",
   "execution_count": 5,
   "metadata": {},
   "outputs": [],
   "source": [
    "def pie_plot(series, figsize=(7,7)):\n",
    "    plt.figure(figsize=figsize)\n",
    "    val_counts = series.value_counts()\n",
    "    val_sum = val_counts.sum()\n",
    "    plt.pie(val_counts, labels=val_counts.index,autopct=lambda p: '{:.1f}% ({:,})'.format(p,int(p*val_sum/100)));"
   ]
  },
  {
   "cell_type": "code",
   "execution_count": 6,
   "metadata": {},
   "outputs": [],
   "source": [
    "def get_confusion_matrix(y_test, y_pred):\n",
    "    return pd.DataFrame(confusion_matrix(y_test, y_pred), columns=['True', 'False'], index=['Pred_True', 'Pred_False'])"
   ]
  },
  {
   "cell_type": "code",
   "execution_count": 7,
   "metadata": {},
   "outputs": [],
   "source": [
    "def plot_roc_auc_curve(y_test, y_pred, clf, X_test):\n",
    "    logit_roc_auc = roc_auc_score(y_test, y_pred)\n",
    "    fpr, tpr, thresholds = roc_curve(y_test, clf.predict_proba(X_test)[:,1])\n",
    "    plt.figure(figsize=[10,7])\n",
    "    plt.plot(fpr, tpr,label='Logistic Regression (area = %0.2f)' % logit_roc_auc)\n",
    "    plt.plot([0, 1], [0, 1],'r--')\n",
    "    plt.plot(fpr, thresholds,'g:',label='Thresholds')\n",
    "    plt.xlim([0.0, 1.0])\n",
    "    plt.ylim([0.0, 1.05])\n",
    "    plt.xlabel('False Positive Rate')\n",
    "    plt.ylabel('True Positive Rate')\n",
    "    plt.title('Receiver operating characteristic')\n",
    "    plt.legend(loc=\"upper right\")\n",
    "    plt.savefig('Log_ROC')\n",
    "    plt.show()"
   ]
  },
  {
   "cell_type": "markdown",
   "metadata": {},
   "source": [
    "\n",
    "# The Data\n",
    "\n",
    " The data is related with direct marketing campaigns (phone calls) of a Portuguese banking institution. The classification goal is to predict if the client will subscribe (1/0) a term deposit (variable y).\n",
    "\n",
    " This dataset provides the customer information. It includes over 41K records and 21 fields.\n"
   ]
  },
  {
   "cell_type": "markdown",
   "metadata": {},
   "source": [
    "## Read Data"
   ]
  },
  {
   "cell_type": "code",
   "execution_count": 5,
   "metadata": {},
   "outputs": [],
   "source": [
    "data = pd.read_csv('../data/ml_intro/banking.csv', header=0)"
   ]
  },
  {
   "cell_type": "code",
   "execution_count": 6,
   "metadata": {},
   "outputs": [
    {
     "data": {
      "text/html": [
       "<div>\n",
       "<style scoped>\n",
       "    .dataframe tbody tr th:only-of-type {\n",
       "        vertical-align: middle;\n",
       "    }\n",
       "\n",
       "    .dataframe tbody tr th {\n",
       "        vertical-align: top;\n",
       "    }\n",
       "\n",
       "    .dataframe thead th {\n",
       "        text-align: right;\n",
       "    }\n",
       "</style>\n",
       "<table border=\"1\" class=\"dataframe\">\n",
       "  <thead>\n",
       "    <tr style=\"text-align: right;\">\n",
       "      <th></th>\n",
       "      <th>age</th>\n",
       "      <th>job</th>\n",
       "      <th>marital</th>\n",
       "      <th>education</th>\n",
       "      <th>default</th>\n",
       "      <th>housing</th>\n",
       "      <th>loan</th>\n",
       "      <th>contact</th>\n",
       "      <th>month</th>\n",
       "      <th>day_of_week</th>\n",
       "      <th>...</th>\n",
       "      <th>campaign</th>\n",
       "      <th>pdays</th>\n",
       "      <th>previous</th>\n",
       "      <th>poutcome</th>\n",
       "      <th>emp_var_rate</th>\n",
       "      <th>cons_price_idx</th>\n",
       "      <th>cons_conf_idx</th>\n",
       "      <th>euribor3m</th>\n",
       "      <th>nr_employed</th>\n",
       "      <th>y</th>\n",
       "    </tr>\n",
       "  </thead>\n",
       "  <tbody>\n",
       "    <tr>\n",
       "      <th>0</th>\n",
       "      <td>44</td>\n",
       "      <td>blue-collar</td>\n",
       "      <td>married</td>\n",
       "      <td>basic.4y</td>\n",
       "      <td>unknown</td>\n",
       "      <td>yes</td>\n",
       "      <td>no</td>\n",
       "      <td>cellular</td>\n",
       "      <td>aug</td>\n",
       "      <td>thu</td>\n",
       "      <td>...</td>\n",
       "      <td>1</td>\n",
       "      <td>999</td>\n",
       "      <td>0</td>\n",
       "      <td>nonexistent</td>\n",
       "      <td>1.4</td>\n",
       "      <td>93.444</td>\n",
       "      <td>-36.1</td>\n",
       "      <td>4.963</td>\n",
       "      <td>5228.1</td>\n",
       "      <td>0</td>\n",
       "    </tr>\n",
       "    <tr>\n",
       "      <th>1</th>\n",
       "      <td>53</td>\n",
       "      <td>technician</td>\n",
       "      <td>married</td>\n",
       "      <td>unknown</td>\n",
       "      <td>no</td>\n",
       "      <td>no</td>\n",
       "      <td>no</td>\n",
       "      <td>cellular</td>\n",
       "      <td>nov</td>\n",
       "      <td>fri</td>\n",
       "      <td>...</td>\n",
       "      <td>1</td>\n",
       "      <td>999</td>\n",
       "      <td>0</td>\n",
       "      <td>nonexistent</td>\n",
       "      <td>-0.1</td>\n",
       "      <td>93.200</td>\n",
       "      <td>-42.0</td>\n",
       "      <td>4.021</td>\n",
       "      <td>5195.8</td>\n",
       "      <td>0</td>\n",
       "    </tr>\n",
       "    <tr>\n",
       "      <th>2</th>\n",
       "      <td>28</td>\n",
       "      <td>management</td>\n",
       "      <td>single</td>\n",
       "      <td>university.degree</td>\n",
       "      <td>no</td>\n",
       "      <td>yes</td>\n",
       "      <td>no</td>\n",
       "      <td>cellular</td>\n",
       "      <td>jun</td>\n",
       "      <td>thu</td>\n",
       "      <td>...</td>\n",
       "      <td>3</td>\n",
       "      <td>6</td>\n",
       "      <td>2</td>\n",
       "      <td>success</td>\n",
       "      <td>-1.7</td>\n",
       "      <td>94.055</td>\n",
       "      <td>-39.8</td>\n",
       "      <td>0.729</td>\n",
       "      <td>4991.6</td>\n",
       "      <td>1</td>\n",
       "    </tr>\n",
       "    <tr>\n",
       "      <th>3</th>\n",
       "      <td>39</td>\n",
       "      <td>services</td>\n",
       "      <td>married</td>\n",
       "      <td>high.school</td>\n",
       "      <td>no</td>\n",
       "      <td>no</td>\n",
       "      <td>no</td>\n",
       "      <td>cellular</td>\n",
       "      <td>apr</td>\n",
       "      <td>fri</td>\n",
       "      <td>...</td>\n",
       "      <td>2</td>\n",
       "      <td>999</td>\n",
       "      <td>0</td>\n",
       "      <td>nonexistent</td>\n",
       "      <td>-1.8</td>\n",
       "      <td>93.075</td>\n",
       "      <td>-47.1</td>\n",
       "      <td>1.405</td>\n",
       "      <td>5099.1</td>\n",
       "      <td>0</td>\n",
       "    </tr>\n",
       "    <tr>\n",
       "      <th>4</th>\n",
       "      <td>55</td>\n",
       "      <td>retired</td>\n",
       "      <td>married</td>\n",
       "      <td>basic.4y</td>\n",
       "      <td>no</td>\n",
       "      <td>yes</td>\n",
       "      <td>no</td>\n",
       "      <td>cellular</td>\n",
       "      <td>aug</td>\n",
       "      <td>fri</td>\n",
       "      <td>...</td>\n",
       "      <td>1</td>\n",
       "      <td>3</td>\n",
       "      <td>1</td>\n",
       "      <td>success</td>\n",
       "      <td>-2.9</td>\n",
       "      <td>92.201</td>\n",
       "      <td>-31.4</td>\n",
       "      <td>0.869</td>\n",
       "      <td>5076.2</td>\n",
       "      <td>1</td>\n",
       "    </tr>\n",
       "    <tr>\n",
       "      <th>5</th>\n",
       "      <td>30</td>\n",
       "      <td>management</td>\n",
       "      <td>divorced</td>\n",
       "      <td>basic.4y</td>\n",
       "      <td>no</td>\n",
       "      <td>yes</td>\n",
       "      <td>no</td>\n",
       "      <td>cellular</td>\n",
       "      <td>jul</td>\n",
       "      <td>tue</td>\n",
       "      <td>...</td>\n",
       "      <td>8</td>\n",
       "      <td>999</td>\n",
       "      <td>0</td>\n",
       "      <td>nonexistent</td>\n",
       "      <td>1.4</td>\n",
       "      <td>93.918</td>\n",
       "      <td>-42.7</td>\n",
       "      <td>4.961</td>\n",
       "      <td>5228.1</td>\n",
       "      <td>0</td>\n",
       "    </tr>\n",
       "    <tr>\n",
       "      <th>6</th>\n",
       "      <td>37</td>\n",
       "      <td>blue-collar</td>\n",
       "      <td>married</td>\n",
       "      <td>basic.4y</td>\n",
       "      <td>no</td>\n",
       "      <td>yes</td>\n",
       "      <td>no</td>\n",
       "      <td>cellular</td>\n",
       "      <td>may</td>\n",
       "      <td>thu</td>\n",
       "      <td>...</td>\n",
       "      <td>1</td>\n",
       "      <td>999</td>\n",
       "      <td>0</td>\n",
       "      <td>nonexistent</td>\n",
       "      <td>-1.8</td>\n",
       "      <td>92.893</td>\n",
       "      <td>-46.2</td>\n",
       "      <td>1.327</td>\n",
       "      <td>5099.1</td>\n",
       "      <td>0</td>\n",
       "    </tr>\n",
       "    <tr>\n",
       "      <th>7</th>\n",
       "      <td>39</td>\n",
       "      <td>blue-collar</td>\n",
       "      <td>divorced</td>\n",
       "      <td>basic.9y</td>\n",
       "      <td>no</td>\n",
       "      <td>yes</td>\n",
       "      <td>no</td>\n",
       "      <td>cellular</td>\n",
       "      <td>may</td>\n",
       "      <td>fri</td>\n",
       "      <td>...</td>\n",
       "      <td>1</td>\n",
       "      <td>999</td>\n",
       "      <td>0</td>\n",
       "      <td>nonexistent</td>\n",
       "      <td>-1.8</td>\n",
       "      <td>92.893</td>\n",
       "      <td>-46.2</td>\n",
       "      <td>1.313</td>\n",
       "      <td>5099.1</td>\n",
       "      <td>0</td>\n",
       "    </tr>\n",
       "    <tr>\n",
       "      <th>8</th>\n",
       "      <td>36</td>\n",
       "      <td>admin.</td>\n",
       "      <td>married</td>\n",
       "      <td>university.degree</td>\n",
       "      <td>no</td>\n",
       "      <td>no</td>\n",
       "      <td>no</td>\n",
       "      <td>cellular</td>\n",
       "      <td>jun</td>\n",
       "      <td>mon</td>\n",
       "      <td>...</td>\n",
       "      <td>1</td>\n",
       "      <td>3</td>\n",
       "      <td>1</td>\n",
       "      <td>success</td>\n",
       "      <td>-2.9</td>\n",
       "      <td>92.963</td>\n",
       "      <td>-40.8</td>\n",
       "      <td>1.266</td>\n",
       "      <td>5076.2</td>\n",
       "      <td>1</td>\n",
       "    </tr>\n",
       "    <tr>\n",
       "      <th>9</th>\n",
       "      <td>27</td>\n",
       "      <td>blue-collar</td>\n",
       "      <td>single</td>\n",
       "      <td>basic.4y</td>\n",
       "      <td>no</td>\n",
       "      <td>yes</td>\n",
       "      <td>no</td>\n",
       "      <td>cellular</td>\n",
       "      <td>apr</td>\n",
       "      <td>thu</td>\n",
       "      <td>...</td>\n",
       "      <td>2</td>\n",
       "      <td>999</td>\n",
       "      <td>1</td>\n",
       "      <td>failure</td>\n",
       "      <td>-1.8</td>\n",
       "      <td>93.075</td>\n",
       "      <td>-47.1</td>\n",
       "      <td>1.410</td>\n",
       "      <td>5099.1</td>\n",
       "      <td>0</td>\n",
       "    </tr>\n",
       "  </tbody>\n",
       "</table>\n",
       "<p>10 rows × 21 columns</p>\n",
       "</div>"
      ],
      "text/plain": [
       "   age          job   marital          education  default housing loan  \\\n",
       "0   44  blue-collar   married           basic.4y  unknown     yes   no   \n",
       "1   53   technician   married            unknown       no      no   no   \n",
       "2   28   management    single  university.degree       no     yes   no   \n",
       "3   39     services   married        high.school       no      no   no   \n",
       "4   55      retired   married           basic.4y       no     yes   no   \n",
       "5   30   management  divorced           basic.4y       no     yes   no   \n",
       "6   37  blue-collar   married           basic.4y       no     yes   no   \n",
       "7   39  blue-collar  divorced           basic.9y       no     yes   no   \n",
       "8   36       admin.   married  university.degree       no      no   no   \n",
       "9   27  blue-collar    single           basic.4y       no     yes   no   \n",
       "\n",
       "    contact month day_of_week  ...  campaign  pdays  previous     poutcome  \\\n",
       "0  cellular   aug         thu  ...         1    999         0  nonexistent   \n",
       "1  cellular   nov         fri  ...         1    999         0  nonexistent   \n",
       "2  cellular   jun         thu  ...         3      6         2      success   \n",
       "3  cellular   apr         fri  ...         2    999         0  nonexistent   \n",
       "4  cellular   aug         fri  ...         1      3         1      success   \n",
       "5  cellular   jul         tue  ...         8    999         0  nonexistent   \n",
       "6  cellular   may         thu  ...         1    999         0  nonexistent   \n",
       "7  cellular   may         fri  ...         1    999         0  nonexistent   \n",
       "8  cellular   jun         mon  ...         1      3         1      success   \n",
       "9  cellular   apr         thu  ...         2    999         1      failure   \n",
       "\n",
       "  emp_var_rate  cons_price_idx  cons_conf_idx  euribor3m  nr_employed  y  \n",
       "0          1.4          93.444          -36.1      4.963       5228.1  0  \n",
       "1         -0.1          93.200          -42.0      4.021       5195.8  0  \n",
       "2         -1.7          94.055          -39.8      0.729       4991.6  1  \n",
       "3         -1.8          93.075          -47.1      1.405       5099.1  0  \n",
       "4         -2.9          92.201          -31.4      0.869       5076.2  1  \n",
       "5          1.4          93.918          -42.7      4.961       5228.1  0  \n",
       "6         -1.8          92.893          -46.2      1.327       5099.1  0  \n",
       "7         -1.8          92.893          -46.2      1.313       5099.1  0  \n",
       "8         -2.9          92.963          -40.8      1.266       5076.2  1  \n",
       "9         -1.8          93.075          -47.1      1.410       5099.1  0  \n",
       "\n",
       "[10 rows x 21 columns]"
      ]
     },
     "execution_count": 6,
     "metadata": {},
     "output_type": "execute_result"
    }
   ],
   "source": [
    "data.head(10)"
   ]
  },
  {
   "cell_type": "markdown",
   "metadata": {},
   "source": [
    "# Take only target and Numerical Features for Simplicity"
   ]
  },
  {
   "cell_type": "markdown",
   "metadata": {},
   "source": [
    "## Numerical variable descriptions\n",
    "\n",
    "- age (numeric)\n",
    "\n",
    "- duration: last contact duration, in seconds (numeric). Important note: this attribute highly affects the output target (e.g., if duration=0 then y='no'). Yet, the duration is not known before a call is performed. Also, after the end of the call y is obviously known. Thus, this input should only be included for benchmark purposes and should be discarded if the intention is to have a realistic predictive model.\n",
    "\n",
    "- campaign: number of contacts performed during this campaign and for this client (numeric, includes last contact)\n",
    "\n",
    "- pdays: number of days that passed by after the client was last contacted from a previous campaign (numeric; 999 means client was not previously contacted)\n",
    "\n",
    "- previous: number of contacts performed before this campaign and for this client (numeric)\n",
    "\n",
    "- poutcome: outcome of the previous marketing campaign (categorical: 'failure','nonexistent','success')\n",
    "\n",
    "- emp.var.rate: employment variation rate - (numeric)\n",
    "\n",
    "- cons.price.idx: consumer price index - (numeric)\n",
    "\n",
    "- cons.conf.idx: consumer confidence index - (numeric)\n",
    "\n",
    "- euribor3m: euribor 3 month rate - (numeric)\n",
    "\n",
    "- nr.employed: number of employees - (numeric)"
   ]
  },
  {
   "cell_type": "code",
   "execution_count": 7,
   "metadata": {},
   "outputs": [],
   "source": [
    "numerical_features = ['age', 'campaign', 'pdays', 'duration', 'previous', \n",
    "                      'previous', 'emp_var_rate', 'cons_price_idx', 'cons_conf_idx', 'euribor3m', 'nr_employed']"
   ]
  },
  {
   "cell_type": "markdown",
   "metadata": {},
   "source": [
    "## Numerical variable distributions"
   ]
  },
  {
   "cell_type": "code",
   "execution_count": 8,
   "metadata": {},
   "outputs": [
    {
     "data": {
      "image/png": "[encoded data removed]",
      "text/plain": [
       "<Figure size 1440x1440 with 12 Axes>"
      ]
     },
     "metadata": {
      "needs_background": "light"
     },
     "output_type": "display_data"
    }
   ],
   "source": [
    "data[numerical_features].hist(bins=20, figsize=(20,20));"
   ]
  },
  {
   "cell_type": "markdown",
   "metadata": {},
   "source": [
    "## Target variable:\n",
    "\n",
    "y - has the client subscribed a term deposit? (binary: '1','0')"
   ]
  },
  {
   "cell_type": "code",
   "execution_count": 9,
   "metadata": {
    "scrolled": false
   },
   "outputs": [
    {
     "data": {
      "image/png": "[encoded data removed]",
      "text/plain": [
       "<Figure size 504x504 with 1 Axes>"
      ]
     },
     "metadata": {},
     "output_type": "display_data"
    }
   ],
   "source": [
    "pie_plot(data.y)"
   ]
  },
  {
   "cell_type": "markdown",
   "metadata": {},
   "source": [
    "## Take little part of the data to train models faster"
   ]
  },
  {
   "cell_type": "code",
   "execution_count": 10,
   "metadata": {},
   "outputs": [
    {
     "data": {
      "text/html": [
       "<div>\n",
       "<style scoped>\n",
       "    .dataframe tbody tr th:only-of-type {\n",
       "        vertical-align: middle;\n",
       "    }\n",
       "\n",
       "    .dataframe tbody tr th {\n",
       "        vertical-align: top;\n",
       "    }\n",
       "\n",
       "    .dataframe thead th {\n",
       "        text-align: right;\n",
       "    }\n",
       "</style>\n",
       "<table border=\"1\" class=\"dataframe\">\n",
       "  <thead>\n",
       "    <tr style=\"text-align: right;\">\n",
       "      <th></th>\n",
       "      <th>age</th>\n",
       "      <th>job</th>\n",
       "      <th>marital</th>\n",
       "      <th>education</th>\n",
       "      <th>default</th>\n",
       "      <th>housing</th>\n",
       "      <th>loan</th>\n",
       "      <th>contact</th>\n",
       "      <th>month</th>\n",
       "      <th>day_of_week</th>\n",
       "      <th>...</th>\n",
       "      <th>campaign</th>\n",
       "      <th>pdays</th>\n",
       "      <th>previous</th>\n",
       "      <th>poutcome</th>\n",
       "      <th>emp_var_rate</th>\n",
       "      <th>cons_price_idx</th>\n",
       "      <th>cons_conf_idx</th>\n",
       "      <th>euribor3m</th>\n",
       "      <th>nr_employed</th>\n",
       "      <th>y</th>\n",
       "    </tr>\n",
       "  </thead>\n",
       "  <tbody>\n",
       "    <tr>\n",
       "      <th>37069</th>\n",
       "      <td>30</td>\n",
       "      <td>technician</td>\n",
       "      <td>married</td>\n",
       "      <td>professional.course</td>\n",
       "      <td>no</td>\n",
       "      <td>no</td>\n",
       "      <td>yes</td>\n",
       "      <td>cellular</td>\n",
       "      <td>aug</td>\n",
       "      <td>wed</td>\n",
       "      <td>...</td>\n",
       "      <td>1</td>\n",
       "      <td>999</td>\n",
       "      <td>0</td>\n",
       "      <td>nonexistent</td>\n",
       "      <td>1.4</td>\n",
       "      <td>93.444</td>\n",
       "      <td>-36.1</td>\n",
       "      <td>4.965</td>\n",
       "      <td>5228.1</td>\n",
       "      <td>0</td>\n",
       "    </tr>\n",
       "    <tr>\n",
       "      <th>23058</th>\n",
       "      <td>49</td>\n",
       "      <td>blue-collar</td>\n",
       "      <td>married</td>\n",
       "      <td>basic.9y</td>\n",
       "      <td>unknown</td>\n",
       "      <td>yes</td>\n",
       "      <td>no</td>\n",
       "      <td>cellular</td>\n",
       "      <td>jul</td>\n",
       "      <td>thu</td>\n",
       "      <td>...</td>\n",
       "      <td>19</td>\n",
       "      <td>999</td>\n",
       "      <td>0</td>\n",
       "      <td>nonexistent</td>\n",
       "      <td>1.4</td>\n",
       "      <td>93.918</td>\n",
       "      <td>-42.7</td>\n",
       "      <td>4.962</td>\n",
       "      <td>5228.1</td>\n",
       "      <td>0</td>\n",
       "    </tr>\n",
       "  </tbody>\n",
       "</table>\n",
       "<p>2 rows × 21 columns</p>\n",
       "</div>"
      ],
      "text/plain": [
       "       age          job  marital            education  default housing loan  \\\n",
       "37069   30   technician  married  professional.course       no      no  yes   \n",
       "23058   49  blue-collar  married             basic.9y  unknown     yes   no   \n",
       "\n",
       "        contact month day_of_week  ...  campaign  pdays  previous  \\\n",
       "37069  cellular   aug         wed  ...         1    999         0   \n",
       "23058  cellular   jul         thu  ...        19    999         0   \n",
       "\n",
       "          poutcome emp_var_rate  cons_price_idx  cons_conf_idx  euribor3m  \\\n",
       "37069  nonexistent          1.4          93.444          -36.1      4.965   \n",
       "23058  nonexistent          1.4          93.918          -42.7      4.962   \n",
       "\n",
       "       nr_employed  y  \n",
       "37069       5228.1  0  \n",
       "23058       5228.1  0  \n",
       "\n",
       "[2 rows x 21 columns]"
      ]
     },
     "execution_count": 10,
     "metadata": {},
     "output_type": "execute_result"
    }
   ],
   "source": [
    "data.sample(2)"
   ]
  },
  {
   "cell_type": "code",
   "execution_count": 11,
   "metadata": {},
   "outputs": [],
   "source": [
    "data_sample = data.sample(10000)"
   ]
  },
  {
   "cell_type": "code",
   "execution_count": 12,
   "metadata": {},
   "outputs": [
    {
     "data": {
      "image/png": "[encoded data removed]",
      "text/plain": [
       "<Figure size 504x504 with 1 Axes>"
      ]
     },
     "metadata": {},
     "output_type": "display_data"
    }
   ],
   "source": [
    "pie_plot(data_sample['y'])"
   ]
  },
  {
   "cell_type": "markdown",
   "metadata": {},
   "source": [
    "## divide data into features and target"
   ]
  },
  {
   "cell_type": "code",
   "execution_count": 13,
   "metadata": {},
   "outputs": [],
   "source": [
    "X = data_sample[numerical_features]\n",
    "y = data_sample['y']"
   ]
  },
  {
   "cell_type": "code",
   "execution_count": 14,
   "metadata": {},
   "outputs": [
    {
     "data": {
      "text/plain": [
       "((10000, 11), (10000,))"
      ]
     },
     "execution_count": 14,
     "metadata": {},
     "output_type": "execute_result"
    }
   ],
   "source": [
    "X.shape, y.shape"
   ]
  },
  {
   "cell_type": "markdown",
   "metadata": {},
   "source": [
    "# Oversample the minority class by synthetically generating additional samples"
   ]
  },
  {
   "cell_type": "code",
   "execution_count": 15,
   "metadata": {},
   "outputs": [],
   "source": [
    "os = SMOTE(random_state=0, sampling_strategy=1)\n",
    "X, y = os.fit_resample(X, y)"
   ]
  },
  {
   "cell_type": "code",
   "execution_count": 16,
   "metadata": {},
   "outputs": [
    {
     "data": {
      "image/png": "[encoded data removed]",
      "text/plain": [
       "<Figure size 504x504 with 1 Axes>"
      ]
     },
     "metadata": {},
     "output_type": "display_data"
    }
   ],
   "source": [
    "pie_plot(pd.Series(y))"
   ]
  },
  {
   "cell_type": "code",
   "execution_count": 17,
   "metadata": {},
   "outputs": [
    {
     "data": {
      "text/plain": [
       "(17724, 11)"
      ]
     },
     "execution_count": 17,
     "metadata": {},
     "output_type": "execute_result"
    }
   ],
   "source": [
    "X.shape"
   ]
  },
  {
   "cell_type": "markdown",
   "metadata": {},
   "source": [
    "# Logistic Regression Model Fitting"
   ]
  },
  {
   "cell_type": "markdown",
   "metadata": {},
   "source": [
    "## Split data into train and test sets"
   ]
  },
  {
   "cell_type": "markdown",
   "metadata": {},
   "source": [
    "Here we won't see effect of stratify because we have balanced target. The use of stratify is to have the same distribution of target in train and test splits"
   ]
  },
  {
   "cell_type": "code",
   "execution_count": 18,
   "metadata": {},
   "outputs": [
    {
     "data": {
      "text/plain": [
       "array([0, 0, 0, ..., 1, 1, 1])"
      ]
     },
     "execution_count": 18,
     "metadata": {},
     "output_type": "execute_result"
    }
   ],
   "source": [
    "y"
   ]
  },
  {
   "cell_type": "code",
   "execution_count": 19,
   "metadata": {
    "scrolled": true
   },
   "outputs": [],
   "source": [
    "X_train, X_test, y_train, y_test = train_test_split(X, y, test_size=0.3, random_state=0, stratify=y)"
   ]
  },
  {
   "cell_type": "code",
   "execution_count": 20,
   "metadata": {},
   "outputs": [
    {
     "data": {
      "text/plain": [
       "((12406, 11), (5318, 11), (12406,), (5318,))"
      ]
     },
     "execution_count": 20,
     "metadata": {},
     "output_type": "execute_result"
    }
   ],
   "source": [
    "X_train.shape, X_test.shape, y_train.shape, y_test.shape"
   ]
  },
  {
   "cell_type": "markdown",
   "metadata": {},
   "source": [
    "## Create Logistic Regression classifier"
   ]
  },
  {
   "cell_type": "code",
   "execution_count": 21,
   "metadata": {},
   "outputs": [],
   "source": [
    "clf = LogisticRegression()"
   ]
  },
  {
   "cell_type": "code",
   "execution_count": 22,
   "metadata": {},
   "outputs": [],
   "source": [
    "clf.tol = 0.01\n",
    "clf.max_iter = 150"
   ]
  },
  {
   "cell_type": "markdown",
   "metadata": {},
   "source": [
    "## Create Parameter Grids"
   ]
  },
  {
   "cell_type": "markdown",
   "metadata": {},
   "source": [
    "### GridSearchCV"
   ]
  },
  {
   "cell_type": "markdown",
   "metadata": {},
   "source": [
    "Here we are going to create several splits of training data (K-folds) and then we are going to run grid search on every split. \n",
    "We will check calculated scores distributions on each split."
   ]
  },
  {
   "cell_type": "code",
   "execution_count": 23,
   "metadata": {
    "scrolled": true
   },
   "outputs": [
    {
     "data": {
      "text/plain": [
       "{'C': 1.0,\n",
       " 'class_weight': None,\n",
       " 'dual': False,\n",
       " 'fit_intercept': True,\n",
       " 'intercept_scaling': 1,\n",
       " 'l1_ratio': None,\n",
       " 'max_iter': 150,\n",
       " 'multi_class': 'warn',\n",
       " 'n_jobs': None,\n",
       " 'penalty': 'l2',\n",
       " 'random_state': None,\n",
       " 'solver': 'warn',\n",
       " 'tol': 0.01,\n",
       " 'verbose': 0,\n",
       " 'warm_start': False}"
      ]
     },
     "execution_count": 23,
     "metadata": {},
     "output_type": "execute_result"
    }
   ],
   "source": [
    "clf.get_params()"
   ]
  },
  {
   "cell_type": "markdown",
   "metadata": {},
   "source": [
    "parameter grid defines several choises for each hyperparameter we need to tune"
   ]
  },
  {
   "cell_type": "code",
   "execution_count": 24,
   "metadata": {},
   "outputs": [],
   "source": [
    "grid_parameters = {'penalty' : ['l1', 'l2'],\n",
    "     'C' : np.logspace(-3, 1, 10),\n",
    "     'solver' : ['liblinear'],\n",
    "    }"
   ]
  },
  {
   "cell_type": "code",
   "execution_count": 25,
   "metadata": {
    "scrolled": true
   },
   "outputs": [
    {
     "name": "stdout",
     "output_type": "stream",
     "text": [
      "[ 0.001    0.00278  0.00774  0.02154  0.05995  0.16681  0.46416  1.29155\n",
      "  3.59381 10.     ]\n"
     ]
    }
   ],
   "source": [
    "with np.printoptions(precision=5,suppress=True):\n",
    "    print(np.logspace(-3,1, 10))"
   ]
  },
  {
   "cell_type": "code",
   "execution_count": 26,
   "metadata": {},
   "outputs": [
    {
     "data": {
      "text/plain": [
       "array([1.00000000e-03, 2.78255940e-03, 7.74263683e-03, 2.15443469e-02,\n",
       "       5.99484250e-02, 1.66810054e-01, 4.64158883e-01, 1.29154967e+00,\n",
       "       3.59381366e+00, 1.00000000e+01])"
      ]
     },
     "execution_count": 26,
     "metadata": {},
     "output_type": "execute_result"
    }
   ],
   "source": [
    "np.logspace(-3,1, 10)"
   ]
  },
  {
   "cell_type": "code",
   "execution_count": 27,
   "metadata": {},
   "outputs": [
    {
     "data": {
      "text/plain": [
       "<matplotlib.collections.PathCollection at 0x7fe1c06e2410>"
      ]
     },
     "execution_count": 27,
     "metadata": {},
     "output_type": "execute_result"
    },
    {
     "data": {
      "image/png": "[encoded data removed]",
      "text/plain": [
       "<Figure size 432x288 with 1 Axes>"
      ]
     },
     "metadata": {
      "needs_background": "light"
     },
     "output_type": "display_data"
    }
   ],
   "source": [
    "plt.scatter(x=range(20),y=np.logspace(-3, 1, 20))"
   ]
  },
  {
   "cell_type": "markdown",
   "metadata": {},
   "source": [
    "###  RandomizedSearchCV"
   ]
  },
  {
   "cell_type": "code",
   "execution_count": 28,
   "metadata": {
    "scrolled": true
   },
   "outputs": [
    {
     "data": {
      "text/plain": [
       "<matplotlib.axes._subplots.AxesSubplot at 0x7fe1c06a2bd0>"
      ]
     },
     "execution_count": 28,
     "metadata": {},
     "output_type": "execute_result"
    },
    {
     "data": {
      "image/png": "[encoded data removed]",
      "text/plain": [
       "<Figure size 432x288 with 1 Axes>"
      ]
     },
     "metadata": {
      "needs_background": "light"
     },
     "output_type": "display_data"
    }
   ],
   "source": [
    "pd.Series(expon.rvs(size=1000)).hist(bins=20)"
   ]
  },
  {
   "cell_type": "code",
   "execution_count": null,
   "metadata": {},
   "outputs": [],
   "source": []
  },
  {
   "cell_type": "code",
   "execution_count": 29,
   "metadata": {},
   "outputs": [
    {
     "data": {
      "image/png": "[encoded data removed]",
      "text/plain": [
       "<Figure size 432x288 with 1 Axes>"
      ]
     },
     "metadata": {
      "needs_background": "light"
     },
     "output_type": "display_data"
    }
   ],
   "source": [
    "hist_arr, x_axis_arr, some_arr = plt.hist(expon.rvs(size=10000),bins=10)"
   ]
  },
  {
   "cell_type": "code",
   "execution_count": 30,
   "metadata": {},
   "outputs": [
    {
     "data": {
      "text/plain": [
       "array([6.026e+03, 2.416e+03, 9.720e+02, 3.470e+02, 1.530e+02, 4.900e+01,\n",
       "       1.900e+01, 1.400e+01, 3.000e+00, 1.000e+00])"
      ]
     },
     "execution_count": 30,
     "metadata": {},
     "output_type": "execute_result"
    }
   ],
   "source": [
    "hist_arr"
   ]
  },
  {
   "cell_type": "code",
   "execution_count": 31,
   "metadata": {},
   "outputs": [
    {
     "data": {
      "text/plain": [
       "array([1.47124551e-04, 9.28920624e-01, 1.85769412e+00, 2.78646762e+00,\n",
       "       3.71524112e+00, 4.64401462e+00, 5.57278812e+00, 6.50156162e+00,\n",
       "       7.43033512e+00, 8.35910862e+00, 9.28788212e+00])"
      ]
     },
     "execution_count": 31,
     "metadata": {},
     "output_type": "execute_result"
    }
   ],
   "source": [
    "x_axis_arr"
   ]
  },
  {
   "cell_type": "code",
   "execution_count": 32,
   "metadata": {
    "scrolled": false
   },
   "outputs": [
    {
     "name": "stdout",
     "output_type": "stream",
     "text": [
      "None\n"
     ]
    }
   ],
   "source": [
    "with np.printoptions(precision=3,suppress=True):\n",
    "    print(expon.rvs(size=20).sort())"
   ]
  },
  {
   "cell_type": "code",
   "execution_count": 33,
   "metadata": {},
   "outputs": [
    {
     "data": {
      "text/plain": [
       "array([0.01132448, 0.06953604, 0.08102146, 0.11258701, 0.16435331,\n",
       "       0.19137105, 0.239093  , 0.24266345, 0.29973003, 0.41680297,\n",
       "       0.67233764, 0.7383951 , 0.81864585, 1.02800677, 1.24947258,\n",
       "       1.31701175, 1.56466825, 1.66770641, 1.9414543 , 2.10112012])"
      ]
     },
     "execution_count": 33,
     "metadata": {},
     "output_type": "execute_result"
    }
   ],
   "source": [
    "np.sort(expon.rvs(size=20),kind='mergesort')"
   ]
  },
  {
   "cell_type": "code",
   "execution_count": 34,
   "metadata": {},
   "outputs": [
    {
     "data": {
      "text/plain": [
       "'%r'"
      ]
     },
     "execution_count": 34,
     "metadata": {},
     "output_type": "execute_result"
    }
   ],
   "source": [
    "%precision"
   ]
  },
  {
   "cell_type": "code",
   "execution_count": 35,
   "metadata": {},
   "outputs": [
    {
     "data": {
      "text/plain": [
       "array([0.        , 0.1331221 , 0.24852271, 0.34856094, 0.43528188,\n",
       "       0.51045834, 0.57562715, 0.63212056, 0.68109344, 0.72354695,\n",
       "       0.76034896, 0.79225181, 0.81990769, 0.84388195, 0.86466472,\n",
       "       0.88268083, 0.89829861, 0.91183731, 0.92357371, 0.93374774,\n",
       "       0.94256738, 0.95021293, 0.95684069, 0.96258615, 0.96756676,\n",
       "       0.97188434, 0.97562716, 0.97887172, 0.98168436, 0.98412258,\n",
       "       0.98623621, 0.98806848, 0.98965683, 0.99103373, 0.99222734,\n",
       "       0.99326205, 0.99415902, 0.99493659, 0.99561064, 0.99619496,\n",
       "       0.99670149, 0.9971406 , 0.99752125, 0.99785122, 0.99813727,\n",
       "       0.99838524, 0.9986002 , 0.99878655, 0.99894808, 0.99908812])"
      ]
     },
     "execution_count": 35,
     "metadata": {},
     "output_type": "execute_result"
    }
   ],
   "source": [
    "expon.cdf(np.linspace(0,7,50))"
   ]
  },
  {
   "cell_type": "code",
   "execution_count": 36,
   "metadata": {},
   "outputs": [
    {
     "data": {
      "text/plain": [
       "<matplotlib.collections.PathCollection at 0x7fe1c05463d0>"
      ]
     },
     "execution_count": 36,
     "metadata": {},
     "output_type": "execute_result"
    },
    {
     "data": {
      "image/png": "[encoded data removed]",
      "text/plain": [
       "<Figure size 432x288 with 1 Axes>"
      ]
     },
     "metadata": {
      "needs_background": "light"
     },
     "output_type": "display_data"
    }
   ],
   "source": [
    "plt.scatter(np.linspace(0,7,50),expon.cdf(np.linspace(0,7,50)))"
   ]
  },
  {
   "cell_type": "markdown",
   "metadata": {},
   "source": [
    "## Create grid search object"
   ]
  },
  {
   "cell_type": "markdown",
   "metadata": {},
   "source": [
    "- cv: cross validation (number of splits to do in data for cross validation the same as K-fold)\n",
    "- verbose: to show some logs while training\n",
    "- n_jobs: uses parallel runs for training different models (-1 means \"all\")"
   ]
  },
  {
   "cell_type": "markdown",
   "metadata": {},
   "source": [
    "There will be **CV*|PARAMS|** = **5x(20x2x1)** models trained (all combinations of parameters times number of splits)"
   ]
  },
  {
   "cell_type": "code",
   "execution_count": 37,
   "metadata": {},
   "outputs": [],
   "source": [
    "grid_clf = GridSearchCV(estimator=clf, param_grid=grid_parameters, cv=5, verbose=True, n_jobs=-1)"
   ]
  },
  {
   "cell_type": "markdown",
   "metadata": {},
   "source": [
    "### Randomized Grid search searches parameters not from predefined list of parameters but randomly generated parameters"
   ]
  },
  {
   "cell_type": "markdown",
   "metadata": {},
   "source": [
    "There will be **CV*|iters|** = **5x20** models trained (n random combinations of parameters times number of splits)"
   ]
  },
  {
   "cell_type": "code",
   "execution_count": 38,
   "metadata": {},
   "outputs": [],
   "source": [
    "random_parameters = {'penalty' : ['l1', 'l2'],\n",
    "     'C' : expon.rvs(size=20),\n",
    "     'solver' : ['liblinear'],\n",
    "    }"
   ]
  },
  {
   "cell_type": "code",
   "execution_count": 39,
   "metadata": {},
   "outputs": [],
   "source": [
    "random_clf = RandomizedSearchCV(estimator=clf,\n",
    "                                   random_state=42, \n",
    "                                   param_distributions=random_parameters, \n",
    "                                   cv=5, \n",
    "                                   verbose=True,\n",
    "                                   n_jobs=-1, \n",
    "                                   n_iter=20)"
   ]
  },
  {
   "cell_type": "markdown",
   "metadata": {},
   "source": [
    "## Using RandomizedSearchCV"
   ]
  },
  {
   "cell_type": "markdown",
   "metadata": {},
   "source": [
    "## Fit on data"
   ]
  },
  {
   "cell_type": "code",
   "execution_count": 40,
   "metadata": {
    "scrolled": false
   },
   "outputs": [
    {
     "name": "stdout",
     "output_type": "stream",
     "text": [
      "Fitting 5 folds for each of 20 candidates, totalling 100 fits\n"
     ]
    },
    {
     "name": "stderr",
     "output_type": "stream",
     "text": [
      "[Parallel(n_jobs=-1)]: Using backend LokyBackend with 4 concurrent workers.\n",
      "[Parallel(n_jobs=-1)]: Done  42 tasks      | elapsed:    2.2s\n",
      "[Parallel(n_jobs=-1)]: Done  93 out of 100 | elapsed:    3.8s remaining:    0.3s\n",
      "[Parallel(n_jobs=-1)]: Done 100 out of 100 | elapsed:    4.0s finished\n"
     ]
    }
   ],
   "source": [
    "best_param_grid_clf = grid_clf.fit(X_train, y_train)"
   ]
  },
  {
   "cell_type": "code",
   "execution_count": 41,
   "metadata": {},
   "outputs": [
    {
     "name": "stdout",
     "output_type": "stream",
     "text": [
      "Fitting 5 folds for each of 20 candidates, totalling 100 fits\n"
     ]
    },
    {
     "name": "stderr",
     "output_type": "stream",
     "text": [
      "[Parallel(n_jobs=-1)]: Using backend LokyBackend with 4 concurrent workers.\n",
      "[Parallel(n_jobs=-1)]: Done  42 tasks      | elapsed:    2.4s\n",
      "[Parallel(n_jobs=-1)]: Done  93 out of 100 | elapsed:    4.4s remaining:    0.3s\n",
      "[Parallel(n_jobs=-1)]: Done 100 out of 100 | elapsed:    4.5s finished\n"
     ]
    }
   ],
   "source": [
    "best_param_random_clf = random_clf.fit(X_train, y_train)"
   ]
  },
  {
   "cell_type": "markdown",
   "metadata": {},
   "source": [
    "## Check Score Distributions on splits"
   ]
  },
  {
   "cell_type": "code",
   "execution_count": 42,
   "metadata": {},
   "outputs": [
    {
     "data": {
      "text/plain": [
       "{'mean_fit_time': array([0.08823662, 0.07323489, 0.10621824, 0.08127894, 0.10299101,\n",
       "        0.08492785, 0.0980504 , 0.08734636, 0.12034106, 0.09030814,\n",
       "        0.20856671, 0.08166556, 0.11874833, 0.0871963 , 0.15353985,\n",
       "        0.08411016, 0.13254185, 0.08550038, 0.15376077, 0.08174863]),\n",
       " 'std_fit_time': array([0.05247345, 0.00722225, 0.02336464, 0.00603438, 0.01673287,\n",
       "        0.00856357, 0.01886309, 0.01390745, 0.02574904, 0.01985342,\n",
       "        0.01504974, 0.00998829, 0.03235075, 0.00589494, 0.04519799,\n",
       "        0.01109841, 0.00814344, 0.00785716, 0.02704267, 0.00757146]),\n",
       " 'mean_score_time': array([0.02145205, 0.00106568, 0.00115628, 0.0011889 , 0.00114884,\n",
       "        0.00120716, 0.00117321, 0.00136251, 0.00110455, 0.00121255,\n",
       "        0.00122447, 0.00110102, 0.0011549 , 0.0010551 , 0.00121789,\n",
       "        0.00123706, 0.00113516, 0.00117002, 0.00108018, 0.00111265]),\n",
       " 'std_score_time': array([1.19468037e-02, 1.24638557e-04, 1.52694799e-04, 1.34800321e-04,\n",
       "        4.70864561e-05, 1.57224600e-04, 1.41618099e-04, 1.44679607e-04,\n",
       "        1.48828768e-04, 1.28272510e-04, 1.20142753e-04, 6.44462663e-05,\n",
       "        1.39696768e-04, 6.53921968e-05, 1.33620748e-04, 1.86225918e-04,\n",
       "        6.20752246e-05, 8.00742348e-05, 2.36321939e-04, 3.09857628e-04]),\n",
       " 'param_C': masked_array(data=[0.001, 0.001, 0.0027825594022071257,\n",
       "                    0.0027825594022071257, 0.007742636826811269,\n",
       "                    0.007742636826811269, 0.021544346900318832,\n",
       "                    0.021544346900318832, 0.05994842503189409,\n",
       "                    0.05994842503189409, 0.1668100537200059,\n",
       "                    0.1668100537200059, 0.46415888336127775,\n",
       "                    0.46415888336127775, 1.2915496650148828,\n",
       "                    1.2915496650148828, 3.593813663804626,\n",
       "                    3.593813663804626, 10.0, 10.0],\n",
       "              mask=[False, False, False, False, False, False, False, False,\n",
       "                    False, False, False, False, False, False, False, False,\n",
       "                    False, False, False, False],\n",
       "        fill_value='?',\n",
       "             dtype=object),\n",
       " 'param_penalty': masked_array(data=['l1', 'l2', 'l1', 'l2', 'l1', 'l2', 'l1', 'l2', 'l1',\n",
       "                    'l2', 'l1', 'l2', 'l1', 'l2', 'l1', 'l2', 'l1', 'l2',\n",
       "                    'l1', 'l2'],\n",
       "              mask=[False, False, False, False, False, False, False, False,\n",
       "                    False, False, False, False, False, False, False, False,\n",
       "                    False, False, False, False],\n",
       "        fill_value='?',\n",
       "             dtype=object),\n",
       " 'param_solver': masked_array(data=['liblinear', 'liblinear', 'liblinear', 'liblinear',\n",
       "                    'liblinear', 'liblinear', 'liblinear', 'liblinear',\n",
       "                    'liblinear', 'liblinear', 'liblinear', 'liblinear',\n",
       "                    'liblinear', 'liblinear', 'liblinear', 'liblinear',\n",
       "                    'liblinear', 'liblinear', 'liblinear', 'liblinear'],\n",
       "              mask=[False, False, False, False, False, False, False, False,\n",
       "                    False, False, False, False, False, False, False, False,\n",
       "                    False, False, False, False],\n",
       "        fill_value='?',\n",
       "             dtype=object),\n",
       " 'params': [{'C': 0.001, 'penalty': 'l1', 'solver': 'liblinear'},\n",
       "  {'C': 0.001, 'penalty': 'l2', 'solver': 'liblinear'},\n",
       "  {'C': 0.0027825594022071257, 'penalty': 'l1', 'solver': 'liblinear'},\n",
       "  {'C': 0.0027825594022071257, 'penalty': 'l2', 'solver': 'liblinear'},\n",
       "  {'C': 0.007742636826811269, 'penalty': 'l1', 'solver': 'liblinear'},\n",
       "  {'C': 0.007742636826811269, 'penalty': 'l2', 'solver': 'liblinear'},\n",
       "  {'C': 0.021544346900318832, 'penalty': 'l1', 'solver': 'liblinear'},\n",
       "  {'C': 0.021544346900318832, 'penalty': 'l2', 'solver': 'liblinear'},\n",
       "  {'C': 0.05994842503189409, 'penalty': 'l1', 'solver': 'liblinear'},\n",
       "  {'C': 0.05994842503189409, 'penalty': 'l2', 'solver': 'liblinear'},\n",
       "  {'C': 0.1668100537200059, 'penalty': 'l1', 'solver': 'liblinear'},\n",
       "  {'C': 0.1668100537200059, 'penalty': 'l2', 'solver': 'liblinear'},\n",
       "  {'C': 0.46415888336127775, 'penalty': 'l1', 'solver': 'liblinear'},\n",
       "  {'C': 0.46415888336127775, 'penalty': 'l2', 'solver': 'liblinear'},\n",
       "  {'C': 1.2915496650148828, 'penalty': 'l1', 'solver': 'liblinear'},\n",
       "  {'C': 1.2915496650148828, 'penalty': 'l2', 'solver': 'liblinear'},\n",
       "  {'C': 3.593813663804626, 'penalty': 'l1', 'solver': 'liblinear'},\n",
       "  {'C': 3.593813663804626, 'penalty': 'l2', 'solver': 'liblinear'},\n",
       "  {'C': 10.0, 'penalty': 'l1', 'solver': 'liblinear'},\n",
       "  {'C': 10.0, 'penalty': 'l2', 'solver': 'liblinear'}],\n",
       " 'split0_test_score': array([0.84004835, 0.85213537, 0.84649476, 0.85294118, 0.85012087,\n",
       "        0.84850927, 0.84810637, 0.85213537, 0.84730056, 0.85334408,\n",
       "        0.84850927, 0.85334408, 0.84730056, 0.85334408, 0.84770346,\n",
       "        0.85213537, 0.84770346, 0.85213537, 0.84891217, 0.85213537]),\n",
       " 'split1_test_score': array([0.82433521, 0.83722804, 0.83521354, 0.83964545, 0.83803384,\n",
       "        0.84125705, 0.83924255, 0.84125705, 0.84165995, 0.84085415,\n",
       "        0.84085415, 0.84085415, 0.84045125, 0.84085415, 0.84085415,\n",
       "        0.84085415, 0.84004835, 0.84085415, 0.84004835, 0.84085415]),\n",
       " 'split2_test_score': array([0.82917002, 0.83601934, 0.83763094, 0.84448026, 0.83763094,\n",
       "        0.84206285, 0.83722804, 0.84246575, 0.83843674, 0.84286865,\n",
       "        0.83843674, 0.84286865, 0.83883965, 0.84286865, 0.83924255,\n",
       "        0.84286865, 0.83883965, 0.84286865, 0.83924255, 0.84286865]),\n",
       " 'split3_test_score': array([0.83104839, 0.84032258, 0.84153226, 0.84112903, 0.84112903,\n",
       "        0.84112903, 0.84072581, 0.83951613, 0.84233871, 0.83991935,\n",
       "        0.84112903, 0.84032258, 0.84314516, 0.84032258, 0.84233871,\n",
       "        0.84153226, 0.84153226, 0.84153226, 0.84072581, 0.84032258]),\n",
       " 'split4_test_score': array([0.83306452, 0.84596774, 0.83669355, 0.83548387, 0.84072581,\n",
       "        0.84758065, 0.84112903, 0.84798387, 0.84233871, 0.84758065,\n",
       "        0.84193548, 0.84677419, 0.84112903, 0.84677419, 0.84032258,\n",
       "        0.84758065, 0.84032258, 0.84758065, 0.84112903, 0.84758065]),\n",
       " 'mean_test_score': array([0.83153313, 0.84233435, 0.83951314, 0.84273739, 0.84152829,\n",
       "        0.84410769, 0.84128647, 0.84467193, 0.84241496, 0.84491375,\n",
       "        0.84217314, 0.84483315, 0.84217314, 0.84483315, 0.84209254,\n",
       "        0.84499436, 0.84168951, 0.84499436, 0.84201193, 0.84475254]),\n",
       " 'std_test_score': array([0.00514828, 0.00598843, 0.0040698 , 0.00586389, 0.00451815,\n",
       "        0.00324393, 0.00367478, 0.00468589, 0.00283866, 0.00497601,\n",
       "        0.00337671, 0.004822  , 0.00291254, 0.004822  , 0.00297804,\n",
       "        0.00427419, 0.00312699, 0.00427419, 0.0035097 , 0.0044919 ]),\n",
       " 'rank_test_score': array([20, 11, 19,  9, 17,  8, 18,  7, 10,  3, 12,  4, 12,  4, 14,  1, 16,\n",
       "         1, 15,  6], dtype=int32)}"
      ]
     },
     "execution_count": 42,
     "metadata": {},
     "output_type": "execute_result"
    }
   ],
   "source": [
    "grid_clf.cv_results_"
   ]
  },
  {
   "cell_type": "code",
   "execution_count": 43,
   "metadata": {},
   "outputs": [
    {
     "data": {
      "text/plain": [
       "{'mean_fit_time': array([0.07282624, 0.18524051, 0.08554125, 0.14948182, 0.14716988,\n",
       "        0.17212982, 0.0839107 , 0.09016838, 0.09115787, 0.14676304,\n",
       "        0.08740244, 0.08845091, 0.08708959, 0.08330364, 0.14346976,\n",
       "        0.23385167, 0.09427495, 0.23287501, 0.20317702, 0.078935  ]),\n",
       " 'std_fit_time': array([0.00857727, 0.02903458, 0.01135953, 0.03517716, 0.04790883,\n",
       "        0.03756298, 0.01176686, 0.01596033, 0.01521819, 0.05212849,\n",
       "        0.01434102, 0.01070005, 0.01215805, 0.01192421, 0.00972791,\n",
       "        0.06721937, 0.02484457, 0.08831643, 0.07644638, 0.02343998]),\n",
       " 'mean_score_time': array([0.02560077, 0.00117021, 0.00114994, 0.00114369, 0.00121737,\n",
       "        0.00117111, 0.00112844, 0.00123315, 0.00114865, 0.00115314,\n",
       "        0.00117803, 0.00130763, 0.00128484, 0.00129223, 0.00120649,\n",
       "        0.00173159, 0.0012867 , 0.00136375, 0.00240126, 0.00095477]),\n",
       " 'std_score_time': array([1.94262885e-02, 9.49259793e-05, 1.27138719e-04, 1.26117885e-04,\n",
       "        6.74681612e-05, 6.15228969e-05, 9.44572166e-05, 1.22334559e-04,\n",
       "        5.16926229e-05, 1.13952768e-04, 1.23752794e-04, 1.59743337e-04,\n",
       "        1.43692091e-04, 9.65771247e-05, 9.24033151e-05, 1.23595409e-03,\n",
       "        1.16590088e-04, 3.79628536e-04, 2.73438448e-03, 2.01550984e-04]),\n",
       " 'param_solver': masked_array(data=['liblinear', 'liblinear', 'liblinear', 'liblinear',\n",
       "                    'liblinear', 'liblinear', 'liblinear', 'liblinear',\n",
       "                    'liblinear', 'liblinear', 'liblinear', 'liblinear',\n",
       "                    'liblinear', 'liblinear', 'liblinear', 'liblinear',\n",
       "                    'liblinear', 'liblinear', 'liblinear', 'liblinear'],\n",
       "              mask=[False, False, False, False, False, False, False, False,\n",
       "                    False, False, False, False, False, False, False, False,\n",
       "                    False, False, False, False],\n",
       "        fill_value='?',\n",
       "             dtype=object),\n",
       " 'param_penalty': masked_array(data=['l2', 'l1', 'l2', 'l1', 'l1', 'l1', 'l2', 'l2', 'l2',\n",
       "                    'l1', 'l2', 'l2', 'l2', 'l2', 'l1', 'l1', 'l2', 'l1',\n",
       "                    'l1', 'l2'],\n",
       "              mask=[False, False, False, False, False, False, False, False,\n",
       "                    False, False, False, False, False, False, False, False,\n",
       "                    False, False, False, False],\n",
       "        fill_value='?',\n",
       "             dtype=object),\n",
       " 'param_C': masked_array(data=[5.084666953293032, 0.17786215518347562,\n",
       "                    1.0559619904363065, 1.984550152217639,\n",
       "                    1.150626954048066, 0.23315047095087366,\n",
       "                    0.23626957128070247, 1.984550152217639,\n",
       "                    0.3495357324337571, 0.0639097759737931,\n",
       "                    1.4868952342933441, 0.9445597617195438,\n",
       "                    0.23315047095087366, 1.3292670537238582,\n",
       "                    1.0518800973077442, 0.9445597617195438,\n",
       "                    0.17786215518347562, 1.4868952342933441,\n",
       "                    1.571170902198298, 0.39379214904876253],\n",
       "              mask=[False, False, False, False, False, False, False, False,\n",
       "                    False, False, False, False, False, False, False, False,\n",
       "                    False, False, False, False],\n",
       "        fill_value='?',\n",
       "             dtype=object),\n",
       " 'params': [{'solver': 'liblinear', 'penalty': 'l2', 'C': 5.084666953293032},\n",
       "  {'solver': 'liblinear', 'penalty': 'l1', 'C': 0.17786215518347562},\n",
       "  {'solver': 'liblinear', 'penalty': 'l2', 'C': 1.0559619904363065},\n",
       "  {'solver': 'liblinear', 'penalty': 'l1', 'C': 1.984550152217639},\n",
       "  {'solver': 'liblinear', 'penalty': 'l1', 'C': 1.150626954048066},\n",
       "  {'solver': 'liblinear', 'penalty': 'l1', 'C': 0.23315047095087366},\n",
       "  {'solver': 'liblinear', 'penalty': 'l2', 'C': 0.23626957128070247},\n",
       "  {'solver': 'liblinear', 'penalty': 'l2', 'C': 1.984550152217639},\n",
       "  {'solver': 'liblinear', 'penalty': 'l2', 'C': 0.3495357324337571},\n",
       "  {'solver': 'liblinear', 'penalty': 'l1', 'C': 0.0639097759737931},\n",
       "  {'solver': 'liblinear', 'penalty': 'l2', 'C': 1.4868952342933441},\n",
       "  {'solver': 'liblinear', 'penalty': 'l2', 'C': 0.9445597617195438},\n",
       "  {'solver': 'liblinear', 'penalty': 'l2', 'C': 0.23315047095087366},\n",
       "  {'solver': 'liblinear', 'penalty': 'l2', 'C': 1.3292670537238582},\n",
       "  {'solver': 'liblinear', 'penalty': 'l1', 'C': 1.0518800973077442},\n",
       "  {'solver': 'liblinear', 'penalty': 'l1', 'C': 0.9445597617195438},\n",
       "  {'solver': 'liblinear', 'penalty': 'l2', 'C': 0.17786215518347562},\n",
       "  {'solver': 'liblinear', 'penalty': 'l1', 'C': 1.4868952342933441},\n",
       "  {'solver': 'liblinear', 'penalty': 'l1', 'C': 1.571170902198298},\n",
       "  {'solver': 'liblinear', 'penalty': 'l2', 'C': 0.39379214904876253}],\n",
       " 'split0_test_score': array([0.84810637, 0.84891217, 0.85213537, 0.84730056, 0.84850927,\n",
       "        0.84850927, 0.85213537, 0.85213537, 0.85334408, 0.84730056,\n",
       "        0.85334408, 0.84810637, 0.84810637, 0.85213537, 0.84891217,\n",
       "        0.84730056, 0.85334408, 0.84810637, 0.84850927, 0.85213537]),\n",
       " 'split1_test_score': array([0.84085415, 0.84206285, 0.84085415, 0.83924255, 0.84085415,\n",
       "        0.84165995, 0.84085415, 0.84085415, 0.84085415, 0.84125705,\n",
       "        0.84085415, 0.84085415, 0.84085415, 0.84085415, 0.84165995,\n",
       "        0.83964545, 0.84085415, 0.84206285, 0.84004835, 0.84085415]),\n",
       " 'split2_test_score': array([0.84286865, 0.83803384, 0.84286865, 0.83924255, 0.83883965,\n",
       "        0.83803384, 0.84286865, 0.84286865, 0.84286865, 0.83722804,\n",
       "        0.84286865, 0.84286865, 0.84286865, 0.84286865, 0.83883965,\n",
       "        0.84004835, 0.84286865, 0.83883965, 0.83924255, 0.84286865]),\n",
       " 'split3_test_score': array([0.84153226, 0.84153226, 0.83991935, 0.84153226, 0.84112903,\n",
       "        0.84153226, 0.83991935, 0.84193548, 0.83991935, 0.84112903,\n",
       "        0.84032258, 0.84032258, 0.84032258, 0.84032258, 0.84153226,\n",
       "        0.84193548, 0.84193548, 0.84193548, 0.84153226, 0.84032258]),\n",
       " 'split4_test_score': array([0.84677419, 0.84153226, 0.84717742, 0.84112903, 0.84112903,\n",
       "        0.84233871, 0.84758065, 0.84677419, 0.84677419, 0.84314516,\n",
       "        0.84677419, 0.84758065, 0.84758065, 0.84677419, 0.84032258,\n",
       "        0.84032258, 0.84717742, 0.84032258, 0.84032258, 0.84758065]),\n",
       " 'mean_test_score': array([0.84402708, 0.84241496, 0.84459133, 0.84168951, 0.84209254,\n",
       "        0.84241496, 0.84467193, 0.84491375, 0.84475254, 0.84201193,\n",
       "        0.84483315, 0.84394648, 0.84394648, 0.84459133, 0.84225375,\n",
       "        0.84185072, 0.84523618, 0.84225375, 0.84193132, 0.84475254]),\n",
       " 'std_test_score': array([0.00289217, 0.00355273, 0.00452486, 0.00296013, 0.00332151,\n",
       "        0.00339729, 0.00457354, 0.00412707, 0.00489948, 0.00327122,\n",
       "        0.004822  , 0.00329742, 0.00329742, 0.00440106, 0.00348165,\n",
       "        0.00283429, 0.0045876 , 0.00315561, 0.00337069, 0.0044919 ]),\n",
       " 'rank_test_score': array([ 9, 12,  7, 20, 16, 12,  6,  2,  4, 17,  3, 10, 10,  7, 14, 19,  1,\n",
       "        14, 18,  4], dtype=int32)}"
      ]
     },
     "execution_count": 43,
     "metadata": {},
     "output_type": "execute_result"
    }
   ],
   "source": [
    "best_param_random_clf.cv_results_"
   ]
  },
  {
   "cell_type": "code",
   "execution_count": 44,
   "metadata": {
    "scrolled": false
   },
   "outputs": [
    {
     "data": {
      "image/png": "[encoded data removed]",
      "text/plain": [
       "<Figure size 1440x1440 with 12 Axes>"
      ]
     },
     "metadata": {
      "needs_background": "light"
     },
     "output_type": "display_data"
    }
   ],
   "source": [
    "pd.DataFrame(grid_clf.cv_results_).hist(figsize=(20, 20));"
   ]
  },
  {
   "cell_type": "code",
   "execution_count": 45,
   "metadata": {
    "scrolled": false
   },
   "outputs": [
    {
     "data": {
      "image/png": "[encoded data removed]",
      "text/plain": [
       "<Figure size 1440x1440 with 12 Axes>"
      ]
     },
     "metadata": {
      "needs_background": "light"
     },
     "output_type": "display_data"
    }
   ],
   "source": [
    "pd.DataFrame(random_clf.cv_results_).hist(figsize=(20, 20));"
   ]
  },
  {
   "cell_type": "markdown",
   "metadata": {},
   "source": [
    "## Check Best parameter models"
   ]
  },
  {
   "cell_type": "code",
   "execution_count": 46,
   "metadata": {},
   "outputs": [
    {
     "data": {
      "text/plain": [
       "{'C': 1.2915496650148828, 'penalty': 'l2', 'solver': 'liblinear'}"
      ]
     },
     "execution_count": 46,
     "metadata": {},
     "output_type": "execute_result"
    }
   ],
   "source": [
    "best_param_grid_clf.best_params_"
   ]
  },
  {
   "cell_type": "code",
   "execution_count": 47,
   "metadata": {},
   "outputs": [
    {
     "data": {
      "text/plain": [
       "{'solver': 'liblinear', 'penalty': 'l2', 'C': 0.17786215518347562}"
      ]
     },
     "execution_count": 47,
     "metadata": {},
     "output_type": "execute_result"
    }
   ],
   "source": [
    "best_param_random_clf.best_params_"
   ]
  },
  {
   "cell_type": "markdown",
   "metadata": {},
   "source": [
    "## Predict on test data using best model"
   ]
  },
  {
   "cell_type": "code",
   "execution_count": 48,
   "metadata": {},
   "outputs": [],
   "source": [
    "y_pred_grid = best_param_grid_clf.predict(X_test)"
   ]
  },
  {
   "cell_type": "code",
   "execution_count": 49,
   "metadata": {},
   "outputs": [],
   "source": [
    "y_pred_random = best_param_random_clf.predict(X_test)"
   ]
  },
  {
   "cell_type": "markdown",
   "metadata": {},
   "source": [
    "## Confusion Matrices"
   ]
  },
  {
   "cell_type": "code",
   "execution_count": 138,
   "metadata": {
    "scrolled": true
   },
   "outputs": [
    {
     "data": {
      "text/html": [
       "<div>\n",
       "<style scoped>\n",
       "    .dataframe tbody tr th:only-of-type {\n",
       "        vertical-align: middle;\n",
       "    }\n",
       "\n",
       "    .dataframe tbody tr th {\n",
       "        vertical-align: top;\n",
       "    }\n",
       "\n",
       "    .dataframe thead th {\n",
       "        text-align: right;\n",
       "    }\n",
       "</style>\n",
       "<table border=\"1\" class=\"dataframe\">\n",
       "  <thead>\n",
       "    <tr style=\"text-align: right;\">\n",
       "      <th></th>\n",
       "      <th>True</th>\n",
       "      <th>False</th>\n",
       "    </tr>\n",
       "  </thead>\n",
       "  <tbody>\n",
       "    <tr>\n",
       "      <th>Pred_True</th>\n",
       "      <td>2311</td>\n",
       "      <td>348</td>\n",
       "    </tr>\n",
       "    <tr>\n",
       "      <th>Pred_False</th>\n",
       "      <td>469</td>\n",
       "      <td>2190</td>\n",
       "    </tr>\n",
       "  </tbody>\n",
       "</table>\n",
       "</div>"
      ],
      "text/plain": [
       "            True  False\n",
       "Pred_True   2311    348\n",
       "Pred_False   469   2190"
      ]
     },
     "execution_count": 138,
     "metadata": {},
     "output_type": "execute_result"
    }
   ],
   "source": [
    "get_confusion_matrix(y_test, y_pred_grid)"
   ]
  },
  {
   "cell_type": "code",
   "execution_count": 154,
   "metadata": {
    "scrolled": true
   },
   "outputs": [
    {
     "data": {
      "text/html": [
       "<div>\n",
       "<style scoped>\n",
       "    .dataframe tbody tr th:only-of-type {\n",
       "        vertical-align: middle;\n",
       "    }\n",
       "\n",
       "    .dataframe tbody tr th {\n",
       "        vertical-align: top;\n",
       "    }\n",
       "\n",
       "    .dataframe thead th {\n",
       "        text-align: right;\n",
       "    }\n",
       "</style>\n",
       "<table border=\"1\" class=\"dataframe\">\n",
       "  <thead>\n",
       "    <tr style=\"text-align: right;\">\n",
       "      <th></th>\n",
       "      <th>True</th>\n",
       "      <th>False</th>\n",
       "    </tr>\n",
       "  </thead>\n",
       "  <tbody>\n",
       "    <tr>\n",
       "      <th>Pred_True</th>\n",
       "      <td>2311</td>\n",
       "      <td>348</td>\n",
       "    </tr>\n",
       "    <tr>\n",
       "      <th>Pred_False</th>\n",
       "      <td>469</td>\n",
       "      <td>2190</td>\n",
       "    </tr>\n",
       "  </tbody>\n",
       "</table>\n",
       "</div>"
      ],
      "text/plain": [
       "            True  False\n",
       "Pred_True   2311    348\n",
       "Pred_False   469   2190"
      ]
     },
     "execution_count": 154,
     "metadata": {},
     "output_type": "execute_result"
    }
   ],
   "source": [
    "get_confusion_matrix(y_test, y_pred_random)"
   ]
  },
  {
   "cell_type": "markdown",
   "metadata": {},
   "source": [
    "## classification reports"
   ]
  },
  {
   "cell_type": "code",
   "execution_count": 52,
   "metadata": {
    "scrolled": false
   },
   "outputs": [
    {
     "name": "stdout",
     "output_type": "stream",
     "text": [
      "              precision    recall  f1-score   support\n",
      "\n",
      "           0       0.83      0.87      0.85      2659\n",
      "           1       0.86      0.82      0.84      2659\n",
      "\n",
      "    accuracy                           0.85      5318\n",
      "   macro avg       0.85      0.85      0.85      5318\n",
      "weighted avg       0.85      0.85      0.85      5318\n",
      "\n"
     ]
    }
   ],
   "source": [
    "print(classification_report(y_test, y_pred_grid))"
   ]
  },
  {
   "cell_type": "code",
   "execution_count": 53,
   "metadata": {},
   "outputs": [
    {
     "data": {
      "text/plain": [
       "((2659,), (2659,))"
      ]
     },
     "execution_count": 53,
     "metadata": {},
     "output_type": "execute_result"
    }
   ],
   "source": [
    "y_test[y_test==0].shape, y_test[y_test==1].shape"
   ]
  },
  {
   "cell_type": "code",
   "execution_count": 54,
   "metadata": {},
   "outputs": [
    {
     "name": "stdout",
     "output_type": "stream",
     "text": [
      "              precision    recall  f1-score   support\n",
      "\n",
      "           0       0.83      0.87      0.85      2659\n",
      "           1       0.86      0.82      0.84      2659\n",
      "\n",
      "    accuracy                           0.85      5318\n",
      "   macro avg       0.85      0.85      0.85      5318\n",
      "weighted avg       0.85      0.85      0.85      5318\n",
      "\n"
     ]
    }
   ],
   "source": [
    "print(classification_report(y_test, y_pred_random))"
   ]
  },
  {
   "cell_type": "markdown",
   "metadata": {},
   "source": [
    "## ROC-AUC curves"
   ]
  },
  {
   "cell_type": "code",
   "execution_count": 169,
   "metadata": {},
   "outputs": [
    {
     "data": {
      "image/png": "[encoded data removed]",
      "text/plain": [
       "<Figure size 720x504 with 1 Axes>"
      ]
     },
     "metadata": {
      "needs_background": "light"
     },
     "output_type": "display_data"
    }
   ],
   "source": [
    "plot_roc_auc_curve(y_test, y_pred_grid, best_param_grid_clf, X_test)"
   ]
  },
  {
   "cell_type": "code",
   "execution_count": 170,
   "metadata": {},
   "outputs": [
    {
     "data": {
      "image/png": "[encoded data removed]",
      "text/plain": [
       "<Figure size 720x504 with 1 Axes>"
      ]
     },
     "metadata": {
      "needs_background": "light"
     },
     "output_type": "display_data"
    }
   ],
   "source": [
    "plot_roc_auc_curve(y_test, y_pred_random, best_param_random_clf, X_test)"
   ]
  },
  {
   "cell_type": "code",
   "execution_count": 172,
   "metadata": {},
   "outputs": [],
   "source": [
    "tp, fp, fn, tn = confusion_matrix(y_test, y_pred_grid).ravel()"
   ]
  },
  {
   "cell_type": "code",
   "execution_count": 173,
   "metadata": {},
   "outputs": [],
   "source": [
    "false_positive_rate = fp/(fp+tn)"
   ]
  },
  {
   "cell_type": "code",
   "execution_count": 174,
   "metadata": {},
   "outputs": [],
   "source": [
    "true_positive_rate = tp/(tp+fn)"
   ]
  },
  {
   "cell_type": "code",
   "execution_count": 175,
   "metadata": {},
   "outputs": [
    {
     "name": "stdout",
     "output_type": "stream",
     "text": [
      "false_positive_rate = 0.1371\n",
      "true_positive_rate = 0.8313\n"
     ]
    }
   ],
   "source": [
    "print('false_positive_rate = {:.4f}'.format(false_positive_rate))\n",
    "print('true_positive_rate = {:.4f}'.format(true_positive_rate))"
   ]
  },
  {
   "cell_type": "code",
   "execution_count": 176,
   "metadata": {},
   "outputs": [],
   "source": [
    "fpr, tpr, thresholds = roc_curve(y_test, best_param_grid_clf.predict_proba(X_test)[:,1])"
   ]
  },
  {
   "cell_type": "code",
   "execution_count": 177,
   "metadata": {},
   "outputs": [],
   "source": [
    "roc_data = pd.DataFrame({'fpr':fpr,'tpr':tpr, 'thresholds':thresholds})"
   ]
  },
  {
   "cell_type": "code",
   "execution_count": 185,
   "metadata": {},
   "outputs": [
    {
     "data": {
      "text/html": [
       "<div>\n",
       "<style scoped>\n",
       "    .dataframe tbody tr th:only-of-type {\n",
       "        vertical-align: middle;\n",
       "    }\n",
       "\n",
       "    .dataframe tbody tr th {\n",
       "        vertical-align: top;\n",
       "    }\n",
       "\n",
       "    .dataframe thead th {\n",
       "        text-align: right;\n",
       "    }\n",
       "</style>\n",
       "<table border=\"1\" class=\"dataframe\">\n",
       "  <thead>\n",
       "    <tr style=\"text-align: right;\">\n",
       "      <th></th>\n",
       "      <th>fpr</th>\n",
       "      <th>tpr</th>\n",
       "      <th>thresholds</th>\n",
       "    </tr>\n",
       "  </thead>\n",
       "  <tbody>\n",
       "    <tr>\n",
       "      <th>573</th>\n",
       "      <td>0.136517</td>\n",
       "      <td>0.836029</td>\n",
       "      <td>0.488941</td>\n",
       "    </tr>\n",
       "    <tr>\n",
       "      <th>574</th>\n",
       "      <td>0.136517</td>\n",
       "      <td>0.837909</td>\n",
       "      <td>0.486795</td>\n",
       "    </tr>\n",
       "    <tr>\n",
       "      <th>575</th>\n",
       "      <td>0.136894</td>\n",
       "      <td>0.837909</td>\n",
       "      <td>0.486389</td>\n",
       "    </tr>\n",
       "    <tr>\n",
       "      <th>576</th>\n",
       "      <td>0.136894</td>\n",
       "      <td>0.839789</td>\n",
       "      <td>0.485368</td>\n",
       "    </tr>\n",
       "    <tr>\n",
       "      <th>577</th>\n",
       "      <td>0.138022</td>\n",
       "      <td>0.839789</td>\n",
       "      <td>0.484469</td>\n",
       "    </tr>\n",
       "    <tr>\n",
       "      <th>578</th>\n",
       "      <td>0.138022</td>\n",
       "      <td>0.840165</td>\n",
       "      <td>0.484404</td>\n",
       "    </tr>\n",
       "  </tbody>\n",
       "</table>\n",
       "</div>"
      ],
      "text/plain": [
       "          fpr       tpr  thresholds\n",
       "573  0.136517  0.836029    0.488941\n",
       "574  0.136517  0.837909    0.486795\n",
       "575  0.136894  0.837909    0.486389\n",
       "576  0.136894  0.839789    0.485368\n",
       "577  0.138022  0.839789    0.484469\n",
       "578  0.138022  0.840165    0.484404"
      ]
     },
     "execution_count": 185,
     "metadata": {},
     "output_type": "execute_result"
    }
   ],
   "source": [
    "roc_data.loc[(roc_data['fpr']>0.1360) & (roc_data['fpr']<0.1387)]"
   ]
  },
  {
   "cell_type": "code",
   "execution_count": null,
   "metadata": {},
   "outputs": [],
   "source": []
  }
 ],
 "metadata": {
  "kernelspec": {
   "display_name": "Python 3",
   "language": "python",
   "name": "python3"
  },
  "language_info": {
   "codemirror_mode": {
    "name": "ipython",
    "version": 3
   },
   "file_extension": ".py",
   "mimetype": "text/x-python",
   "name": "python",
   "nbconvert_exporter": "python",
   "pygments_lexer": "ipython3",
   "version": "3.7.5"
  },
  "toc": {
   "base_numbering": 1,
   "nav_menu": {},
   "number_sections": true,
   "sideBar": true,
   "skip_h1_title": false,
   "title_cell": "Table of Contents",
   "title_sidebar": "Contents",
   "toc_cell": false,
   "toc_position": {
    "height": "calc(100% - 180px)",
    "left": "10px",
    "top": "150px",
    "width": "336px"
   },
   "toc_section_display": true,
   "toc_window_display": true
  },
  "varInspector": {
   "cols": {
    "lenName": 16,
    "lenType": 16,
    "lenVar": 40
   },
   "kernels_config": {
    "python": {
     "delete_cmd_postfix": "",
     "delete_cmd_prefix": "del ",
     "library": "var_list.py",
     "varRefreshCmd": "print(var_dic_list())"
    },
    "r": {
     "delete_cmd_postfix": ") ",
     "delete_cmd_prefix": "rm(",
     "library": "var_list.r",
     "varRefreshCmd": "cat(var_dic_list()) "
    }
   },
   "types_to_exclude": [
    "module",
    "function",
    "builtin_function_or_method",
    "instance",
    "_Feature"
   ],
   "window_display": false
  }
 },
 "nbformat": 4,
 "nbformat_minor": 2
}
